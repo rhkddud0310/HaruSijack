{
 "cells": [
  {
   "cell_type": "code",
   "execution_count": 18,
   "metadata": {},
   "outputs": [
    {
     "name": "stdout",
     "output_type": "stream",
     "text": [
      "20240627 100\n",
      " |- 1. 업스테이지-AWS, LLM '솔라' 글로벌 영업 기회 발굴\n",
      " |- 2. 도트 공주들 구하기, 사전예약 앱 '모비'와 컬래버 이벤트 진행\n",
      " |- 3. [창간 16주년 기획: 버튜버 전성시대①] BJ보다 버튜버! 버튜버가 뜬다\n",
      " |- 4. [창간 16주년 기획] 캄보디아 국민 메신저 자리 노리는 유니온모바일 '앙코르 챗'\n",
      " |- 5. \"지속가능한 플레이\"…카카오게임즈, 두 번째 ESG 보고서 발간\n",
      " |- 6. 넷마블 '신의 탑: 새로운 세계', 출시 1주년 맞이 바캉스 대축제 사전등록 오픈\n",
      " |- 7. 넥슨 'FC온라인', 여름방학 구단강화 프로젝트 '무리뉴의 여정' 개시\n",
      " |- 8. SKT, AI로 범죄 예방한다…치안정책연구소와 기술 협약\n",
      " |- 9. 하이브표 '버추얼 걸그룹' 나왔다…'신디에잇' 데뷔\n",
      " |- 10. 게임물관리위원회, 혈액난 극복 위한 ‘사랑의 헌혈’ 실천\n",
      "20240627 101\n",
      " |- 1. 업스테이지-AWS, LLM '솔라' 글로벌 영업 기회 발굴\n",
      " |- 2. 도트 공주들 구하기, 사전예약 앱 '모비'와 컬래버 이벤트 진행\n",
      " |- 3. [창간 16주년 기획: 버튜버 전성시대①] BJ보다 버튜버! 버튜버가 뜬다\n",
      " |- 4. [창간 16주년 기획] 캄보디아 국민 메신저 자리 노리는 유니온모바일 '앙코르 챗'\n",
      " |- 5. \"지속가능한 플레이\"…카카오게임즈, 두 번째 ESG 보고서 발간\n",
      " |- 6. 넷마블 '신의 탑: 새로운 세계', 출시 1주년 맞이 바캉스 대축제 사전등록 오픈\n",
      " |- 7. 넥슨 'FC온라인', 여름방학 구단강화 프로젝트 '무리뉴의 여정' 개시\n",
      " |- 8. SKT, AI로 범죄 예방한다…치안정책연구소와 기술 협약\n",
      " |- 9. 하이브표 '버추얼 걸그룹' 나왔다…'신디에잇' 데뷔\n",
      " |- 10. 게임물관리위원회, 혈액난 극복 위한 ‘사랑의 헌혈’ 실천\n",
      "20240627 102\n",
      " |- 1. 업스테이지-AWS, LLM '솔라' 글로벌 영업 기회 발굴\n",
      " |- 2. 도트 공주들 구하기, 사전예약 앱 '모비'와 컬래버 이벤트 진행\n",
      " |- 3. [창간 16주년 기획: 버튜버 전성시대①] BJ보다 버튜버! 버튜버가 뜬다\n",
      " |- 4. [창간 16주년 기획] 캄보디아 국민 메신저 자리 노리는 유니온모바일 '앙코르 챗'\n",
      " |- 5. \"지속가능한 플레이\"…카카오게임즈, 두 번째 ESG 보고서 발간\n",
      " |- 6. 넷마블 '신의 탑: 새로운 세계', 출시 1주년 맞이 바캉스 대축제 사전등록 오픈\n",
      " |- 7. 넥슨 'FC온라인', 여름방학 구단강화 프로젝트 '무리뉴의 여정' 개시\n",
      " |- 8. SKT, AI로 범죄 예방한다…치안정책연구소와 기술 협약\n",
      " |- 9. 하이브표 '버추얼 걸그룹' 나왔다…'신디에잇' 데뷔\n",
      " |- 10. 게임물관리위원회, 혈액난 극복 위한 ‘사랑의 헌혈’ 실천\n"
     ]
    },
    {
     "ename": "SessionNotCreatedException",
     "evalue": "Message: session not created\nfrom unknown error: cannot create temp dir for user data dir\nStacktrace:\n0   chromedriver                        0x0000000100532a80 chromedriver + 4385408\n1   chromedriver                        0x000000010052b38c chromedriver + 4354956\n2   chromedriver                        0x0000000100148b0c chromedriver + 281356\n3   chromedriver                        0x0000000100176580 chromedriver + 468352\n4   chromedriver                        0x000000010017460c chromedriver + 460300\n5   chromedriver                        0x00000001001b3a78 chromedriver + 719480\n6   chromedriver                        0x000000010017feec chromedriver + 507628\n7   chromedriver                        0x00000001001808c4 chromedriver + 510148\n8   chromedriver                        0x00000001004fa43c chromedriver + 4154428\n9   chromedriver                        0x00000001004feea0 chromedriver + 4173472\n10  chromedriver                        0x00000001004dfff8 chromedriver + 4046840\n11  chromedriver                        0x00000001004ff78c chromedriver + 4175756\n12  chromedriver                        0x00000001004d2fb8 chromedriver + 3993528\n13  chromedriver                        0x000000010051d21c chromedriver + 4297244\n14  chromedriver                        0x000000010051d398 chromedriver + 4297624\n15  chromedriver                        0x000000010052af84 chromedriver + 4353924\n16  libsystem_pthread.dylib             0x000000018efeaf94 _pthread_start + 136\n17  libsystem_pthread.dylib             0x000000018efe5d34 thread_start + 8\n",
     "output_type": "error",
     "traceback": [
      "\u001b[0;31m---------------------------------------------------------------------------\u001b[0m",
      "\u001b[0;31mSessionNotCreatedException\u001b[0m                Traceback (most recent call last)",
      "Cell \u001b[0;32mIn[18], line 50\u001b[0m\n\u001b[1;32m     48\u001b[0m     Main_link\u001b[38;5;241m.\u001b[39mto_csv(\u001b[38;5;124mf\u001b[39m\u001b[38;5;124m\"\u001b[39m\u001b[38;5;124m./Date_\u001b[39m\u001b[38;5;132;01m{\u001b[39;00mdate\u001b[38;5;132;01m}\u001b[39;00m\u001b[38;5;124mSid_\u001b[39m\u001b[38;5;132;01m{\u001b[39;00mSid\u001b[38;5;132;01m}\u001b[39;00m\u001b[38;5;124m.csv\u001b[39m\u001b[38;5;124m\"\u001b[39m,index\u001b[38;5;241m=\u001b[39m\u001b[38;5;28;01mNone\u001b[39;00m)\n\u001b[1;32m     49\u001b[0m \u001b[38;5;28;01mfor\u001b[39;00m i \u001b[38;5;129;01min\u001b[39;00m \u001b[38;5;28mrange\u001b[39m(\u001b[38;5;241m100\u001b[39m,\u001b[38;5;241m107\u001b[39m):\n\u001b[0;32m---> 50\u001b[0m     webcrawling(i)\n",
      "Cell \u001b[0;32mIn[18], line 17\u001b[0m, in \u001b[0;36mwebcrawling\u001b[0;34m(Sid)\u001b[0m\n\u001b[1;32m     15\u001b[0m \u001b[38;5;66;03m# Chrome Browser & Chrome Driver Version Check\u001b[39;00m\n\u001b[1;32m     16\u001b[0m chrome_options \u001b[38;5;241m=\u001b[39m webdriver\u001b[38;5;241m.\u001b[39mChromeOptions()\n\u001b[0;32m---> 17\u001b[0m driver \u001b[38;5;241m=\u001b[39m webdriver\u001b[38;5;241m.\u001b[39mChrome(service \u001b[38;5;241m=\u001b[39m Service(ChromeDriverManager()\u001b[38;5;241m.\u001b[39minstall()), options \u001b[38;5;241m=\u001b[39m chrome_options)\n\u001b[1;32m     18\u001b[0m time\u001b[38;5;241m.\u001b[39msleep(np\u001b[38;5;241m.\u001b[39mrandom\u001b[38;5;241m.\u001b[39mrand()\u001b[38;5;241m+\u001b[39m\u001b[38;5;241m0.83\u001b[39m)\n\u001b[1;32m     19\u001b[0m today \u001b[38;5;241m=\u001b[39m datetime\u001b[38;5;241m.\u001b[39mdate\u001b[38;5;241m.\u001b[39mtoday()\n",
      "File \u001b[0;32m/opt/anaconda3/lib/python3.11/site-packages/selenium/webdriver/chrome/webdriver.py:45\u001b[0m, in \u001b[0;36mWebDriver.__init__\u001b[0;34m(self, options, service, keep_alive)\u001b[0m\n\u001b[1;32m     42\u001b[0m service \u001b[38;5;241m=\u001b[39m service \u001b[38;5;28;01mif\u001b[39;00m service \u001b[38;5;28;01melse\u001b[39;00m Service()\n\u001b[1;32m     43\u001b[0m options \u001b[38;5;241m=\u001b[39m options \u001b[38;5;28;01mif\u001b[39;00m options \u001b[38;5;28;01melse\u001b[39;00m Options()\n\u001b[0;32m---> 45\u001b[0m \u001b[38;5;28msuper\u001b[39m()\u001b[38;5;241m.\u001b[39m\u001b[38;5;21m__init__\u001b[39m(\n\u001b[1;32m     46\u001b[0m     browser_name\u001b[38;5;241m=\u001b[39mDesiredCapabilities\u001b[38;5;241m.\u001b[39mCHROME[\u001b[38;5;124m\"\u001b[39m\u001b[38;5;124mbrowserName\u001b[39m\u001b[38;5;124m\"\u001b[39m],\n\u001b[1;32m     47\u001b[0m     vendor_prefix\u001b[38;5;241m=\u001b[39m\u001b[38;5;124m\"\u001b[39m\u001b[38;5;124mgoog\u001b[39m\u001b[38;5;124m\"\u001b[39m,\n\u001b[1;32m     48\u001b[0m     options\u001b[38;5;241m=\u001b[39moptions,\n\u001b[1;32m     49\u001b[0m     service\u001b[38;5;241m=\u001b[39mservice,\n\u001b[1;32m     50\u001b[0m     keep_alive\u001b[38;5;241m=\u001b[39mkeep_alive,\n\u001b[1;32m     51\u001b[0m )\n",
      "File \u001b[0;32m/opt/anaconda3/lib/python3.11/site-packages/selenium/webdriver/chromium/webdriver.py:66\u001b[0m, in \u001b[0;36mChromiumDriver.__init__\u001b[0;34m(self, browser_name, vendor_prefix, options, service, keep_alive)\u001b[0m\n\u001b[1;32m     57\u001b[0m executor \u001b[38;5;241m=\u001b[39m ChromiumRemoteConnection(\n\u001b[1;32m     58\u001b[0m     remote_server_addr\u001b[38;5;241m=\u001b[39m\u001b[38;5;28mself\u001b[39m\u001b[38;5;241m.\u001b[39mservice\u001b[38;5;241m.\u001b[39mservice_url,\n\u001b[1;32m     59\u001b[0m     browser_name\u001b[38;5;241m=\u001b[39mbrowser_name,\n\u001b[0;32m   (...)\u001b[0m\n\u001b[1;32m     62\u001b[0m     ignore_proxy\u001b[38;5;241m=\u001b[39moptions\u001b[38;5;241m.\u001b[39m_ignore_local_proxy,\n\u001b[1;32m     63\u001b[0m )\n\u001b[1;32m     65\u001b[0m \u001b[38;5;28;01mtry\u001b[39;00m:\n\u001b[0;32m---> 66\u001b[0m     \u001b[38;5;28msuper\u001b[39m()\u001b[38;5;241m.\u001b[39m\u001b[38;5;21m__init__\u001b[39m(command_executor\u001b[38;5;241m=\u001b[39mexecutor, options\u001b[38;5;241m=\u001b[39moptions)\n\u001b[1;32m     67\u001b[0m \u001b[38;5;28;01mexcept\u001b[39;00m \u001b[38;5;167;01mException\u001b[39;00m:\n\u001b[1;32m     68\u001b[0m     \u001b[38;5;28mself\u001b[39m\u001b[38;5;241m.\u001b[39mquit()\n",
      "File \u001b[0;32m/opt/anaconda3/lib/python3.11/site-packages/selenium/webdriver/remote/webdriver.py:208\u001b[0m, in \u001b[0;36mWebDriver.__init__\u001b[0;34m(self, command_executor, keep_alive, file_detector, options)\u001b[0m\n\u001b[1;32m    206\u001b[0m \u001b[38;5;28mself\u001b[39m\u001b[38;5;241m.\u001b[39m_authenticator_id \u001b[38;5;241m=\u001b[39m \u001b[38;5;28;01mNone\u001b[39;00m\n\u001b[1;32m    207\u001b[0m \u001b[38;5;28mself\u001b[39m\u001b[38;5;241m.\u001b[39mstart_client()\n\u001b[0;32m--> 208\u001b[0m \u001b[38;5;28mself\u001b[39m\u001b[38;5;241m.\u001b[39mstart_session(capabilities)\n",
      "File \u001b[0;32m/opt/anaconda3/lib/python3.11/site-packages/selenium/webdriver/remote/webdriver.py:292\u001b[0m, in \u001b[0;36mWebDriver.start_session\u001b[0;34m(self, capabilities)\u001b[0m\n\u001b[1;32m    285\u001b[0m \u001b[38;5;250m\u001b[39m\u001b[38;5;124;03m\"\"\"Creates a new session with the desired capabilities.\u001b[39;00m\n\u001b[1;32m    286\u001b[0m \n\u001b[1;32m    287\u001b[0m \u001b[38;5;124;03m:Args:\u001b[39;00m\n\u001b[1;32m    288\u001b[0m \u001b[38;5;124;03m - capabilities - a capabilities dict to start the session with.\u001b[39;00m\n\u001b[1;32m    289\u001b[0m \u001b[38;5;124;03m\"\"\"\u001b[39;00m\n\u001b[1;32m    291\u001b[0m caps \u001b[38;5;241m=\u001b[39m _create_caps(capabilities)\n\u001b[0;32m--> 292\u001b[0m response \u001b[38;5;241m=\u001b[39m \u001b[38;5;28mself\u001b[39m\u001b[38;5;241m.\u001b[39mexecute(Command\u001b[38;5;241m.\u001b[39mNEW_SESSION, caps)[\u001b[38;5;124m\"\u001b[39m\u001b[38;5;124mvalue\u001b[39m\u001b[38;5;124m\"\u001b[39m]\n\u001b[1;32m    293\u001b[0m \u001b[38;5;28mself\u001b[39m\u001b[38;5;241m.\u001b[39msession_id \u001b[38;5;241m=\u001b[39m response\u001b[38;5;241m.\u001b[39mget(\u001b[38;5;124m\"\u001b[39m\u001b[38;5;124msessionId\u001b[39m\u001b[38;5;124m\"\u001b[39m)\n\u001b[1;32m    294\u001b[0m \u001b[38;5;28mself\u001b[39m\u001b[38;5;241m.\u001b[39mcaps \u001b[38;5;241m=\u001b[39m response\u001b[38;5;241m.\u001b[39mget(\u001b[38;5;124m\"\u001b[39m\u001b[38;5;124mcapabilities\u001b[39m\u001b[38;5;124m\"\u001b[39m)\n",
      "File \u001b[0;32m/opt/anaconda3/lib/python3.11/site-packages/selenium/webdriver/remote/webdriver.py:347\u001b[0m, in \u001b[0;36mWebDriver.execute\u001b[0;34m(self, driver_command, params)\u001b[0m\n\u001b[1;32m    345\u001b[0m response \u001b[38;5;241m=\u001b[39m \u001b[38;5;28mself\u001b[39m\u001b[38;5;241m.\u001b[39mcommand_executor\u001b[38;5;241m.\u001b[39mexecute(driver_command, params)\n\u001b[1;32m    346\u001b[0m \u001b[38;5;28;01mif\u001b[39;00m response:\n\u001b[0;32m--> 347\u001b[0m     \u001b[38;5;28mself\u001b[39m\u001b[38;5;241m.\u001b[39merror_handler\u001b[38;5;241m.\u001b[39mcheck_response(response)\n\u001b[1;32m    348\u001b[0m     response[\u001b[38;5;124m\"\u001b[39m\u001b[38;5;124mvalue\u001b[39m\u001b[38;5;124m\"\u001b[39m] \u001b[38;5;241m=\u001b[39m \u001b[38;5;28mself\u001b[39m\u001b[38;5;241m.\u001b[39m_unwrap_value(response\u001b[38;5;241m.\u001b[39mget(\u001b[38;5;124m\"\u001b[39m\u001b[38;5;124mvalue\u001b[39m\u001b[38;5;124m\"\u001b[39m, \u001b[38;5;28;01mNone\u001b[39;00m))\n\u001b[1;32m    349\u001b[0m     \u001b[38;5;28;01mreturn\u001b[39;00m response\n",
      "File \u001b[0;32m/opt/anaconda3/lib/python3.11/site-packages/selenium/webdriver/remote/errorhandler.py:229\u001b[0m, in \u001b[0;36mErrorHandler.check_response\u001b[0;34m(self, response)\u001b[0m\n\u001b[1;32m    227\u001b[0m         alert_text \u001b[38;5;241m=\u001b[39m value[\u001b[38;5;124m\"\u001b[39m\u001b[38;5;124malert\u001b[39m\u001b[38;5;124m\"\u001b[39m]\u001b[38;5;241m.\u001b[39mget(\u001b[38;5;124m\"\u001b[39m\u001b[38;5;124mtext\u001b[39m\u001b[38;5;124m\"\u001b[39m)\n\u001b[1;32m    228\u001b[0m     \u001b[38;5;28;01mraise\u001b[39;00m exception_class(message, screen, stacktrace, alert_text)  \u001b[38;5;66;03m# type: ignore[call-arg]  # mypy is not smart enough here\u001b[39;00m\n\u001b[0;32m--> 229\u001b[0m \u001b[38;5;28;01mraise\u001b[39;00m exception_class(message, screen, stacktrace)\n",
      "\u001b[0;31mSessionNotCreatedException\u001b[0m: Message: session not created\nfrom unknown error: cannot create temp dir for user data dir\nStacktrace:\n0   chromedriver                        0x0000000100532a80 chromedriver + 4385408\n1   chromedriver                        0x000000010052b38c chromedriver + 4354956\n2   chromedriver                        0x0000000100148b0c chromedriver + 281356\n3   chromedriver                        0x0000000100176580 chromedriver + 468352\n4   chromedriver                        0x000000010017460c chromedriver + 460300\n5   chromedriver                        0x00000001001b3a78 chromedriver + 719480\n6   chromedriver                        0x000000010017feec chromedriver + 507628\n7   chromedriver                        0x00000001001808c4 chromedriver + 510148\n8   chromedriver                        0x00000001004fa43c chromedriver + 4154428\n9   chromedriver                        0x00000001004feea0 chromedriver + 4173472\n10  chromedriver                        0x00000001004dfff8 chromedriver + 4046840\n11  chromedriver                        0x00000001004ff78c chromedriver + 4175756\n12  chromedriver                        0x00000001004d2fb8 chromedriver + 3993528\n13  chromedriver                        0x000000010051d21c chromedriver + 4297244\n14  chromedriver                        0x000000010051d398 chromedriver + 4297624\n15  chromedriver                        0x000000010052af84 chromedriver + 4353924\n16  libsystem_pthread.dylib             0x000000018efeaf94 _pthread_start + 136\n17  libsystem_pthread.dylib             0x000000018efe5d34 thread_start + 8\n"
     ]
    }
   ],
   "source": [
    "def webcrawling(Sid):\n",
    "    import pandas as pd\n",
    "    from bs4 import BeautifulSoup \n",
    "    import time, random\n",
    "    from selenium import webdriver\n",
    "    from selenium.webdriver.chrome.service import Service\n",
    "    from webdriver_manager.chrome import ChromeDriverManager\n",
    "    from selenium.webdriver.common.by import By\n",
    "    import requests\n",
    "    import urllib.request as req\n",
    "    import numpy as np\n",
    "    from selenium.webdriver.support import expected_conditions as EC\n",
    "    from selenium.webdriver.support.ui import WebDriverWait\n",
    "    import datetime\n",
    "    # Chrome Browser & Chrome Driver Version Check\n",
    "    chrome_options = webdriver.ChromeOptions()\n",
    "    driver = webdriver.Chrome(service = Service(ChromeDriverManager().install()), options = chrome_options)\n",
    "    time.sleep(np.random.rand()+0.83)\n",
    "    today = datetime.date.today()\n",
    "    formatted_date = today.strftime(\"%Y%m%d\")\n",
    "    print(formatted_date,Sid)\n",
    "    date = formatted_date\n",
    "    # link = f'https://news.naver.com/main/list.naver?mode=LS2D&sid2=229&sid1={Sid}&mid=shm&date='\n",
    "\n",
    "    link=f'https://news.naver.com/breakingnews/section/{Sid}/229?date='\n",
    "    main_link = link+date\n",
    "    Main_link = pd.DataFrame({'number':[], 'title':[], 'link':[]})\n",
    "    driver.get(main_link)\n",
    "    more_button = WebDriverWait(driver, 0.4).until(\n",
    "        EC.presence_of_element_located((By.CLASS_NAME, 'section_more_inner._CONTENT_LIST_LOAD_MORE_BUTTON'))\n",
    "    )\n",
    "    itter = 0\n",
    "    while itter < 5 : \n",
    "        try :\n",
    "            itter+=1 \n",
    "            more_button.click()\n",
    "            time.sleep(np.random.rand()+0.83)\n",
    "        except : continue\n",
    "    articles = driver.find_elements(By.CLASS_NAME, 'sa_text_title')\n",
    "\n",
    "    for i in range(len(articles)):\n",
    "        if i <10: ## 기사는 100개이하로 가져온다. \n",
    "            title = articles[i].text.strip()\n",
    "            print(f\" |- {i+1}.\",title)\n",
    "            link = articles[i].get_attribute('href')\n",
    "            li = [i+1, title, link]\n",
    "            Main_link.loc[i] = li # 행 추가 \n",
    "    Main_link.to_csv(f\"./Date_{date}Sid_{Sid}.csv\",index=None)\n",
    "for i in range(100,107):\n",
    "    webcrawling(i)"
   ]
  },
  {
   "cell_type": "code",
   "execution_count": 10,
   "metadata": {},
   "outputs": [
    {
     "name": "stdout",
     "output_type": "stream",
     "text": [
      "multiprocessCrawl.py\n",
      "./multiprocessCrawl.py\n",
      "01.CrawlNew.ipynb\n",
      "./01.CrawlNew.ipynb\n",
      "NewsData\n",
      "./NewsData\n",
      "00.Crawling.ipynb\n",
      "./00.Crawling.ipynb\n"
     ]
    }
   ],
   "source": [
    "import os \n",
    "for i in os.listdir(os.curdir):\n",
    "    print(i)\n",
    "    print(os.path.join(os.curdir,i))"
   ]
  },
  {
   "cell_type": "code",
   "execution_count": null,
   "metadata": {},
   "outputs": [],
   "source": []
  },
  {
   "cell_type": "code",
   "execution_count": null,
   "metadata": {},
   "outputs": [],
   "source": []
  },
  {
   "cell_type": "code",
   "execution_count": null,
   "metadata": {},
   "outputs": [],
   "source": []
  },
  {
   "cell_type": "code",
   "execution_count": null,
   "metadata": {},
   "outputs": [],
   "source": []
  },
  {
   "cell_type": "code",
   "execution_count": null,
   "metadata": {},
   "outputs": [],
   "source": []
  },
  {
   "cell_type": "code",
   "execution_count": null,
   "metadata": {},
   "outputs": [],
   "source": []
  }
 ],
 "metadata": {
  "kernelspec": {
   "display_name": "base",
   "language": "python",
   "name": "python3"
  },
  "language_info": {
   "codemirror_mode": {
    "name": "ipython",
    "version": 3
   },
   "file_extension": ".py",
   "mimetype": "text/x-python",
   "name": "python",
   "nbconvert_exporter": "python",
   "pygments_lexer": "ipython3",
   "version": "3.11.7"
  }
 },
 "nbformat": 4,
 "nbformat_minor": 2
}
