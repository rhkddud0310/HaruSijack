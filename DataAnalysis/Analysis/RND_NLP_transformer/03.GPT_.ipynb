{
 "cells": [
  {
   "cell_type": "markdown",
   "metadata": {},
   "source": [
    "### OPEN API 를 이용한 챗봇 시스템 "
   ]
  },
  {
   "cell_type": "code",
   "execution_count": 3,
   "metadata": {},
   "outputs": [
    {
     "name": "stdout",
     "output_type": "stream",
     "text": [
      "Name: openapi\n",
      "Version: 2.0.0\n",
      "Summary: Python OpenAPI 2.0 (Swagger) object model\n",
      "Home-page: https://github.com/globality-corp/openapi\n",
      "Author: Globality Engineering\n",
      "Author-email: engineering@globality.com\n",
      "License: \n",
      "Location: /opt/anaconda3/lib/python3.11/site-packages\n",
      "Requires: inflection, jsonschema\n",
      "Required-by: \n"
     ]
    }
   ],
   "source": [
    "!pip show openapi\n",
    "# !pip install openai"
   ]
  },
  {
   "cell_type": "markdown",
   "metadata": {},
   "source": [
    "---\n",
    "### OPENAI API 호출 예제 "
   ]
  },
  {
   "cell_type": "code",
   "execution_count": 2,
   "metadata": {},
   "outputs": [
    {
     "name": "stdout",
     "output_type": "stream",
     "text": [
      "{'choices': [{'finish_reason': 'stop',\n",
      "              'index': 0,\n",
      "              'logprobs': None,\n",
      "              'message': {'content': '죄송합니다, 현재 군자역의 혼잡도 정보는 제공할 수 없습니다. 지하철 '\n",
      "                                     '혼잡도 정보는 정확한 정보를 제공하기 어렵기 때문에, 실제 상황을 직접 '\n",
      "                                     '확인하시거나 해당 역의 운영사인 서울교통공사나 교통안전공단의 공식 '\n",
      "                                     '웹사이트나 앱을 이용하여 확인하시는 것이 좋습니다.',\n",
      "                          'function_call': None,\n",
      "                          'role': 'assistant',\n",
      "                          'tool_calls': None}}],\n",
      " 'created': 1719908887,\n",
      " 'id': 'chatcmpl-9gT9r69FfqpT9fbGuOf6IOQ4BT7v0',\n",
      " 'model': 'gpt-3.5-turbo-1106',\n",
      " 'object': 'chat.completion',\n",
      " 'service_tier': None,\n",
      " 'system_fingerprint': 'fp_44132a4de3',\n",
      " 'usage': {'completion_tokens': 132, 'prompt_tokens': 36, 'total_tokens': 168}}\n"
     ]
    }
   ],
   "source": [
    "from openai import OpenAI\n",
    "from pprint import pprint\n",
    "import os\n",
    "api_key=os.environ.get(\"OPENAI_API_KEY\")\n",
    "client = OpenAI(api_key=api_key)\n",
    "\n",
    "client = OpenAI(api_key=api_key)\n",
    "model = 'gpt-3.5-turbo-1106'\n",
    "\n",
    "messages = [\n",
    "    {'role':'system','content': 'You are a helphful assistant.'},\n",
    "    {'role':'user','content': '군자역 혼잡도 알려줘?'}\n",
    "]\n",
    "response = client.chat.completions.create(model=model, messages=messages).model_dump()\n",
    "pprint(response)"
   ]
  },
  {
   "cell_type": "markdown",
   "metadata": {},
   "source": [
    "> gpt 는 json type 으로 답을 넘겨준다. "
   ]
  },
  {
   "cell_type": "markdown",
   "metadata": {},
   "source": [
    "---\n",
    "### \n",
    "\n",
    " * [model dump ]\n",
    "    : 메서드 체이닝 -> 메서드를 연쇄적으로 호출하는 방식 "
   ]
  }
 ],
 "metadata": {
  "kernelspec": {
   "display_name": "base",
   "language": "python",
   "name": "python3"
  },
  "language_info": {
   "codemirror_mode": {
    "name": "ipython",
    "version": 3
   },
   "file_extension": ".py",
   "mimetype": "text/x-python",
   "name": "python",
   "nbconvert_exporter": "python",
   "pygments_lexer": "ipython3",
   "version": "3.11.7"
  }
 },
 "nbformat": 4,
 "nbformat_minor": 2
}
