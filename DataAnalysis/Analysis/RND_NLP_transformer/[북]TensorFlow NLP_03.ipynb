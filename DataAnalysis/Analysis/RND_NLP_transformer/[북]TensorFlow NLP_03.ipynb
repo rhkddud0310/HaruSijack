{
 "cells": [
  {
   "cell_type": "markdown",
   "metadata": {},
   "source": [
    "---\n",
    "### Chapter 3 \n",
    "- 텍스트 분류\n",
    "- 텍스트 유사도\n",
    "- 텍스트 생성\n",
    "- 기계 이해 \n"
   ]
  },
  {
   "cell_type": "markdown",
   "metadata": {},
   "source": [
    "---\n",
    "#### 단어 임베딩 ( 벡터화 ) 에 4대하여 \n",
    "- one hot 의 단점 : 단어 벡터의 크기가 너무 크고 희소하다는 문제, 단어 벡터가 단어의 의미나 특성을 전혀 표현할 수없다는 문제 가 있음. \n",
    "- 분포가설( Distributed hypothesis) \n",
    "    : 비슷 환 위치에 나오는 단어는 비슷한 의미를 가진다. \n",
    "    1. 카운트 기반 방법 (Co-occurrence)\n",
    "    2. 예측 방법 (신경망 사용 )\n",
    "        - Word2vec :\n",
    "            * CBOW(Continuous Bag of Words) : 어떤 단어를 문맥 안의 주변 단어들을 통해 예측 \n",
    "            * Skip-Gram  : 어떤 단어를 가지고 특정 문맥안의 주변 단어들을 예측하는 방법\n",
    "            <img src = \"https://www.notion.so/image/https%3A%2F%2Fprod-files-secure.s3.us-west-2.amazonaws.com%2F914ff162-e9aa-4454-80d2-30b702551154%2F30356fcc-4e9c-40ab-b2f7-7e0d2d868152%2FUntitled.png?table=block&id=e4ab956d-01f1-42af-95e9-d0893e96468e&spaceId=914ff162-e9aa-4454-80d2-30b702551154&width=1710&userId=d72aebc7-576c-4f0e-9c69-1d5d32da7874&cache=v2\" width=\"400\" height=\"300\"/><br> \n",
    "\n",
    "            => word2Vec 의 두모델은 기존의 카운트 기반 방법으로 만든 단어 벡터보다 단어 간의 유사도를 잘 측정한다. 그리고 단어들의 복잡한 특징까지도 잘 잡는다. \n",
    "        - NNLM(Neural Network Language Model)\n",
    "        - RNNLM(Recurrent Neural Network Language Model )\n",
    "                        \n",
    "\n"
   ]
  },
  {
   "cell_type": "code",
   "execution_count": 3,
   "metadata": {},
   "outputs": [
    {
     "name": "stdout",
     "output_type": "stream",
     "text": [
      "\n",
      "            <img src = \"\u001b[92mhttps://www.notion.so/image/https%3A%2F%2Fprod-files-secure.s3.us-west-2.amazonaws.com%2F914ff162-e9aa-4454-80d2-30b702551154%2F30356fcc-4e9c-40ab-b2f7-7e0d2d868152%2FUntitled.png?table=block&id=e4ab956d-01f1-42af-95e9-d0893e96468e&spaceId=914ff162-e9aa-4454-80d2-30b702551154&width=1710&userId=d72aebc7-576c-4f0e-9c69-1d5d32da7874&cache=v2\u001b[0m\" width=\"400\" height=\"300\"/><br>\n",
      "            \n"
     ]
    }
   ],
   "source": [
    "from Functions import NLP_Service as N\n",
    "N.imd(\"https://www.notion.so/image/https%3A%2F%2Fprod-files-secure.s3.us-west-2.amazonaws.com%2F914ff162-e9aa-4454-80d2-30b702551154%2F30356fcc-4e9c-40ab-b2f7-7e0d2d868152%2FUntitled.png?table=block&id=e4ab956d-01f1-42af-95e9-d0893e96468e&spaceId=914ff162-e9aa-4454-80d2-30b702551154&width=1710&userId=d72aebc7-576c-4f0e-9c69-1d5d32da7874&cache=v2\")"
   ]
  },
  {
   "cell_type": "code",
   "execution_count": null,
   "metadata": {},
   "outputs": [],
   "source": []
  },
  {
   "cell_type": "code",
   "execution_count": null,
   "metadata": {},
   "outputs": [],
   "source": []
  },
  {
   "cell_type": "code",
   "execution_count": null,
   "metadata": {},
   "outputs": [],
   "source": []
  },
  {
   "cell_type": "code",
   "execution_count": null,
   "metadata": {},
   "outputs": [],
   "source": []
  },
  {
   "cell_type": "code",
   "execution_count": null,
   "metadata": {},
   "outputs": [],
   "source": []
  },
  {
   "cell_type": "code",
   "execution_count": null,
   "metadata": {},
   "outputs": [],
   "source": []
  },
  {
   "cell_type": "code",
   "execution_count": null,
   "metadata": {},
   "outputs": [],
   "source": []
  },
  {
   "cell_type": "code",
   "execution_count": null,
   "metadata": {},
   "outputs": [],
   "source": []
  },
  {
   "cell_type": "code",
   "execution_count": null,
   "metadata": {},
   "outputs": [],
   "source": []
  },
  {
   "cell_type": "code",
   "execution_count": null,
   "metadata": {},
   "outputs": [],
   "source": []
  }
 ],
 "metadata": {
  "kernelspec": {
   "display_name": "base",
   "language": "python",
   "name": "python3"
  },
  "language_info": {
   "codemirror_mode": {
    "name": "ipython",
    "version": 3
   },
   "file_extension": ".py",
   "mimetype": "text/x-python",
   "name": "python",
   "nbconvert_exporter": "python",
   "pygments_lexer": "ipython3",
   "version": "3.11.7"
  }
 },
 "nbformat": 4,
 "nbformat_minor": 2
}
