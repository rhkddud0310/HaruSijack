{
 "cells": [
  {
   "cell_type": "markdown",
   "metadata": {},
   "source": [
    "---\n",
    "### 도서 : [tensorflow 2 로 자연처리]\n",
    "\n",
    "# Chapter 2 . 자연어 처리에 사용되는 다양한 도구 예시 "
   ]
  },
  {
   "cell_type": "markdown",
   "metadata": {},
   "source": [
    "#\n",
    "Tensorflow \n",
    "drop out\n",
    "Dense"
   ]
  },
  {
   "cell_type": "code",
   "execution_count": 1,
   "metadata": {},
   "outputs": [
    {
     "name": "stdout",
     "output_type": "stream",
     "text": [
      "\u001b[93m📌 - PROGRAM START \n",
      "\t\u001b[0m\n",
      "\u001b[93m📌 - MPS 장치를 지원 Build 여부 : \u001b[0m True\n",
      "\u001b[93m📌 - MPS 장치 사용가능 여부 : \u001b[0m True\n",
      "\u001b[93m📌 - GPU 사용Start\u001b[0m\n"
     ]
    }
   ],
   "source": [
    "## Forrest Park's notion  ## Updated 2024.07.03\n",
    "### Service  Text Coloring option\n",
    "from Functions import Service as S\n",
    "def blue(str):return S.colored_text(str,'blue')\n",
    "def yellow(str):return S.colored_text(str,'yellow')\n",
    "def red(str):return S.colored_text(str,'red')\n",
    "def green(str):return S.colored_text(str,'green')\n",
    "def imd(str):return S.imd(green(str))\n",
    "## 자연어처리 패키지 설치 \n",
    "def NLPInstalls():\n",
    "    import subprocess,sys\n",
    "    import warnings ; warnings.filterwarnings('ignore')\n",
    "    # pip가 없으면 pip를 설치\n",
    "    try:import pip\n",
    "    except ImportError:\n",
    "        print(\"Install pip for python3\")\n",
    "        subprocess.call(['sudo', 'apt-get', 'install', 'python3-pip'])\n",
    "    \n",
    "    # tweepy 없으면 tweepy 설치\n",
    "    try:import tweepy        \n",
    "    except ModuleNotFoundError:\n",
    "        print(\"Install tweepy\")\n",
    "        subprocess.call([sys.executable, \"-m\", \"pip\", \"install\", 'tweepy==3.10.0'])\n",
    "    finally:import tweepy \n",
    "    \n",
    "    # konlpy 없으면 konlpy 설치\n",
    "    try:import konlpy\n",
    "    except ModuleNotFoundError: \n",
    "        print(\"Install konlpy\")\n",
    "        subprocess.call([sys.executable, \"-m\", \"pip\", \"install\", 'konlpy'])\n",
    "    finally:import konlpy\n",
    "    \n",
    "    # eunjeon 없으면 eunjeon 설치\n",
    "    try:import eunjeon\n",
    "    except ModuleNotFoundError: \n",
    "        print(\"Install eunjeon : eunjeon\")\n",
    "        subprocess.call([sys.executable, \"-m\", \"pip\", \"install\", 'eunjeon'])\n",
    "    finally:import konlpy\n",
    "    \n",
    "    # datasets 없으면 datasets를 설치\n",
    "    try:import datasets\n",
    "    except ModuleNotFoundError: \n",
    "        print(\"Install datasets : datasets\")\n",
    "        subprocess.call([sys.executable, \"-m\", \"pip\", \"install\", 'datasets'])\n",
    "    finally:import datasets\n",
    "    \n",
    "    # pytorch 없으면 pytorch 설치\n",
    "    try:import torch\n",
    "    except ModuleNotFoundError: \n",
    "        print(\"Install torch : pytorch\")\n",
    "        subprocess.call([sys.executable, \"-m\", \"pip\", \"install\", 'pytorch'])\n",
    "    finally:import torch\n",
    "    \n",
    "    # transformers 없으면 transformers 설치\n",
    "    try:import transformers\n",
    "    except ModuleNotFoundError: \n",
    "        print(\"Install transformer : transformers\")\n",
    "        subprocess.call([sys.executable, \"-m\", \"pip\", \"install\", 'transformers'])\n",
    "    finally:import transformers\n",
    "        \n",
    "    # UMAP 없으면 UMAP 설치\n",
    "    try:import umap\n",
    "    except ModuleNotFoundError: \n",
    "        print(\"Install umap : umap\")\n",
    "        subprocess.call([sys.executable, \"-m\", \"pip\", \"install\", 'umap'])\n",
    "    finally:import umap\n",
    "        \n",
    "    # UMAP 없으면 UMAP 설치\n",
    "    try:from umap import UMAP\n",
    "    except ImportError: \n",
    "        print(\"Install umap : umap-learn\")\n",
    "        subprocess.call([sys.executable, \"-m\", \"pip\", \"install\", 'umap-learn'])\n",
    "    finally:import umap\n",
    "   \n",
    "# NLPInstalls()\n",
    "print(yellow(f\"📌 - PROGRAM START \\n\\t\"))\n",
    "## GPU setting (in MacOS)\n",
    "import torch\n",
    "print(yellow(f\"📌 - MPS 장치를 지원 Build 여부 : \"),torch.backends.mps.is_built())\n",
    "print(yellow(f\"📌 - MPS 장치 사용가능 여부 : \"),torch.backends.mps.is_available())\n",
    "print(yellow(f\"📌 - GPU 사용Start\"))\n",
    "# device = torch.device(\"mps\")\n",
    "device = torch.device('cuda' if torch.cuda.is_available() else 'cpu')\n",
    "#### Jupyter Basic Setting ####\n",
    "import pandas as pd,numpy as np\n",
    "import matplotlib.pyplot as plt,seaborn as sns  # 시각화\n",
    "import warnings; warnings.filterwarnings('ignore')  # 경고 무시\n",
    "import sys,os \n",
    "from pprint import pprint\n"
   ]
  },
  {
   "cell_type": "markdown",
   "metadata": {},
   "source": [
    "---\n",
    "### Tensor flow 간단한 자연어 처리 예시 01 page 53"
   ]
  },
  {
   "cell_type": "code",
   "execution_count": 2,
   "metadata": {},
   "outputs": [
    {
     "name": "stdout",
     "output_type": "stream",
     "text": [
      "\u001b[93m📌 - text =>sequences\u001b[0m\n",
      "[' 너 오늘 이뻐 보인다 => [4, 1, 5, 6]',\n",
      " '나는 오늘 기분이 더러워  => [7, 1, 8, 9]',\n",
      " '끝내주는데, 좋은 일이 있나봐 => [10, 2, 3, 11]',\n",
      " '나 좋은 일이 생겼어 => [12, 2, 3, 13]',\n",
      " '아 오늘 진짜 짜증나 => [14, 1, 15, 16]',\n",
      " '환상적인데, 정말 좋은 거 같아  => [17, 18, 2, 19, 20]']\n",
      "\u001b[93m\n",
      "📌 - word index\u001b[0m\n",
      "{'같아': 20,\n",
      " '거': 19,\n",
      " '기분이': 8,\n",
      " '끝내주는데': 10,\n",
      " '나': 12,\n",
      " '나는': 7,\n",
      " '너': 4,\n",
      " '더러워': 9,\n",
      " '보인다': 6,\n",
      " '생겼어': 13,\n",
      " '아': 14,\n",
      " '오늘': 1,\n",
      " '이뻐': 5,\n",
      " '일이': 3,\n",
      " '있나봐': 11,\n",
      " '정말': 18,\n",
      " '좋은': 2,\n",
      " '진짜': 15,\n",
      " '짜증나': 16,\n",
      " '환상적인데': 17}\n"
     ]
    }
   ],
   "source": [
    "from tensorflow.keras import layers\n",
    "import tensorflow as tf\n",
    "from tensorflow.keras import preprocessing \n",
    "\n",
    "\n",
    "samples = [' 너 오늘 이뻐 보인다',\n",
    "           '나는 오늘 기분이 더러워 ',\n",
    "           '끝내주는데, 좋은 일이 있나봐',\n",
    "           '나 좋은 일이 생겼어',\n",
    "           '아 오늘 진짜 짜증나',\n",
    "           '환상적인데, 정말 좋은 거 같아 ',\n",
    "           ]\n",
    "## labeling \n",
    "labels = [[1],[0],[1],[1],[0],[1]]\n",
    "## tokenize\n",
    "tokenizer = preprocessing.text.Tokenizer()\n",
    "tokenizer.fit_on_texts(samples)\n",
    "\n",
    "sequences = tokenizer.texts_to_sequences(samples)\n",
    "print(yellow(f\"📌 - text =>sequences\"))\n",
    "pprint([(f\"{i} => {j}\") for i,j in zip(samples,sequences)])\n",
    "word_index = tokenizer.word_index\n",
    "print(yellow(f\"\\n📌 - word index\"))\n",
    "pprint(word_index)\n"
   ]
  },
  {
   "cell_type": "markdown",
   "metadata": {},
   "source": [
    "---\n",
    "### 추가로 모델 구축 및 모델 학습에 피요한 변수 정의 "
   ]
  },
  {
   "cell_type": "code",
   "execution_count": 3,
   "metadata": {},
   "outputs": [],
   "source": [
    "batch_size = 2\n",
    "num_epochs = 6\n",
    "vocab_size =len(word_index) +1\n",
    "emb_size = 128\n",
    "hidden_dimension = 256\n",
    "output_dimension = 1\n"
   ]
  },
  {
   "cell_type": "markdown",
   "metadata": {},
   "source": [
    "---\n",
    "### 데이터를 통과 시킬 모델 구현\n",
    "- 입력값을 임베딩하는 embedding 층 \n",
    "- 임베딩된 각 단어의 벡터를 평균하기 위해 람다 층을 사용\n",
    "\n"
   ]
  },
  {
   "cell_type": "code",
   "execution_count": 4,
   "metadata": {},
   "outputs": [
    {
     "data": {
      "text/html": [
       "<pre style=\"white-space:pre;overflow-x:auto;line-height:normal;font-family:Menlo,'DejaVu Sans Mono',consolas,'Courier New',monospace\"><span style=\"font-weight: bold\">Model: \"sequential\"</span>\n",
       "</pre>\n"
      ],
      "text/plain": [
       "\u001b[1mModel: \"sequential\"\u001b[0m\n"
      ]
     },
     "metadata": {},
     "output_type": "display_data"
    },
    {
     "data": {
      "text/html": [
       "<pre style=\"white-space:pre;overflow-x:auto;line-height:normal;font-family:Menlo,'DejaVu Sans Mono',consolas,'Courier New',monospace\">┏━━━━━━━━━━━━━━━━━━━━━━━━━━━━━━━━━┳━━━━━━━━━━━━━━━━━━━━━━━━┳━━━━━━━━━━━━━━━┓\n",
       "┃<span style=\"font-weight: bold\"> Layer (type)                    </span>┃<span style=\"font-weight: bold\"> Output Shape           </span>┃<span style=\"font-weight: bold\">       Param # </span>┃\n",
       "┡━━━━━━━━━━━━━━━━━━━━━━━━━━━━━━━━━╇━━━━━━━━━━━━━━━━━━━━━━━━╇━━━━━━━━━━━━━━━┩\n",
       "│ embedding (<span style=\"color: #0087ff; text-decoration-color: #0087ff\">Embedding</span>)           │ ?                      │   <span style=\"color: #00af00; text-decoration-color: #00af00\">0</span> (unbuilt) │\n",
       "├─────────────────────────────────┼────────────────────────┼───────────────┤\n",
       "│ lambda (<span style=\"color: #0087ff; text-decoration-color: #0087ff\">Lambda</span>)                 │ ?                      │   <span style=\"color: #00af00; text-decoration-color: #00af00\">0</span> (unbuilt) │\n",
       "├─────────────────────────────────┼────────────────────────┼───────────────┤\n",
       "│ dense (<span style=\"color: #0087ff; text-decoration-color: #0087ff\">Dense</span>)                   │ ?                      │   <span style=\"color: #00af00; text-decoration-color: #00af00\">0</span> (unbuilt) │\n",
       "├─────────────────────────────────┼────────────────────────┼───────────────┤\n",
       "│ dense_1 (<span style=\"color: #0087ff; text-decoration-color: #0087ff\">Dense</span>)                 │ ?                      │   <span style=\"color: #00af00; text-decoration-color: #00af00\">0</span> (unbuilt) │\n",
       "└─────────────────────────────────┴────────────────────────┴───────────────┘\n",
       "</pre>\n"
      ],
      "text/plain": [
       "┏━━━━━━━━━━━━━━━━━━━━━━━━━━━━━━━━━┳━━━━━━━━━━━━━━━━━━━━━━━━┳━━━━━━━━━━━━━━━┓\n",
       "┃\u001b[1m \u001b[0m\u001b[1mLayer (type)                   \u001b[0m\u001b[1m \u001b[0m┃\u001b[1m \u001b[0m\u001b[1mOutput Shape          \u001b[0m\u001b[1m \u001b[0m┃\u001b[1m \u001b[0m\u001b[1m      Param #\u001b[0m\u001b[1m \u001b[0m┃\n",
       "┡━━━━━━━━━━━━━━━━━━━━━━━━━━━━━━━━━╇━━━━━━━━━━━━━━━━━━━━━━━━╇━━━━━━━━━━━━━━━┩\n",
       "│ embedding (\u001b[38;5;33mEmbedding\u001b[0m)           │ ?                      │   \u001b[38;5;34m0\u001b[0m (unbuilt) │\n",
       "├─────────────────────────────────┼────────────────────────┼───────────────┤\n",
       "│ lambda (\u001b[38;5;33mLambda\u001b[0m)                 │ ?                      │   \u001b[38;5;34m0\u001b[0m (unbuilt) │\n",
       "├─────────────────────────────────┼────────────────────────┼───────────────┤\n",
       "│ dense (\u001b[38;5;33mDense\u001b[0m)                   │ ?                      │   \u001b[38;5;34m0\u001b[0m (unbuilt) │\n",
       "├─────────────────────────────────┼────────────────────────┼───────────────┤\n",
       "│ dense_1 (\u001b[38;5;33mDense\u001b[0m)                 │ ?                      │   \u001b[38;5;34m0\u001b[0m (unbuilt) │\n",
       "└─────────────────────────────────┴────────────────────────┴───────────────┘\n"
      ]
     },
     "metadata": {},
     "output_type": "display_data"
    },
    {
     "data": {
      "text/html": [
       "<pre style=\"white-space:pre;overflow-x:auto;line-height:normal;font-family:Menlo,'DejaVu Sans Mono',consolas,'Courier New',monospace\"><span style=\"font-weight: bold\"> Total params: </span><span style=\"color: #00af00; text-decoration-color: #00af00\">0</span> (0.00 B)\n",
       "</pre>\n"
      ],
      "text/plain": [
       "\u001b[1m Total params: \u001b[0m\u001b[38;5;34m0\u001b[0m (0.00 B)\n"
      ]
     },
     "metadata": {},
     "output_type": "display_data"
    },
    {
     "data": {
      "text/html": [
       "<pre style=\"white-space:pre;overflow-x:auto;line-height:normal;font-family:Menlo,'DejaVu Sans Mono',consolas,'Courier New',monospace\"><span style=\"font-weight: bold\"> Trainable params: </span><span style=\"color: #00af00; text-decoration-color: #00af00\">0</span> (0.00 B)\n",
       "</pre>\n"
      ],
      "text/plain": [
       "\u001b[1m Trainable params: \u001b[0m\u001b[38;5;34m0\u001b[0m (0.00 B)\n"
      ]
     },
     "metadata": {},
     "output_type": "display_data"
    },
    {
     "data": {
      "text/html": [
       "<pre style=\"white-space:pre;overflow-x:auto;line-height:normal;font-family:Menlo,'DejaVu Sans Mono',consolas,'Courier New',monospace\"><span style=\"font-weight: bold\"> Non-trainable params: </span><span style=\"color: #00af00; text-decoration-color: #00af00\">0</span> (0.00 B)\n",
       "</pre>\n"
      ],
      "text/plain": [
       "\u001b[1m Non-trainable params: \u001b[0m\u001b[38;5;34m0\u001b[0m (0.00 B)\n"
      ]
     },
     "metadata": {},
     "output_type": "display_data"
    }
   ],
   "source": [
    "model = tf.keras.Sequential()\n",
    "model.add(layers.Embedding(vocab_size,emb_size,input_length= 4))\n",
    "model.add(layers.Lambda(lambda x: tf.reduce_mean(x,axis= 1)))\n",
    "model.add(layers.Dense(hidden_dimension, activation='relu'))\n",
    "model.add(layers.Dense(output_dimension,activation =\"sigmoid\"))\n",
    "model.summary()"
   ]
  },
  {
   "cell_type": "markdown",
   "metadata": {},
   "source": [
    "---\n",
    "### 학습 모델 compile \n",
    "- optimizer : Adam \n",
    "- loss : 이진 교차 엔트로피 손실 함수 \n",
    "- 모델 성능 측정 : accuracy"
   ]
  },
  {
   "cell_type": "code",
   "execution_count": 5,
   "metadata": {},
   "outputs": [],
   "source": [
    "model.compile(optimizer =tf.keras.optimizers.Adam(0.001),\n",
    "              loss = 'binary_crossentropy',\n",
    "              metrics = ['accuracy'])"
   ]
  },
  {
   "cell_type": "markdown",
   "metadata": {},
   "source": [
    "---\n",
    "### 모델 학습 하기 \n"
   ]
  },
  {
   "cell_type": "code",
   "execution_count": 6,
   "metadata": {},
   "outputs": [],
   "source": [
    "# from keras.preprocessing.sequence import pad_sequences\n",
    "\n",
    "# #시퀀스 패딩\n",
    "# padded_sequences = pad_sequences(sequences, padding='post')\n",
    "# sequences = np.array(padded_sequences)\n",
    "# labels = np.array(labels)\n",
    "# model.fit(sequences, labels, epochs=num_epochs, batch_size=batch_size)"
   ]
  },
  {
   "cell_type": "markdown",
   "metadata": {},
   "source": [
    "---\n",
    "###\n",
    "변환모듈 \n",
    "- 파이프라인\n",
    "- 특징 추출\n",
    "- 데이터 전처리\n",
    "- 차원축소 \n",
    "\n"
   ]
  },
  {
   "cell_type": "code",
   "execution_count": 20,
   "metadata": {},
   "outputs": [
    {
     "name": "stdout",
     "output_type": "stream",
     "text": [
      "iris_dataset : dict_keys(['data', 'target', 'frame', 'target_names', 'DESCR', 'feature_names', 'filename', 'data_module'])\n",
      "shape of data: (150, 4)\n",
      "['sepal length (cm)', 'sepal width (cm)', 'petal length (cm)', 'petal width (cm)']\n",
      "[0 0 0 0 0 0 0 0 0 0 0 0 0 0 0 0 0 0 0 0 0 0 0 0 0 0 0 0 0 0 0 0 0 0 0 0 0\n",
      " 0 0 0 0 0 0 0 0 0 0 0 0 0 1 1 1 1 1 1 1 1 1 1 1 1 1 1 1 1 1 1 1 1 1 1 1 1\n",
      " 1 1 1 1 1 1 1 1 1 1 1 1 1 1 1 1 1 1 1 1 1 1 1 1 1 1 2 2 2 2 2 2 2 2 2 2 2\n",
      " 2 2 2 2 2 2 2 2 2 2 2 2 2 2 2 2 2 2 2 2 2 2 2 2 2 2 2 2 2 2 2 2 2 2 2 2 2\n",
      " 2 2]\n",
      "['setosa' 'versicolor' 'virginica']\n",
      ".. _iris_dataset:\n",
      "\n",
      "Iris plants dataset\n",
      "--------------------\n",
      "\n",
      "**Data Set Characteristics:**\n",
      "\n",
      "    :Number of Instances: 150 (50 in each of three classes)\n",
      "    :Number of Attributes: 4 numeric, predictive attributes and the class\n",
      "    :Attribute Information:\n",
      "        - sepal length in cm\n",
      "        - sepal width in cm\n",
      "        - petal length in cm\n",
      "        - petal width in cm\n",
      "        - class:\n",
      "                - Iris-Setosa\n",
      "                - Iris-Versicolour\n",
      "                - Iris-Virginica\n",
      "                \n",
      "    :Summary Statistics:\n",
      "\n",
      "    ============== ==== ==== ======= ===== ====================\n",
      "                    Min  Max   Mean    SD   Class Correlation\n",
      "    ============== ==== ==== ======= ===== ====================\n",
      "    sepal length:   4.3  7.9   5.84   0.83    0.7826\n",
      "    sepal width:    2.0  4.4   3.05   0.43   -0.4194\n",
      "    petal length:   1.0  6.9   3.76   1.76    0.9490  (high!)\n",
      "    petal width:    0.1  2.5   1.20   0.76    0.9565  (high!)\n",
      "    ============== ==== ==== ======= ===== ====================\n",
      "\n",
      "    :Missing Attribute Values: None\n",
      "    :Class Distribution: 33.3% for each of 3 classes.\n",
      "    :Creator: R.A. Fisher\n",
      "    :Donor: Michael Marshall (MARSHALL%PLU@io.arc.nasa.gov)\n",
      "    :Date: July, 1988\n",
      "\n",
      "The famous Iris database, first used by Sir R.A. Fisher. The dataset is taken\n",
      "from Fisher's paper. Note that it's the same as in R, but not as in the UCI\n",
      "Machine Learning Repository, which has two wrong data points.\n",
      "\n",
      "This is perhaps the best known database to be found in the\n",
      "pattern recognition literature.  Fisher's paper is a classic in the field and\n",
      "is referenced frequently to this day.  (See Duda & Hart, for example.)  The\n",
      "data set contains 3 classes of 50 instances each, where each class refers to a\n",
      "type of iris plant.  One class is linearly separable from the other 2; the\n",
      "latter are NOT linearly separable from each other.\n",
      "\n",
      ".. topic:: References\n",
      "\n",
      "   - Fisher, R.A. \"The use of multiple measurements in taxonomic problems\"\n",
      "     Annual Eugenics, 7, Part II, 179-188 (1936); also in \"Contributions to\n",
      "     Mathematical Statistics\" (John Wiley, NY, 1950).\n",
      "   - Duda, R.O., & Hart, P.E. (1973) Pattern Classification and Scene Analysis.\n",
      "     (Q327.D83) John Wiley & Sons.  ISBN 0-471-22361-1.  See page 218.\n",
      "   - Dasarathy, B.V. (1980) \"Nosing Around the Neighborhood: A New System\n",
      "     Structure and Classification Rule for Recognition in Partially Exposed\n",
      "     Environments\".  IEEE Transactions on Pattern Analysis and Machine\n",
      "     Intelligence, Vol. PAMI-2, No. 1, 67-71.\n",
      "   - Gates, G.W. (1972) \"The Reduced Nearest Neighbor Rule\".  IEEE Transactions\n",
      "     on Information Theory, May 1972, 431-433.\n",
      "   - See also: 1988 MLC Proceedings, 54-64.  Cheeseman et al\"s AUTOCLASS II\n",
      "     conceptual clustering system finds 3 classes in the data.\n",
      "   - Many, many more ...\n"
     ]
    }
   ],
   "source": [
    "import sklearn\n",
    "sklearn.__version__\n",
    "from sklearn.datasets import load_iris\n",
    "iris_dataset = load_iris()\n",
    "print(\"iris_dataset : {}\".format(iris_dataset.keys()))\n",
    "print(\"shape of data: {}\".format(iris_dataset['data'].shape))\n",
    "# print(iris_dataset['data'])\n",
    "print(iris_dataset['feature_names'])\n",
    "\n",
    "print(iris_dataset['target'])\n",
    "print(iris_dataset['target_names'])\n",
    "print(iris_dataset['DESCR'])\n"
   ]
  },
  {
   "cell_type": "markdown",
   "metadata": {},
   "source": [
    "---\n",
    "### 사이킷 런을 이용한 데이터 분리\n",
    "\n"
   ]
  },
  {
   "cell_type": "code",
   "execution_count": 27,
   "metadata": {},
   "outputs": [
    {
     "name": "stdout",
     "output_type": "stream",
     "text": [
      "shaep of train_input : (112, 4)\n",
      "shaep of test_input : (38, 4)\n",
      "shaep of train_lb : (112,)\n",
      "shaep of test_lb : (38,)\n"
     ]
    }
   ],
   "source": [
    "from sklearn.model_selection import train_test_split\n",
    "\n",
    "train_input, test_input, train_label, test_label = \\\n",
    "    train_test_split(\n",
    "        iris_dataset['data'],\n",
    "        iris_dataset['target'],\n",
    "        test_size=0.25,\n",
    "        random_state=42\n",
    "        )\n",
    "print(f\"shaep of train_input : {train_input.shape}\")\n",
    "print(f\"shaep of test_input : {test_input.shape}\")\n",
    "print(f\"shaep of train_lb : {train_label.shape}\")\n",
    "print(f\"shaep of test_lb : {test_label.shape}\")\n",
    "\n"
   ]
  },
  {
   "cell_type": "markdown",
   "metadata": {},
   "source": [
    "---\n",
    "### page 58 비지도학습 을 이용한 text 처리 기법 \n",
    "- CountVectorize:\n",
    "    * 각 텍스트에서 횟수를 기준으로 특징을 추출하는 방법 \n",
    "- TfidfVectorizer: \n",
    "    * TF-IDF 라는 값을 사용해 텍스트에서 특징을 추출 하는 방법 \n",
    "\n",
    "- HashingVectorizer:\n",
    "    * Count 와 같은 방식이나 텍스트를 처리할때 해시 함수를 사용해 시간을 줄임\n"
   ]
  },
  {
   "cell_type": "code",
   "execution_count": 76,
   "metadata": {},
   "outputs": [
    {
     "name": "stdout",
     "output_type": "stream",
     "text": [
      "{'나는': 3, '배가': 6, '고프다': 0, '내일': 4, '점심': 7, '뭐먹지': 5, '공부해야겠다': 1, '점심먹고': 8, '공부해야지': 2}\n",
      "['나는 배가 고프다']\n",
      "[[1 0 0 1 0 0 1 0 0]]\n"
     ]
    }
   ],
   "source": [
    "## \n",
    "from sklearn.feature_extraction.text import CountVectorizer\n",
    "text_data = ['나는 배가 고프다','내일 점심 뭐먹지','내일 공부해야겠다','점심먹고 공부해야지']\n",
    "count_vectorizer =CountVectorizer()\n",
    "count_vectorizer.fit(text_data)\n",
    "print(count_vectorizer.vocabulary_)\n",
    "sentence = [text_data[0]] ## \n",
    "print(sentence)\n",
    "print(count_vectorizer.transform(sentence).toarray())\n",
    "\n",
    "\n",
    "def countVectorize(text_data):\n",
    "    from sklearn.feature_extraction.text import CountVectorizer\n",
    "    count_vectorizer =CountVectorizer()\n",
    "    count_vectorizer.fit([text_data])\n",
    "    print(yellow(f\"vocab : \\n\"), red(count_vectorizer.vocabulary_))\n",
    "    print()\n",
    "    sentence =[[text_data][0]] ## \n",
    "    print(sentence)\n",
    "    print(yellow(f\"Vectorized Sentence :\\n\"),count_vectorizer.transform(sentence).toarray())\n",
    "    "
   ]
  },
  {
   "cell_type": "markdown",
   "metadata": {},
   "source": [
    "---\n",
    "### 신문기사 데이터에 적용해보자 . \n"
   ]
  },
  {
   "cell_type": "code",
   "execution_count": 2,
   "metadata": {},
   "outputs": [
    {
     "name": "stdout",
     "output_type": "stream",
     "text": [
      "\u001b[94mCountVectorize 함수로로 토큰화합니다. \u001b[0m\n",
      "\u001b[93mvocab : \n",
      "\u001b[0m \u001b[91m{'정책자금': 463, '상환연장': 281, '금융지원': 116, '3종': 18, '세트': 301, '추진5대': 519, '고정비용': 91, '지원': 489, '경영부담': 74, '매출': 205, '기반': 122, '확충': 583, '규제합리화': 111, '방안': 226, '추진': 518, '사회안전망': 272, '가입독려': 44, '소상공인': 308, '실효성': 330, '의문': 385, '장기적': 430, '대책': 166, '필요': 548, '서울': 291, '뉴시스': 156, '추상철': 517, '기자': 126, '3일': 17, '오후': 361, '서울의': 292, '전통시장에서': 446, '상인이': 278, '손님을': 315, '기다리고': 121, '있다': 421, '2024': 11, '06': 3, '03': 1, 'scchoo': 41, 'newsis': 38, 'com': 32, '세종': 299, '김동현': 134, '용윤신': 372, '임하은': 418, '정부가': 456, '올해': 362, '하반기부터': 552, '소상공인의': 313, '경영': 73, '애로를': 338, '해소하기': 567, '위해': 377, '금융지원과': 117, '배달료': 231, '임대료': 412, '전기료': 443, '5대': 26, '고정비용에': 92, '대한': 176, '부담을': 246, '낮추는': 140, '방안을': 228, '본격화한다': 242, '이번': 390, '대책은': 168, '코로나19': 525, '사태': 271, '이후': 403, '고금리': 85, '장기화로': 432, '채무가': 503, '누적되고': 155, '준비': 478, '부족으로': 249, '창업과': 502, '폐업을': 539, '반복하며': 218, '고통을': 93, '받고': 220, '있는': 420, '경영부담을': 75, '완화하는데': 365, '초점을': 509, '맞췄다': 204, '정부는': 457, '정부서울청사에서': 459, '최상목': 514, '경제부총리': 78, '기획재정부': 131, '장관': 429, '주재로': 476, '관계부처': 99, '합동브리핑을': 561, '열고': 354, '같은': 58, '내용의': 145, '역동경제': 345, '로드맵': 195, '하반기': 551, '경제정책방향': 81, '발표했다': 225, '완화': 363, '3종세트': 19, '부담완화': 245, '사회안정망': 273, '강화': 55, '크게': 526, '4가지': 22, '분야로': 251, '추진된다': 521, '발표한': 224, '2024년': 12, '따르면': 193, '폐업하는': 540, '소상공인에게': 311, '채무조정과': 506, '재취업을': 435, '원한다': 374, '새출발기금을': 286, '40조원': 21, '이상으로': 393, '확대하고': 576, '점포철거비': 453, '지원금을': 490, '최대': 513, '400만원으로': 20, '상향한다': 280, '그래픽': 112, '전진우': 445, '618tue': 30, 'com정책자금': 36, '추진금융지원은': 520, '분할상환': 256, '지원대상': 492, '확대': 575, '5년까지': 25, '기간연장': 118, '5조원': 27, '규모의': 109, '전환보증을': 449, '신설해': 324, '보증부': 241, '대출': 170, '만기': 198, '연장': 350, '저금리': 437, '대환대출': 179, '등으로': 190, '마련했다': 197, '상환연장은': 282, '대상을': 165, '사업경력': 264, '3년': 16, '이상': 391, '잔액': 428, '3000만원': 15, '이상에서': 392, '업력과': 342, '대출잔액': 174, '기준을': 130, '폐지하고': 541, '연장시': 351, '적용하는': 442, '금리를': 114, '기존': 127, '이용금리': 395, '포인트': 542, '적용': 441, '기간은': 119, '확대하기로': 577, '했다': 568, '지역신보': 488, '대출을': 172, '이용하는': 396, '소상공인이': 314, '상환을': 283, '연장하기': 353, '전환보증제도도': 450, '신설한다': 323, '소상공인은': 312, '중도상환수수료를': 480, '면제': 209, '받을': 221, '있고': 419, '저신용자는': 439, '산출보증료율에서': 274, 'p를': 40, '인하받는다': 407, '은행': 382, '비은행권의': 260, '대출로': 171, '대환하는': 181, '프로그램': 546, '참여': 500, '요건을': 370, '완화해': 366, '고정금리': 90, '5000만원': 23, '한도를': 557, '10년': 5, '분할': 255, '상환하도록': 284, '한다는': 556, '구상이다': 105, '이외에도': 394, '외식업계': 368, '농산물': 151, '구매자금': 104, '융자금': 381, '인하': 405, '저신용': 438, '대상': 163, '기준': 129, '상향': 279, '등을': 191, '통해': 529, '추가적인': 516, '정책': 461, '자금을': 425, '공급한다는': 95, '계획이다': 84, '정부': 455, '관계자는': 100, '세트는': 302, '채무걱정': 504, '덜어드림': 182, '세트라고': 303, '명명을': 211, '전환보증': 448, '대환대출이라는': 180, '가지': 48, '툴을': 532, '바탕으로': 217, '해서': 566, '갖고': 57, '대출의': 173, '만기를': 199, '연장하고': 352, '상환할': 285, '제도를': 466, '대폭': 175, '넣었다': 146, '설명했다': 294, '물건을': 214, '판매하고': 534, 'com5대': 33, '인건비': 404, '관리비': 102, '지원책도': 495, '내놨다': 143, '먼저': 208, '공정거래위원회': 97, '농축수산식품부': 152, '중소기업벤처부': 481, '정부부처와': 458, '배달앱': 236, '사업자': 265, '이해관계자': 400, '등이': 192, '참여해': 501, '경제적': 79, '부담': 244, '완화를': 364, '위한': 376, '논의를': 150, '실시하고': 329, '분야별': 252, '상생방안을': 277, '마련한다': 196, '플랫폼': 547, '자율': 427, '규제': 110, '기구': 120, '총괄위원회': 511, '역할을': 346, '강화해': 56, '이해관계자의': 401, '수요를': 317, '반영한': 219, '아젠다': 333, '설정': 295, '신속한': 325, '문제해결을': 213, '추진하고': 522, '최근': 512, '부담이': 247, '커지고': 524, '사업주': 267, '배달료는': 233, '영세': 356, '소상공인에': 310, '한해': 560, '배달료를': 234, '신규로': 322, '지원한다': 498, '임대료는': 413, '임차료를': 417, '인하한': 408, '임대인에': 415, '세제지원과': 298, '국유재산': 108, '사용료': 270, '감면': 51, '지원기간을': 491, '내년말까지': 141, '지자체와': 499, '협업해': 573, '공유재산': 96, '감면도': 52, '지속': 486, '추진한다는': 523, '방침이다': 229, '경감을': 72, '대상도': 164, '확대한다': 579, '현행': 572, '연매출': 349, '이하의': 399, '매출로': 206, '설정된': 296, '6000만원': 28, '이하로': 398, '늘려': 158, '50만명의': 24, '혜택을': 574, '준다는': 477, '절감을': 451, '위해선': 379, '키오스크': 527, '서빙로봇': 290, '자동화': 426, '스마트': 318, '기술보급': 124, '지원을': 494, '음식점업': 383, '주방보조원': 473, '비자': 261, '시범사업': 321, '평가를': 536, '토대로': 528, '지역': 487, '업력': 341, '요건': 369, '외국인': 367, '고용허가': 89, '범위를': 238, '확대하는': 578, '것을': 69, '검토키로': 66, '아울러': 332, '부과의': 243, '투명성을': 530, '확보하기': 582, '개정된': 64, '상가임대차': 276, '표준계약서를': 544, '적극': 440, '활용하도록': 584, '유도하고': 380, '운영과정에서': 373, '개선': 59, '필요사항을': 549, '검토할': 67, '예정이다': 360, '분쟁': 253, '발생시': 222, '임대차': 416, '분쟁조정위원회는': 254, '해결을': 565, '돕는다': 187, '위해서는': 378, '기술': 123, '보급': 240, '재정': 433, '확대할': 581, '예정': 359, '이라며': 388, '음식점업에': 384, '대해선': 178, '현재': 571, '한식업': 558, '7년': 31, '주방보조원에': 474, '한정해': 559, '허용되는': 570, '비자를': 262, '추가적으로': 515, '내용을': 144, '이라고': 387, '전했다': 447, '20일': 13, '시내': 319, '상가에': 275, '임대문의': 414, '게시물이': 70, '부착돼': 250, '폐업으로': 538, '인한': 409, '노란우산': 147, '공제금': 98, '지급액이': 484, '늘고': 157, '것으로': 68, '나타났다': 138, '05': 2, '20': 10, 'com규제합리화': 34, '가입독려소상공인의': 45, '영업환경': 357, '개선을': 60, '합리화': 562, '방안도': 227, '도입한다': 185, '금융접근성': 115, '기존에': 128, '사업주의': 268, '신용': 326, '또는': 194, '담보': 161, '중심으로': 482, '평가하던': 537, '신용평가체제를': 328, '매출액': 207, '사업장': 266, '정보': 454, '개편해': 65, '개인사업자의': 63, '자금': 424, '조달을': 468, '원활하게': 375, '돕는다는': 188, '개인사업자에': 62, '신용평가를': 327, '고도화하기': 86, '다양한': 160, '공공정보를': 94, '제공하기로': 464, '국세청의': 107, '소득세': 306, '표본자료에는': 543, '근로소득세': 113, '15개': 6, '항목': 563, '종합소득세': 472, '관련': 101, '18개': 7, '항목을': 564, '제공하는데': 465, '이를': 389, '확대한다는': 580, '소매상인의': 307, '비축물가': 263, '판매': 533, '허용': 569, '도로점용료': 183, '25': 14, '무료': 212, '법률지원': 239, '서비스': 289, '간이과세자': 50, '수수료': 316, '영업환경을': 358, '개선해': 61, '나간다는': 136, '두터운': 189, '생계안전망': 287, '구축을': 106, '노란우산공제': 148, '고용보험': 87, '가입을': 47, '독려한다': 186, '납입부금에': 139, '대해': 177, '소득공제': 305, '연간': 347, '600만원으로': 29, '조정하고': 470, '고용보험료': 88, '지원신청': 493, '절차를': 452, '간소화해': 49, '가입률을': 46, '높인다': 154, '김근수': 133, '1일': 8, '중구': 479, '명동': 210, '시내의': 320, '가게': 42, '앞에': 337, '임대': 411, '안내문이': 334, '붙어': 257, '07': 4, '01': 0, 'ks': 37, 'com전문가들': 35, '전문가들은': 444, '내놓은': 142, '대책에': 167, '어려움을': 339, '겪고': 71, '일시적인': 410, '도움을': 184, '있지만': 423, '실효성에': 331, '의문을': 386, '표하며': 545, '장기적인': 431, '대책을': 169, '만들어야': 201, '한다고': 555, '조언했다': 469, '김광석': 132, '한국경제산업연구원': 553, '연구실장은': 348, '재정을': 434, '투입하지': 531, '않고': 335, '배달료가': 232, '인하될': 406, '있을': 422, '배달플랫폼': 237, '기업드에게': 125, '배달비': 235, '감소를': 53, '요구한다면': 371, '다른': 159, '부분에서': 248, '비용감소분을': 259, '채우려고': 507, '노력할': 149, '가능성이': 43, '높다': 153, '말했다': 203, '이정희': 397, '중앙대': 483, '경제학과': 82, '교수는': 103, '당장': 162, '어렵다고': 340, '하니까': 550, '계속': 83, '책임질': 508, '없는': 343, '만큼': 202, '생계형과': 288, '사업형으로': 269, '나눈': 137, '제시해야': 467, '한다': 554, '석병훈': 293, '이화여대': 402, '성장을': 297, '촉진하기': 510, '지원책은': 496, '바람직하지만': 216, '소상공인들의': 309, '채무를': 505, '조정해주는': 471, '바람직하지': 215, '않다': 336, '경쟁력': 76, '소기업으로': 304, '만들고': 200, '경쟁력이': 77, '없으면': 344, '재취업할': 436, '지원하는': 497, '정책을': 462, '펼쳐야': 535, '주장했다': 475, '강종민': 54, '김병환': 135, '1차관이': 9, '지난': 485, '세종시': 300, '정부세종청사에서': 460, '열린': 355, '경제정책': 80, '방향': 230, '브리핑에서': 258, '발언하고': 223, 'ppkjm': 39}\u001b[0m\n",
      "\n",
      "['[\\n정책자금 상환연장 등 금융지원 3종 세트 추진5대 고정비용 지원…경영부담↓매출 기반 확충 규제합리화 방안 추진 및 사회안전망 가입독려\"소상공인 지원 실효성 의문…장기적 대책 필요\"\\n\\n\\n\\n[서울=뉴시스] 추상철 기자 = 3일 오후 서울의 한 전통시장에서 상인이 손님을 기다리고 있다. 2024.06.03. scchoo@newsis.com[세종=뉴시스]김동현 용윤신 임하은 기자 = 정부가 올해 하반기부터 소상공인의 경영 애로를 해소하기 위해 금융지원과 배달료·임대료·전기료 등 5대 고정비용에 대한 부담을 낮추는 방안을 본격화한다. 이번 대책은 코로나19 사태 이후 고금리 장기화로 채무가 누적되고 준비 부족으로 창업과 폐업을 반복하며 고통을 받고 있는 소상공인의 경영부담을 완화하는데 초점을 맞췄다. 정부는 3일 정부서울청사에서 최상목 경제부총리 겸 기획재정부 장관 주재로 관계부처 합동브리핑을 열고 이 같은 내용의 \\'역동경제 로드맵 및 하반기 경제정책방향\\'을 발표했다.소상공인 경영부담 완화 대책은 ▲금융지원 3종세트 ▲5대 고정비용 부담완화 ▲매출 지원 ▲사회안정망 강화 등 크게 4가지 분야로 추진된다.\\n\\n\\n\\n[서울=뉴시스] 3일 정부가 발표한 \\'2024년 하반기 경제정책방향\\'에 따르면 정부가 폐업하는 소상공인에게 채무조정과 재취업을 원한다. 새출발기금을 40조원 이상으로 확대하고, 점포철거비 지원금을 최대 400만원으로 상향한다. (그래픽=전진우 기자) 618tue@newsis.com정책자금 상환연장 등 금융지원 3종 세트 추진금융지원은 정책자금 분할상환 지원대상 확대 및 최대 5년까지 기간연장, 5조원 규모의 전환보증을 신설해 보증부 대출 만기 연장, 저금리 대환대출 지원대상 확대 등으로 마련했다. 정책자금 상환연장은 지원 대상을 사업경력 3년 이상, 대출 잔액 3000만원 이상에서 업력과 대출잔액 기준을 폐지하고 연장시 적용하는 금리를 기존 이용금리 +0.2% 포인트(p)로 적용, 기간은 최대 5년까지 확대하기로 했다. 정부는 지역신보 보증부 대출을 이용하는 소상공인이 대출 상환을 최대 5년까지 연장하기 위해  5조원 규모의 전환보증제도도 신설한다. 소상공인은 중도상환수수료를 면제 받을 수 있고 저신용자는 산출보증료율에서 0.2%p를 인하받는다. 또 은행·비은행권의 7% 이상 고금리 대출을 저금리 대출로 대환하는 프로그램 참여 요건을 완화해 4.5% 고정금리, 5000만원 한도를 10년 분할 상환하도록 한다는 구상이다. 이외에도 외식업계 농산물 구매자금 융자금 인하, 저신용 소상공인 정책자금 지원 대상 기준 상향 등을 통해 추가적인 정책 자금을 공급한다는 계획이다. 정부 관계자는 \"소상공인 금융지원 3종 세트는 \\'채무걱정 덜어드림\\' 3종 세트라고 명명을 했다\"며 \"정책자금 상환연장, 전환보증, 대환대출이라는 세 가지 툴을 바탕으로 해서 소상공인이 갖고 있는 대출의 만기를 연장하고 분할 상환할 수 있는 제도를 대폭 넣었다\"고 설명했다.\\n\\n\\n\\n[서울=뉴시스] 추상철 기자 = 3일 오후 서울의 한 전통시장에서 상인이 물건을 판매하고 있다. 2024.06.03. scchoo@newsis.com5대 고정비용 지원…경영부담↓매출 기반 확충 배달료·임대료·전기료·인건비·관리비 등 5대 고정비용에 대한 지원책도 내놨다. 먼저 공정거래위원회, 농축수산식품부, 중소기업벤처부 등 정부부처와 배달앱 사업자 외식업계 이해관계자 등이 참여해 경제적 부담 완화를 위한 논의를 실시하고 분야별 상생방안을 마련한다.또 플랫폼 자율 규제 기구 내 총괄위원회 역할을 강화해 이해관계자의 수요를 반영한 아젠다 설정 및 신속한 문제해결을 추진하고 최근 부담이 커지고 있는 사업주 부담 배달료는 영세 소상공인에 한해 배달료를 신규로 지원한다. 임대료는 소상공인에게 임차료를 인하한 임대인에 대한 세제지원과 국유재산 사용료 감면 지원기간을 내년말까지 연장하고 지자체와 협업해 공유재산 사용료 감면도 지속 추진한다는 방침이다. 영세 소상공인의 전기료 부담 경감을 위해 전기료 지원 대상도 확대한다. 정부는 현행 연매출 3000만원 이하의 매출로 설정된 기준을 6000만원 이하로 늘려 최대 50만명의 소상공인에게 전기료 지원 혜택을 준다는 계획이다. 인건비 절감을 위해선 키오스크, 서빙로봇 등 자동화 스마트 기술보급 지원을 확대하고 음식점업 주방보조원 E-9 비자 시범사업 평가를 토대로 지역·업력 요건 등 외국인 고용허가 범위를 확대하는 것을 검토키로 했다. 아울러 관리비 부과의 투명성을 확보하기 위해 개정된 상가임대차 표준계약서를 적극 활용하도록 유도하고 운영과정에서 개선 필요사항을 적극 검토할 예정이다. 분쟁 발생시 임대차 분쟁조정위원회는 소상공인의 분쟁 해결을 돕는다. 정부 관계자는 \"인건비 지원을 위해서는 키오스크 등 스마트 기술 보급 지원을 위한 재정 지원을 확대할 예정\"이라며 \"음식점업에 대해선 현재 한식업, 업력 5~7년, 주방보조원에 한정해 허용되는 E-9 비자를 추가적으로 범위를 확대하는 내용을 검토할 것\"이라고 전했다.\\n\\n\\n\\n[서울=뉴시스] 추상철 기자 = 20일 오후 서울 시내 상가에 임대문의 게시물이 부착돼 있다. 소상공인의 폐업으로 인한 \\'노란우산 공제금\\' 지급액이 크게 늘고 있는 것으로 나타났다. 2024.05.20. scchoo@newsis.com규제합리화 방안 추진 및 사회안전망 가입독려소상공인의 영업환경 개선을 위한 규제 합리화 방안도 도입한다. 소상공인의 금융접근성 개선을 위해선 기존에 사업주의 신용 또는 담보 중심으로 평가하던 신용평가체제를 매출액 등 사업장 정보 중심으로 개편해 개인사업자의 자금 조달을 원활하게 돕는다는 구상이다.또 개인사업자에 대한 신용평가를 고도화하기 위해 다양한 공공정보를 제공하기로 했다. 현재 국세청의 소득세 표본자료에는 근로소득세 15개 항목, 종합소득세 관련 정보 18개 항목을 제공하는데 이를 확대한다는 계획이다.  이외에도 ▲소매상인의 비축물가 판매 허용 ▲소상공인 대상 도로점용료 25% 감면 ▲무료 법률지원 서비스 대상 확대 ▲간이과세자 매출 기준 확대 및 수수료 감면 등을 통해 영업환경을 개선해 나간다는 방침이다. 두터운 생계안전망 구축을 위해선 노란우산공제, 고용보험 등 사회안전망 가입을 독려한다. 노란우산공제 납입부금에 대해 소득공제 한도를 연간 600만원으로 상향 조정하고 고용보험료 지원신청 절차를 간소화해 가입률을 높인다.\\n\\n\\n\\n[서울=뉴시스] 김근수 기자 = 1일 오후 서울 중구 명동 시내의 한 가게 앞에 임대 안내문이 붙어 있다. 2024.07.01. ks@newsis.com전문가들 \"소상공인 지원 실효성 의문…장기적 대책 필요\" 전문가들은 정부가 내놓은 소상공인 지원 대책에 대해 어려움을 겪고 있는 소상공인에게 일시적인 도움을 줄 수 있지만 실효성에 대해 의문을 표하며 장기적인 대책을 만들어야 한다고 조언했다.김광석 한국경제산업연구원 연구실장은 \"재정을 투입하지 않고 배달료가 인하될 수 있을 지 의문\"이라며 \"배달플랫폼 기업드에게 배달비 감소를 요구한다면 다른 부분에서 비용감소분을 채우려고 노력할 가능성이 높다\"고 말했다. 이정희 중앙대 경제학과 교수는 \"정부가 내놓은 소상공인 대책은 당장 어렵다고 하니까 도움을 줄 수 있는 일시적인 방안\"이라며 \"배달료를 정부가 계속 책임질 수 없는 만큼 생계형과 사업형으로 나눈 소상공인 대책을 제시해야 한다\"고 조언했다. 석병훈 이화여대 경제학과 교수는 \"소상공인의 성장을 촉진하기 위한 지원책은 바람직하지만 소상공인들의 채무를 조정해주는 지원책은 바람직하지 않다\"며 \"경쟁력 있는 소상공인은 소기업으로 만들고 경쟁력이 없으면 재취업할 수 있는 방안을 지원하는 정책을 펼쳐야 한다\"고 주장했다.\\n\\n\\n\\n[세종=뉴시스] 강종민 기자 = 김병환 기획재정부 1차관이 지난 1일 세종시 정부세종청사에서 열린 하반기 경제정책 방향 및 역동경제 로드맵 브리핑에서 발언하고 있다. 2024.07.03. ppkjm@newsis.com\\n]']\n",
      "\u001b[93mVectorized Sentence :\n",
      "\u001b[0m [[ 1  3  1  2  2  1  1  1  2  1  1  5  1  1  1  2  1  4  4  1  1  1  1  1\n",
      "   1  3  3  2  1  1  1  1  2  1  1  1  1  1  6  1  1  3  1  1  1  1  1  1\n",
      "   1  1  1  3  1  1  1  1  1  1  1  1  2  1  1  1  1  1  1  2  1  1  1  1\n",
      "   1  1  3  1  1  1  1  1  1  2  2  1  3  2  1  1  1  1  1  3  2  1  1  1\n",
      "   1  1  1  1  2  1  2  2  1  2  1  1  1  2  2  1  1  1  1  1  4  1  1  1\n",
      "   1  1  2  1  1  1  7  1  1  2  2  2  1  1  1  1  1  1  1  1  1  1  2  1\n",
      "   1  1  1  1  2  1  1  1  1  1  1  1  7  1  1  1  1  1  1  3  1  1  2  1\n",
      "   3  2  3  1  2  1  1  1  4  3  1  1  1  1  1  1  2  1  1  1  1  1  1  2\n",
      "   1  1  1  2  1  1  1  1  1  1  1  1  1  4  1  1  1  1  1  1  1  1  1  1\n",
      "   1  1  1  1  1  1  1  1  1  1  3  1  2  2  1  2  1  1  2  1  1  1  2  1\n",
      "   1  2  1  1  3  1  1  1  1  1  1  1  1  2  1  2  1  1  1  1  1  1  1  1\n",
      "   1  1  1  1  1  1  2  1  3  1  1  1  1  1  2  2  1  3  1  1  1  1  1  1\n",
      "   1  1  1  7  2  1  1  1  1  1  1  2  1  2  1  1  1  1  1  1  9  1  1  4\n",
      "   2  7  2  1  1  1  2  1  1  1  1  1  1  1  1  1  1  1  2  1  1  1  1  1\n",
      "   1  1  1  1  1  2  1  1  1  2  1  1  1  1  1  1  2  1  1  1  2  1  1  1\n",
      "   1  4  1  1  1  1  1  1  2  1  1  1  1  1  1  1  4  5  1  3  1  1  1  1\n",
      "   1  3  1  1  3  1  1  2  1  1  2  1  1  1  1  1  1  1  1  1  3  1  1  1\n",
      "   1  1  2  1  2  1  1  1  1  1  1  1  9  5  1  1  1  1  1  1  1  1  2  1\n",
      "   1  1  1  1  1  2  1  1  2  1  1  5  1  1  2  1  1  1  1  1  1  1  2  2\n",
      "   6  3  1  1  1  1  1  5  1  1  1  1  1  2  1  1  1  1  1  1  1  1  1  1\n",
      "   1  1  2  1  1  1  1  1  1 10  1  1  2  1  4  1  2  1  1  1  1  1  1  1\n",
      "   1  1  1  1  1  1  1  1  1  5  1  1  1  3  2  1  1  1  1  1  1  1  2  2\n",
      "   1  2  1  1  1  1  1  1  1  1  1  1  1  1  1  1  1  1  1  1  2  1  1  3\n",
      "   1  1  2  1  1  2  1  1  1  1  1  1  1  1  1  1  4  1  1  2  1  1  1  4\n",
      "   2  1  2  1  1  1  1  2  1]]\n"
     ]
    }
   ],
   "source": [
    "import pandas as pd\n",
    "news = pd.read_csv(\"./NewsData/경제_20240704_10시17분.csv\")\n",
    "# print(news.columns)\n",
    "test_article  = news.iloc[0]['content']\n",
    "# print(test_article)\n",
    "from Functions import NLP_Service as N\n",
    "N.countVectorize(test_article)"
   ]
  },
  {
   "cell_type": "markdown",
   "metadata": {},
   "source": [
    "---\n",
    "### TfidfVectorizer\n",
    "- TF ( Term Frequency )특정단어 하나가 데이터 안에서 등장하는 횟수\n",
    "- DF (Document Frequency): 문서 빈도값. 특ㅈ3ㅓㅇ단어가 여러데이터에 자주 등장하는지를 알려주는 지표\n",
    "- IDF (Inverse Document Frequency ) DF 의 역수 : 다른데이터에 등장하지않을수록 커짐. \n",
    "- TF-IDF : TF 와 IDF 를 곱한값. 해당문서에 자주 등장하집만 다른 문서에는 많이 없는 단어일수록 높은 값. \n",
    "- 조사, 지시대명사는 TF는 크지만 IDF 값은 작아지므로 counterVectorize 가 가진 문제점 해결\n"
   ]
  },
  {
   "cell_type": "code",
   "execution_count": 1,
   "metadata": {},
   "outputs": [
    {
     "name": "stdout",
     "output_type": "stream",
     "text": [
      "{'나는': 3, '배가': 6, '고프다': 0, '내일': 4, '점심': 7, '뭐먹지': 5, '공부해야겠다': 1, '점심먹고': 8, '공부해야지': 2}\n",
      "['나는 배가 고프다']\n",
      "[[0.57735027 0.         0.         0.57735027 0.         0.\n",
      "  0.57735027 0.         0.        ]]\n",
      "\u001b[94mTF-IDF 함수로로 토큰화합니다. \u001b[0m\n",
      "\u001b[93mvocab : \n",
      "\u001b[0m \u001b[91m{'정책자금': 463, '상환연장': 281, '금융지원': 116, '3종': 18, '세트': 301, '추진5대': 519, '고정비용': 91, '지원': 489, '경영부담': 74, '매출': 205, '기반': 122, '확충': 583, '규제합리화': 111, '방안': 226, '추진': 518, '사회안전망': 272, '가입독려': 44, '소상공인': 308, '실효성': 330, '의문': 385, '장기적': 430, '대책': 166, '필요': 548, '서울': 291, '뉴시스': 156, '추상철': 517, '기자': 126, '3일': 17, '오후': 361, '서울의': 292, '전통시장에서': 446, '상인이': 278, '손님을': 315, '기다리고': 121, '있다': 421, '2024': 11, '06': 3, '03': 1, 'scchoo': 41, 'newsis': 38, 'com': 32, '세종': 299, '김동현': 134, '용윤신': 372, '임하은': 418, '정부가': 456, '올해': 362, '하반기부터': 552, '소상공인의': 313, '경영': 73, '애로를': 338, '해소하기': 567, '위해': 377, '금융지원과': 117, '배달료': 231, '임대료': 412, '전기료': 443, '5대': 26, '고정비용에': 92, '대한': 176, '부담을': 246, '낮추는': 140, '방안을': 228, '본격화한다': 242, '이번': 390, '대책은': 168, '코로나19': 525, '사태': 271, '이후': 403, '고금리': 85, '장기화로': 432, '채무가': 503, '누적되고': 155, '준비': 478, '부족으로': 249, '창업과': 502, '폐업을': 539, '반복하며': 218, '고통을': 93, '받고': 220, '있는': 420, '경영부담을': 75, '완화하는데': 365, '초점을': 509, '맞췄다': 204, '정부는': 457, '정부서울청사에서': 459, '최상목': 514, '경제부총리': 78, '기획재정부': 131, '장관': 429, '주재로': 476, '관계부처': 99, '합동브리핑을': 561, '열고': 354, '같은': 58, '내용의': 145, '역동경제': 345, '로드맵': 195, '하반기': 551, '경제정책방향': 81, '발표했다': 225, '완화': 363, '3종세트': 19, '부담완화': 245, '사회안정망': 273, '강화': 55, '크게': 526, '4가지': 22, '분야로': 251, '추진된다': 521, '발표한': 224, '2024년': 12, '따르면': 193, '폐업하는': 540, '소상공인에게': 311, '채무조정과': 506, '재취업을': 435, '원한다': 374, '새출발기금을': 286, '40조원': 21, '이상으로': 393, '확대하고': 576, '점포철거비': 453, '지원금을': 490, '최대': 513, '400만원으로': 20, '상향한다': 280, '그래픽': 112, '전진우': 445, '618tue': 30, 'com정책자금': 36, '추진금융지원은': 520, '분할상환': 256, '지원대상': 492, '확대': 575, '5년까지': 25, '기간연장': 118, '5조원': 27, '규모의': 109, '전환보증을': 449, '신설해': 324, '보증부': 241, '대출': 170, '만기': 198, '연장': 350, '저금리': 437, '대환대출': 179, '등으로': 190, '마련했다': 197, '상환연장은': 282, '대상을': 165, '사업경력': 264, '3년': 16, '이상': 391, '잔액': 428, '3000만원': 15, '이상에서': 392, '업력과': 342, '대출잔액': 174, '기준을': 130, '폐지하고': 541, '연장시': 351, '적용하는': 442, '금리를': 114, '기존': 127, '이용금리': 395, '포인트': 542, '적용': 441, '기간은': 119, '확대하기로': 577, '했다': 568, '지역신보': 488, '대출을': 172, '이용하는': 396, '소상공인이': 314, '상환을': 283, '연장하기': 353, '전환보증제도도': 450, '신설한다': 323, '소상공인은': 312, '중도상환수수료를': 480, '면제': 209, '받을': 221, '있고': 419, '저신용자는': 439, '산출보증료율에서': 274, 'p를': 40, '인하받는다': 407, '은행': 382, '비은행권의': 260, '대출로': 171, '대환하는': 181, '프로그램': 546, '참여': 500, '요건을': 370, '완화해': 366, '고정금리': 90, '5000만원': 23, '한도를': 557, '10년': 5, '분할': 255, '상환하도록': 284, '한다는': 556, '구상이다': 105, '이외에도': 394, '외식업계': 368, '농산물': 151, '구매자금': 104, '융자금': 381, '인하': 405, '저신용': 438, '대상': 163, '기준': 129, '상향': 279, '등을': 191, '통해': 529, '추가적인': 516, '정책': 461, '자금을': 425, '공급한다는': 95, '계획이다': 84, '정부': 455, '관계자는': 100, '세트는': 302, '채무걱정': 504, '덜어드림': 182, '세트라고': 303, '명명을': 211, '전환보증': 448, '대환대출이라는': 180, '가지': 48, '툴을': 532, '바탕으로': 217, '해서': 566, '갖고': 57, '대출의': 173, '만기를': 199, '연장하고': 352, '상환할': 285, '제도를': 466, '대폭': 175, '넣었다': 146, '설명했다': 294, '물건을': 214, '판매하고': 534, 'com5대': 33, '인건비': 404, '관리비': 102, '지원책도': 495, '내놨다': 143, '먼저': 208, '공정거래위원회': 97, '농축수산식품부': 152, '중소기업벤처부': 481, '정부부처와': 458, '배달앱': 236, '사업자': 265, '이해관계자': 400, '등이': 192, '참여해': 501, '경제적': 79, '부담': 244, '완화를': 364, '위한': 376, '논의를': 150, '실시하고': 329, '분야별': 252, '상생방안을': 277, '마련한다': 196, '플랫폼': 547, '자율': 427, '규제': 110, '기구': 120, '총괄위원회': 511, '역할을': 346, '강화해': 56, '이해관계자의': 401, '수요를': 317, '반영한': 219, '아젠다': 333, '설정': 295, '신속한': 325, '문제해결을': 213, '추진하고': 522, '최근': 512, '부담이': 247, '커지고': 524, '사업주': 267, '배달료는': 233, '영세': 356, '소상공인에': 310, '한해': 560, '배달료를': 234, '신규로': 322, '지원한다': 498, '임대료는': 413, '임차료를': 417, '인하한': 408, '임대인에': 415, '세제지원과': 298, '국유재산': 108, '사용료': 270, '감면': 51, '지원기간을': 491, '내년말까지': 141, '지자체와': 499, '협업해': 573, '공유재산': 96, '감면도': 52, '지속': 486, '추진한다는': 523, '방침이다': 229, '경감을': 72, '대상도': 164, '확대한다': 579, '현행': 572, '연매출': 349, '이하의': 399, '매출로': 206, '설정된': 296, '6000만원': 28, '이하로': 398, '늘려': 158, '50만명의': 24, '혜택을': 574, '준다는': 477, '절감을': 451, '위해선': 379, '키오스크': 527, '서빙로봇': 290, '자동화': 426, '스마트': 318, '기술보급': 124, '지원을': 494, '음식점업': 383, '주방보조원': 473, '비자': 261, '시범사업': 321, '평가를': 536, '토대로': 528, '지역': 487, '업력': 341, '요건': 369, '외국인': 367, '고용허가': 89, '범위를': 238, '확대하는': 578, '것을': 69, '검토키로': 66, '아울러': 332, '부과의': 243, '투명성을': 530, '확보하기': 582, '개정된': 64, '상가임대차': 276, '표준계약서를': 544, '적극': 440, '활용하도록': 584, '유도하고': 380, '운영과정에서': 373, '개선': 59, '필요사항을': 549, '검토할': 67, '예정이다': 360, '분쟁': 253, '발생시': 222, '임대차': 416, '분쟁조정위원회는': 254, '해결을': 565, '돕는다': 187, '위해서는': 378, '기술': 123, '보급': 240, '재정': 433, '확대할': 581, '예정': 359, '이라며': 388, '음식점업에': 384, '대해선': 178, '현재': 571, '한식업': 558, '7년': 31, '주방보조원에': 474, '한정해': 559, '허용되는': 570, '비자를': 262, '추가적으로': 515, '내용을': 144, '이라고': 387, '전했다': 447, '20일': 13, '시내': 319, '상가에': 275, '임대문의': 414, '게시물이': 70, '부착돼': 250, '폐업으로': 538, '인한': 409, '노란우산': 147, '공제금': 98, '지급액이': 484, '늘고': 157, '것으로': 68, '나타났다': 138, '05': 2, '20': 10, 'com규제합리화': 34, '가입독려소상공인의': 45, '영업환경': 357, '개선을': 60, '합리화': 562, '방안도': 227, '도입한다': 185, '금융접근성': 115, '기존에': 128, '사업주의': 268, '신용': 326, '또는': 194, '담보': 161, '중심으로': 482, '평가하던': 537, '신용평가체제를': 328, '매출액': 207, '사업장': 266, '정보': 454, '개편해': 65, '개인사업자의': 63, '자금': 424, '조달을': 468, '원활하게': 375, '돕는다는': 188, '개인사업자에': 62, '신용평가를': 327, '고도화하기': 86, '다양한': 160, '공공정보를': 94, '제공하기로': 464, '국세청의': 107, '소득세': 306, '표본자료에는': 543, '근로소득세': 113, '15개': 6, '항목': 563, '종합소득세': 472, '관련': 101, '18개': 7, '항목을': 564, '제공하는데': 465, '이를': 389, '확대한다는': 580, '소매상인의': 307, '비축물가': 263, '판매': 533, '허용': 569, '도로점용료': 183, '25': 14, '무료': 212, '법률지원': 239, '서비스': 289, '간이과세자': 50, '수수료': 316, '영업환경을': 358, '개선해': 61, '나간다는': 136, '두터운': 189, '생계안전망': 287, '구축을': 106, '노란우산공제': 148, '고용보험': 87, '가입을': 47, '독려한다': 186, '납입부금에': 139, '대해': 177, '소득공제': 305, '연간': 347, '600만원으로': 29, '조정하고': 470, '고용보험료': 88, '지원신청': 493, '절차를': 452, '간소화해': 49, '가입률을': 46, '높인다': 154, '김근수': 133, '1일': 8, '중구': 479, '명동': 210, '시내의': 320, '가게': 42, '앞에': 337, '임대': 411, '안내문이': 334, '붙어': 257, '07': 4, '01': 0, 'ks': 37, 'com전문가들': 35, '전문가들은': 444, '내놓은': 142, '대책에': 167, '어려움을': 339, '겪고': 71, '일시적인': 410, '도움을': 184, '있지만': 423, '실효성에': 331, '의문을': 386, '표하며': 545, '장기적인': 431, '대책을': 169, '만들어야': 201, '한다고': 555, '조언했다': 469, '김광석': 132, '한국경제산업연구원': 553, '연구실장은': 348, '재정을': 434, '투입하지': 531, '않고': 335, '배달료가': 232, '인하될': 406, '있을': 422, '배달플랫폼': 237, '기업드에게': 125, '배달비': 235, '감소를': 53, '요구한다면': 371, '다른': 159, '부분에서': 248, '비용감소분을': 259, '채우려고': 507, '노력할': 149, '가능성이': 43, '높다': 153, '말했다': 203, '이정희': 397, '중앙대': 483, '경제학과': 82, '교수는': 103, '당장': 162, '어렵다고': 340, '하니까': 550, '계속': 83, '책임질': 508, '없는': 343, '만큼': 202, '생계형과': 288, '사업형으로': 269, '나눈': 137, '제시해야': 467, '한다': 554, '석병훈': 293, '이화여대': 402, '성장을': 297, '촉진하기': 510, '지원책은': 496, '바람직하지만': 216, '소상공인들의': 309, '채무를': 505, '조정해주는': 471, '바람직하지': 215, '않다': 336, '경쟁력': 76, '소기업으로': 304, '만들고': 200, '경쟁력이': 77, '없으면': 344, '재취업할': 436, '지원하는': 497, '정책을': 462, '펼쳐야': 535, '주장했다': 475, '강종민': 54, '김병환': 135, '1차관이': 9, '지난': 485, '세종시': 300, '정부세종청사에서': 460, '열린': 355, '경제정책': 80, '방향': 230, '브리핑에서': 258, '발언하고': 223, 'ppkjm': 39}\u001b[0m\n",
      "['[\\n정책자금 상환연장 등 금융지원 3종 세트 추진5대 고정비용 지원…경영부담↓매출 기반 확충 규제합리화 방안 추진 및 사회안전망 가입독려\"소상공인 지원 실효성 의문…장기적 대책 필요\"\\n\\n\\n\\n[서울=뉴시스] 추상철 기자 = 3일 오후 서울의 한 전통시장에서 상인이 손님을 기다리고 있다. 2024.06.03. scchoo@newsis.com[세종=뉴시스]김동현 용윤신 임하은 기자 = 정부가 올해 하반기부터 소상공인의 경영 애로를 해소하기 위해 금융지원과 배달료·임대료·전기료 등 5대 고정비용에 대한 부담을 낮추는 방안을 본격화한다. 이번 대책은 코로나19 사태 이후 고금리 장기화로 채무가 누적되고 준비 부족으로 창업과 폐업을 반복하며 고통을 받고 있는 소상공인의 경영부담을 완화하는데 초점을 맞췄다. 정부는 3일 정부서울청사에서 최상목 경제부총리 겸 기획재정부 장관 주재로 관계부처 합동브리핑을 열고 이 같은 내용의 \\'역동경제 로드맵 및 하반기 경제정책방향\\'을 발표했다.소상공인 경영부담 완화 대책은 ▲금융지원 3종세트 ▲5대 고정비용 부담완화 ▲매출 지원 ▲사회안정망 강화 등 크게 4가지 분야로 추진된다.\\n\\n\\n\\n[서울=뉴시스] 3일 정부가 발표한 \\'2024년 하반기 경제정책방향\\'에 따르면 정부가 폐업하는 소상공인에게 채무조정과 재취업을 원한다. 새출발기금을 40조원 이상으로 확대하고, 점포철거비 지원금을 최대 400만원으로 상향한다. (그래픽=전진우 기자) 618tue@newsis.com정책자금 상환연장 등 금융지원 3종 세트 추진금융지원은 정책자금 분할상환 지원대상 확대 및 최대 5년까지 기간연장, 5조원 규모의 전환보증을 신설해 보증부 대출 만기 연장, 저금리 대환대출 지원대상 확대 등으로 마련했다. 정책자금 상환연장은 지원 대상을 사업경력 3년 이상, 대출 잔액 3000만원 이상에서 업력과 대출잔액 기준을 폐지하고 연장시 적용하는 금리를 기존 이용금리 +0.2% 포인트(p)로 적용, 기간은 최대 5년까지 확대하기로 했다. 정부는 지역신보 보증부 대출을 이용하는 소상공인이 대출 상환을 최대 5년까지 연장하기 위해  5조원 규모의 전환보증제도도 신설한다. 소상공인은 중도상환수수료를 면제 받을 수 있고 저신용자는 산출보증료율에서 0.2%p를 인하받는다. 또 은행·비은행권의 7% 이상 고금리 대출을 저금리 대출로 대환하는 프로그램 참여 요건을 완화해 4.5% 고정금리, 5000만원 한도를 10년 분할 상환하도록 한다는 구상이다. 이외에도 외식업계 농산물 구매자금 융자금 인하, 저신용 소상공인 정책자금 지원 대상 기준 상향 등을 통해 추가적인 정책 자금을 공급한다는 계획이다. 정부 관계자는 \"소상공인 금융지원 3종 세트는 \\'채무걱정 덜어드림\\' 3종 세트라고 명명을 했다\"며 \"정책자금 상환연장, 전환보증, 대환대출이라는 세 가지 툴을 바탕으로 해서 소상공인이 갖고 있는 대출의 만기를 연장하고 분할 상환할 수 있는 제도를 대폭 넣었다\"고 설명했다.\\n\\n\\n\\n[서울=뉴시스] 추상철 기자 = 3일 오후 서울의 한 전통시장에서 상인이 물건을 판매하고 있다. 2024.06.03. scchoo@newsis.com5대 고정비용 지원…경영부담↓매출 기반 확충 배달료·임대료·전기료·인건비·관리비 등 5대 고정비용에 대한 지원책도 내놨다. 먼저 공정거래위원회, 농축수산식품부, 중소기업벤처부 등 정부부처와 배달앱 사업자 외식업계 이해관계자 등이 참여해 경제적 부담 완화를 위한 논의를 실시하고 분야별 상생방안을 마련한다.또 플랫폼 자율 규제 기구 내 총괄위원회 역할을 강화해 이해관계자의 수요를 반영한 아젠다 설정 및 신속한 문제해결을 추진하고 최근 부담이 커지고 있는 사업주 부담 배달료는 영세 소상공인에 한해 배달료를 신규로 지원한다. 임대료는 소상공인에게 임차료를 인하한 임대인에 대한 세제지원과 국유재산 사용료 감면 지원기간을 내년말까지 연장하고 지자체와 협업해 공유재산 사용료 감면도 지속 추진한다는 방침이다. 영세 소상공인의 전기료 부담 경감을 위해 전기료 지원 대상도 확대한다. 정부는 현행 연매출 3000만원 이하의 매출로 설정된 기준을 6000만원 이하로 늘려 최대 50만명의 소상공인에게 전기료 지원 혜택을 준다는 계획이다. 인건비 절감을 위해선 키오스크, 서빙로봇 등 자동화 스마트 기술보급 지원을 확대하고 음식점업 주방보조원 E-9 비자 시범사업 평가를 토대로 지역·업력 요건 등 외국인 고용허가 범위를 확대하는 것을 검토키로 했다. 아울러 관리비 부과의 투명성을 확보하기 위해 개정된 상가임대차 표준계약서를 적극 활용하도록 유도하고 운영과정에서 개선 필요사항을 적극 검토할 예정이다. 분쟁 발생시 임대차 분쟁조정위원회는 소상공인의 분쟁 해결을 돕는다. 정부 관계자는 \"인건비 지원을 위해서는 키오스크 등 스마트 기술 보급 지원을 위한 재정 지원을 확대할 예정\"이라며 \"음식점업에 대해선 현재 한식업, 업력 5~7년, 주방보조원에 한정해 허용되는 E-9 비자를 추가적으로 범위를 확대하는 내용을 검토할 것\"이라고 전했다.\\n\\n\\n\\n[서울=뉴시스] 추상철 기자 = 20일 오후 서울 시내 상가에 임대문의 게시물이 부착돼 있다. 소상공인의 폐업으로 인한 \\'노란우산 공제금\\' 지급액이 크게 늘고 있는 것으로 나타났다. 2024.05.20. scchoo@newsis.com규제합리화 방안 추진 및 사회안전망 가입독려소상공인의 영업환경 개선을 위한 규제 합리화 방안도 도입한다. 소상공인의 금융접근성 개선을 위해선 기존에 사업주의 신용 또는 담보 중심으로 평가하던 신용평가체제를 매출액 등 사업장 정보 중심으로 개편해 개인사업자의 자금 조달을 원활하게 돕는다는 구상이다.또 개인사업자에 대한 신용평가를 고도화하기 위해 다양한 공공정보를 제공하기로 했다. 현재 국세청의 소득세 표본자료에는 근로소득세 15개 항목, 종합소득세 관련 정보 18개 항목을 제공하는데 이를 확대한다는 계획이다.  이외에도 ▲소매상인의 비축물가 판매 허용 ▲소상공인 대상 도로점용료 25% 감면 ▲무료 법률지원 서비스 대상 확대 ▲간이과세자 매출 기준 확대 및 수수료 감면 등을 통해 영업환경을 개선해 나간다는 방침이다. 두터운 생계안전망 구축을 위해선 노란우산공제, 고용보험 등 사회안전망 가입을 독려한다. 노란우산공제 납입부금에 대해 소득공제 한도를 연간 600만원으로 상향 조정하고 고용보험료 지원신청 절차를 간소화해 가입률을 높인다.\\n\\n\\n\\n[서울=뉴시스] 김근수 기자 = 1일 오후 서울 중구 명동 시내의 한 가게 앞에 임대 안내문이 붙어 있다. 2024.07.01. ks@newsis.com전문가들 \"소상공인 지원 실효성 의문…장기적 대책 필요\" 전문가들은 정부가 내놓은 소상공인 지원 대책에 대해 어려움을 겪고 있는 소상공인에게 일시적인 도움을 줄 수 있지만 실효성에 대해 의문을 표하며 장기적인 대책을 만들어야 한다고 조언했다.김광석 한국경제산업연구원 연구실장은 \"재정을 투입하지 않고 배달료가 인하될 수 있을 지 의문\"이라며 \"배달플랫폼 기업드에게 배달비 감소를 요구한다면 다른 부분에서 비용감소분을 채우려고 노력할 가능성이 높다\"고 말했다. 이정희 중앙대 경제학과 교수는 \"정부가 내놓은 소상공인 대책은 당장 어렵다고 하니까 도움을 줄 수 있는 일시적인 방안\"이라며 \"배달료를 정부가 계속 책임질 수 없는 만큼 생계형과 사업형으로 나눈 소상공인 대책을 제시해야 한다\"고 조언했다. 석병훈 이화여대 경제학과 교수는 \"소상공인의 성장을 촉진하기 위한 지원책은 바람직하지만 소상공인들의 채무를 조정해주는 지원책은 바람직하지 않다\"며 \"경쟁력 있는 소상공인은 소기업으로 만들고 경쟁력이 없으면 재취업할 수 있는 방안을 지원하는 정책을 펼쳐야 한다\"고 주장했다.\\n\\n\\n\\n[세종=뉴시스] 강종민 기자 = 김병환 기획재정부 1차관이 지난 1일 세종시 정부세종청사에서 열린 하반기 경제정책 방향 및 역동경제 로드맵 브리핑에서 발언하고 있다. 2024.07.03. ppkjm@newsis.com\\n]']\n",
      "\u001b[93mVectorized Sentence :\n",
      "\u001b[0m [[0.02335709 0.07007128 0.02335709 0.04671418 0.04671418 0.02335709\n",
      "  0.02335709 0.02335709 0.04671418 0.02335709 0.02335709 0.11678546\n",
      "  0.02335709 0.02335709 0.02335709 0.04671418 0.02335709 0.09342837\n",
      "  0.09342837 0.02335709 0.02335709 0.02335709 0.02335709 0.02335709\n",
      "  0.02335709 0.07007128 0.07007128 0.04671418 0.02335709 0.02335709\n",
      "  0.02335709 0.02335709 0.04671418 0.02335709 0.02335709 0.02335709\n",
      "  0.02335709 0.02335709 0.14014255 0.02335709 0.02335709 0.07007128\n",
      "  0.02335709 0.02335709 0.02335709 0.02335709 0.02335709 0.02335709\n",
      "  0.02335709 0.02335709 0.02335709 0.07007128 0.02335709 0.02335709\n",
      "  0.02335709 0.02335709 0.02335709 0.02335709 0.02335709 0.02335709\n",
      "  0.04671418 0.02335709 0.02335709 0.02335709 0.02335709 0.02335709\n",
      "  0.02335709 0.04671418 0.02335709 0.02335709 0.02335709 0.02335709\n",
      "  0.02335709 0.02335709 0.07007128 0.02335709 0.02335709 0.02335709\n",
      "  0.02335709 0.02335709 0.02335709 0.04671418 0.04671418 0.02335709\n",
      "  0.07007128 0.04671418 0.02335709 0.02335709 0.02335709 0.02335709\n",
      "  0.02335709 0.07007128 0.04671418 0.02335709 0.02335709 0.02335709\n",
      "  0.02335709 0.02335709 0.02335709 0.02335709 0.04671418 0.02335709\n",
      "  0.04671418 0.04671418 0.02335709 0.04671418 0.02335709 0.02335709\n",
      "  0.02335709 0.04671418 0.04671418 0.02335709 0.02335709 0.02335709\n",
      "  0.02335709 0.02335709 0.09342837 0.02335709 0.02335709 0.02335709\n",
      "  0.02335709 0.02335709 0.04671418 0.02335709 0.02335709 0.02335709\n",
      "  0.16349964 0.02335709 0.02335709 0.04671418 0.04671418 0.04671418\n",
      "  0.02335709 0.02335709 0.02335709 0.02335709 0.02335709 0.02335709\n",
      "  0.02335709 0.02335709 0.02335709 0.02335709 0.04671418 0.02335709\n",
      "  0.02335709 0.02335709 0.02335709 0.02335709 0.04671418 0.02335709\n",
      "  0.02335709 0.02335709 0.02335709 0.02335709 0.02335709 0.02335709\n",
      "  0.16349964 0.02335709 0.02335709 0.02335709 0.02335709 0.02335709\n",
      "  0.02335709 0.07007128 0.02335709 0.02335709 0.04671418 0.02335709\n",
      "  0.07007128 0.04671418 0.07007128 0.02335709 0.04671418 0.02335709\n",
      "  0.02335709 0.02335709 0.09342837 0.07007128 0.02335709 0.02335709\n",
      "  0.02335709 0.02335709 0.02335709 0.02335709 0.04671418 0.02335709\n",
      "  0.02335709 0.02335709 0.02335709 0.02335709 0.02335709 0.04671418\n",
      "  0.02335709 0.02335709 0.02335709 0.04671418 0.02335709 0.02335709\n",
      "  0.02335709 0.02335709 0.02335709 0.02335709 0.02335709 0.02335709\n",
      "  0.02335709 0.09342837 0.02335709 0.02335709 0.02335709 0.02335709\n",
      "  0.02335709 0.02335709 0.02335709 0.02335709 0.02335709 0.02335709\n",
      "  0.02335709 0.02335709 0.02335709 0.02335709 0.02335709 0.02335709\n",
      "  0.02335709 0.02335709 0.02335709 0.02335709 0.07007128 0.02335709\n",
      "  0.04671418 0.04671418 0.02335709 0.04671418 0.02335709 0.02335709\n",
      "  0.04671418 0.02335709 0.02335709 0.02335709 0.04671418 0.02335709\n",
      "  0.02335709 0.04671418 0.02335709 0.02335709 0.07007128 0.02335709\n",
      "  0.02335709 0.02335709 0.02335709 0.02335709 0.02335709 0.02335709\n",
      "  0.02335709 0.04671418 0.02335709 0.04671418 0.02335709 0.02335709\n",
      "  0.02335709 0.02335709 0.02335709 0.02335709 0.02335709 0.02335709\n",
      "  0.02335709 0.02335709 0.02335709 0.02335709 0.02335709 0.02335709\n",
      "  0.04671418 0.02335709 0.07007128 0.02335709 0.02335709 0.02335709\n",
      "  0.02335709 0.02335709 0.04671418 0.04671418 0.02335709 0.07007128\n",
      "  0.02335709 0.02335709 0.02335709 0.02335709 0.02335709 0.02335709\n",
      "  0.02335709 0.02335709 0.02335709 0.16349964 0.04671418 0.02335709\n",
      "  0.02335709 0.02335709 0.02335709 0.02335709 0.02335709 0.04671418\n",
      "  0.02335709 0.04671418 0.02335709 0.02335709 0.02335709 0.02335709\n",
      "  0.02335709 0.02335709 0.21021383 0.02335709 0.02335709 0.09342837\n",
      "  0.04671418 0.16349964 0.04671418 0.02335709 0.02335709 0.02335709\n",
      "  0.04671418 0.02335709 0.02335709 0.02335709 0.02335709 0.02335709\n",
      "  0.02335709 0.02335709 0.02335709 0.02335709 0.02335709 0.02335709\n",
      "  0.04671418 0.02335709 0.02335709 0.02335709 0.02335709 0.02335709\n",
      "  0.02335709 0.02335709 0.02335709 0.02335709 0.02335709 0.04671418\n",
      "  0.02335709 0.02335709 0.02335709 0.04671418 0.02335709 0.02335709\n",
      "  0.02335709 0.02335709 0.02335709 0.02335709 0.04671418 0.02335709\n",
      "  0.02335709 0.02335709 0.04671418 0.02335709 0.02335709 0.02335709\n",
      "  0.02335709 0.09342837 0.02335709 0.02335709 0.02335709 0.02335709\n",
      "  0.02335709 0.02335709 0.04671418 0.02335709 0.02335709 0.02335709\n",
      "  0.02335709 0.02335709 0.02335709 0.02335709 0.09342837 0.11678546\n",
      "  0.02335709 0.07007128 0.02335709 0.02335709 0.02335709 0.02335709\n",
      "  0.02335709 0.07007128 0.02335709 0.02335709 0.07007128 0.02335709\n",
      "  0.02335709 0.04671418 0.02335709 0.02335709 0.04671418 0.02335709\n",
      "  0.02335709 0.02335709 0.02335709 0.02335709 0.02335709 0.02335709\n",
      "  0.02335709 0.02335709 0.07007128 0.02335709 0.02335709 0.02335709\n",
      "  0.02335709 0.02335709 0.04671418 0.02335709 0.04671418 0.02335709\n",
      "  0.02335709 0.02335709 0.02335709 0.02335709 0.02335709 0.02335709\n",
      "  0.21021383 0.11678546 0.02335709 0.02335709 0.02335709 0.02335709\n",
      "  0.02335709 0.02335709 0.02335709 0.02335709 0.04671418 0.02335709\n",
      "  0.02335709 0.02335709 0.02335709 0.02335709 0.02335709 0.04671418\n",
      "  0.02335709 0.02335709 0.04671418 0.02335709 0.02335709 0.11678546\n",
      "  0.02335709 0.02335709 0.04671418 0.02335709 0.02335709 0.02335709\n",
      "  0.02335709 0.02335709 0.02335709 0.02335709 0.04671418 0.04671418\n",
      "  0.14014255 0.07007128 0.02335709 0.02335709 0.02335709 0.02335709\n",
      "  0.02335709 0.11678546 0.02335709 0.02335709 0.02335709 0.02335709\n",
      "  0.02335709 0.04671418 0.02335709 0.02335709 0.02335709 0.02335709\n",
      "  0.02335709 0.02335709 0.02335709 0.02335709 0.02335709 0.02335709\n",
      "  0.02335709 0.02335709 0.04671418 0.02335709 0.02335709 0.02335709\n",
      "  0.02335709 0.02335709 0.02335709 0.23357092 0.02335709 0.02335709\n",
      "  0.04671418 0.02335709 0.09342837 0.02335709 0.04671418 0.02335709\n",
      "  0.02335709 0.02335709 0.02335709 0.02335709 0.02335709 0.02335709\n",
      "  0.02335709 0.02335709 0.02335709 0.02335709 0.02335709 0.02335709\n",
      "  0.02335709 0.02335709 0.02335709 0.11678546 0.02335709 0.02335709\n",
      "  0.02335709 0.07007128 0.04671418 0.02335709 0.02335709 0.02335709\n",
      "  0.02335709 0.02335709 0.02335709 0.02335709 0.04671418 0.04671418\n",
      "  0.02335709 0.04671418 0.02335709 0.02335709 0.02335709 0.02335709\n",
      "  0.02335709 0.02335709 0.02335709 0.02335709 0.02335709 0.02335709\n",
      "  0.02335709 0.02335709 0.02335709 0.02335709 0.02335709 0.02335709\n",
      "  0.02335709 0.02335709 0.04671418 0.02335709 0.02335709 0.07007128\n",
      "  0.02335709 0.02335709 0.04671418 0.02335709 0.02335709 0.04671418\n",
      "  0.02335709 0.02335709 0.02335709 0.02335709 0.02335709 0.02335709\n",
      "  0.02335709 0.02335709 0.02335709 0.02335709 0.09342837 0.02335709\n",
      "  0.02335709 0.04671418 0.02335709 0.02335709 0.02335709 0.09342837\n",
      "  0.04671418 0.02335709 0.04671418 0.02335709 0.02335709 0.02335709\n",
      "  0.02335709 0.04671418 0.02335709]]\n"
     ]
    }
   ],
   "source": [
    "from sklearn.feature_extraction.text import TfidfVectorizer\n",
    "\n",
    "\n",
    "text_data = ['나는 배가 고프다','내일 점심 뭐먹지','내일 공부해야겠다','점심먹고 공부해야지']\n",
    "tfidf_vectorizer = TfidfVectorizer()\n",
    "tfidf_vectorizer.fit(text_data)\n",
    "print(tfidf_vectorizer.vocabulary_)\n",
    "sentence = [text_data[0]] ## \n",
    "print(sentence)\n",
    "print(tfidf_vectorizer.transform(sentence).toarray())\n",
    "\n",
    "\n",
    "\n",
    "def tfidfVectorize(text_data):\n",
    "    from sklearn.feature_extraction.text import TfidfVectorizer\n",
    "    tfidf_vectorizer =TfidfVectorizer()\n",
    "    tfidf_vectorizer.fit([text_data])\n",
    "    print(yellow(f\"vocab : \\n\"), red(tfidf_vectorizer.vocabulary_))\n",
    "\n",
    "    sentence =[[text_data][0]] ## \n",
    "    print(sentence)\n",
    "    print(yellow(f\"Vectorized Sentence :\\n\"),tfidf_vectorizer.transform(sentence).toarray())\n",
    "\n",
    "\n",
    "import pandas as pd\n",
    "news = pd.read_csv(\"./NewsData/경제_20240704_10시17분.csv\")\n",
    "# print(news.columns)\n",
    "test_article  = news.iloc[0]['content']\n",
    "# print(test_article)\n",
    "from Functions import NLP_Service as N\n",
    "N.tfidfVectorize(test_article)\n"
   ]
  },
  {
   "cell_type": "markdown",
   "metadata": {},
   "source": [
    "---\n",
    "### 자연어 Tokenizing 도구 들 \n",
    "- 영어 토크나이징 라이브러리 :\n",
    "    *NLTK "
   ]
  },
  {
   "cell_type": "code",
   "execution_count": 3,
   "metadata": {},
   "outputs": [
    {
     "name": "stdout",
     "output_type": "stream",
     "text": [
      "showing info https://raw.githubusercontent.com/nltk/nltk_data/gh-pages/index.xml\n"
     ]
    },
    {
     "data": {
      "text/plain": [
       "True"
      ]
     },
     "execution_count": 3,
     "metadata": {},
     "output_type": "execute_result"
    }
   ],
   "source": [
    "import nltk\n",
    "nltk.download() ## all 말뭉치 50개 다운로드 받음. "
   ]
  },
  {
   "cell_type": "code",
   "execution_count": 14,
   "metadata": {},
   "outputs": [
    {
     "name": "stdout",
     "output_type": "stream",
     "text": [
      "['natural', 'language', 'processing', '(', 'nlp', ')', 'is', 'a', 'subfield', 'of', 'computer', 'science', ',', 'imformation', 'engineering', ',', 'and', 'artificial', 'intelligence', 'concerned', 'with', 'the', 'interactions', 'between', 'computers', 'and', 'human', '(', 'natural', ')', 'languages', ',', 'in', 'particular', 'how', 'to', 'program', 'computers', 'to', 'process', 'and', 'analyze', 'large', 'amounts', 'of', 'natural', 'language', 'data']\n"
     ]
    }
   ],
   "source": [
    "## 단어 단위 토크나이징\n",
    "from nltk.tokenize import word_tokenize\n",
    "sentence = '''natural language processing(nlp) is a subfield of computer science,\n",
    "imformation engineering, and artificial intelligence concerned with the interactions\n",
    "between computers and human  (natural) languages, in particular how to program computers\n",
    "to process and analyze large amounts of natural language data \n",
    "'''\n",
    "print(word_tokenize(sentence))\n"
   ]
  },
  {
   "cell_type": "code",
   "execution_count": 1,
   "metadata": {},
   "outputs": [
    {
     "name": "stdout",
     "output_type": "stream",
     "text": [
      "[' Natural language processing(nlp) is a subfield of computer science,\\n'\n",
      " 'information engineering, and artificial intelligence concerned with the '\n",
      " 'interactions\\n'\n",
      " 'between computers and human (natural) languages, in particular how to '\n",
      " 'program\\n'\n",
      " 'computers to process and analyze large amounts of natural language data.',\n",
      " 'Challenges in \\n'\n",
      " 'natural language processing fequently involve speech recognition, natural '\n",
      " 'language understanding,\\n'\n",
      " 'and natural language generation.']\n"
     ]
    }
   ],
   "source": [
    "# 문장단위 토크나이징 \n",
    "from nltk.tokenize import sent_tokenize\n",
    "paragraph = \"\"\" Natural language processing(nlp) is a subfield of computer science,\n",
    "information engineering, and artificial intelligence concerned with the interactions\n",
    "between computers and human (natural) languages, in particular how to program\n",
    "computers to process and analyze large amounts of natural language data. Challenges in \n",
    "natural language processing fequently involve speech recognition, natural language understanding,\n",
    "and natural language generation.\n",
    "\"\"\"\n",
    "from pprint import pprint \n",
    "pprint(sent_tokenize(paragraph))\n",
    "\n",
    "def tokenization_eng(text, word_tkn = False, sent_tkn= False):\n",
    "    import nltk\n",
    "    from nltk.tokenize import word_tokenize\n",
    "    from nltk.tokenize import sent_tokenize\n",
    "    from pprint import pprint \n",
    "    word_list =[]\n",
    "    if sent_tkn:\n",
    "        for sentence in sent_tokenize(text):\n",
    "            for word in word_tokenize(sentence):\n",
    "                word_list.append(word)\n",
    "        pprint(word_list)        \n",
    "        return word_list\n",
    "    if word_tkn:\n",
    "        pprint(word_tokenize(text))\n",
    "        return \n",
    "    "
   ]
  },
  {
   "cell_type": "code",
   "execution_count": 2,
   "metadata": {},
   "outputs": [
    {
     "data": {
      "text/plain": [
       "['Natural',\n",
       " 'language',\n",
       " 'processing',\n",
       " '(',\n",
       " 'nlp',\n",
       " ')',\n",
       " 'is',\n",
       " 'a',\n",
       " 'subfield',\n",
       " 'of',\n",
       " 'computer',\n",
       " 'science',\n",
       " ',',\n",
       " 'information',\n",
       " 'engineering',\n",
       " ',',\n",
       " 'and',\n",
       " 'artificial',\n",
       " 'intelligence',\n",
       " 'concerned',\n",
       " 'with',\n",
       " 'the',\n",
       " 'interactions',\n",
       " 'between',\n",
       " 'computers',\n",
       " 'and',\n",
       " 'human',\n",
       " '(',\n",
       " 'natural',\n",
       " ')',\n",
       " 'languages',\n",
       " ',',\n",
       " 'in',\n",
       " 'particular',\n",
       " 'how',\n",
       " 'to',\n",
       " 'program',\n",
       " 'computers',\n",
       " 'to',\n",
       " 'process',\n",
       " 'and',\n",
       " 'analyze',\n",
       " 'large',\n",
       " 'amounts',\n",
       " 'of',\n",
       " 'natural',\n",
       " 'language',\n",
       " 'data',\n",
       " '.',\n",
       " 'Challenges',\n",
       " 'in',\n",
       " 'natural',\n",
       " 'language',\n",
       " 'processing',\n",
       " 'fequently',\n",
       " 'involve',\n",
       " 'speech',\n",
       " 'recognition',\n",
       " ',',\n",
       " 'natural',\n",
       " 'language',\n",
       " 'understanding',\n",
       " ',',\n",
       " 'and',\n",
       " 'natural',\n",
       " 'language',\n",
       " 'generation',\n",
       " '.']"
      ]
     },
     "execution_count": 2,
     "metadata": {},
     "output_type": "execute_result"
    }
   ],
   "source": [
    "from Functions import NLP_Service as N\n",
    "N.tokenization_eng(paragraph,sent_tkn=True)"
   ]
  },
  {
   "cell_type": "code",
   "execution_count": 19,
   "metadata": {},
   "outputs": [
    {
     "name": "stdout",
     "output_type": "stream",
     "text": [
      "['natural', 'language', 'processing(nlp', ')', 'is', 'a', 'subfield', 'of', 'computer', 'science', ',', '\\n', 'imformation', 'engineering', ',', 'and', 'artificial', 'intelligence', 'concerned', 'with', 'the', 'interactions', '\\n', 'between', 'computers', 'and', 'human', ' ', '(', 'natural', ')', 'languages', ',', 'in', 'particular', 'how', 'to', 'program', 'computers', '\\n', 'to', 'process', 'and', 'analyze', 'large', 'amounts', 'of', 'natural', 'language', 'data', '\\n']\n",
      "['natural language processing(nlp) is a subfield of computer science,\\n'\n",
      " 'imformation engineering, and artificial intelligence concerned with the '\n",
      " 'interactions\\n'\n",
      " 'between computers and human  (natural) languages, in particular how to '\n",
      " 'program computers\\n'\n",
      " 'to process and analyze large amounts of natural language data \\n']\n"
     ]
    }
   ],
   "source": [
    "def spacyTokenizer():\n",
    "    import subprocess,sys\n",
    "    import warnings ; warnings.filterwarnings('ignore')\n",
    "    # pip가 없으면 pip를 설치\n",
    "    try:import pip\n",
    "    except ImportError:\n",
    "        print(\"Install pip for python3\")\n",
    "        subprocess.call(['sudo', 'apt-get', 'install', 'python3-pip'])\n",
    "\n",
    "    # tweepy 없으면 tweepy 설치\n",
    "    try:import spacy        \n",
    "    except ModuleNotFoundError:\n",
    "        print(\"Install spacy\")\n",
    "        subprocess.call([sys.executable, \"-m\", \"pip\", \"install\", 'spacy'])\n",
    "            # spacy 언어 모델 다운로드\n",
    "        subprocess.call([sys.executable, \"-m\", \"spacy\", \"download\", 'en'])\n",
    "    finally:\n",
    "        import spacy\n",
    "    import spacy\n",
    "\n",
    "    nlp = spacy.load(\"en_core_web_sm\")\n",
    "    doc = nlp(sentence)\n",
    "    word_tokennized_sentence = [token.text for token in doc]\n",
    "    sentence_tokenized_list = [sent.text for sent in doc.sents]\n",
    "    print(word_tokennized_sentence)\n",
    "    pprint(sentence_tokenized_list)"
   ]
  },
  {
   "cell_type": "markdown",
   "metadata": {},
   "source": [
    "---\n",
    "### 한글 자연어 처리 \n"
   ]
  },
  {
   "cell_type": "code",
   "execution_count": 1,
   "metadata": {},
   "outputs": [],
   "source": [
    "from konlpy.tag import Okt\n",
    "okt = Okt()\n",
    "import pandas as pd\n",
    "news = pd.read_csv(\"./NewsData/경제_20240704_10시17분.csv\")\n",
    "# print(news.columns)\n",
    "test_article  = news.iloc[0]['content']\n",
    "from Functions import NLP_Service as N\n",
    "\n",
    "test_article= N.pad_punctuation(test_article)"
   ]
  },
  {
   "cell_type": "code",
   "execution_count": 6,
   "metadata": {},
   "outputs": [
    {
     "name": "stdout",
     "output_type": "stream",
     "text": [
      "['정책', '자금', '상환', '연장', '등', '금융', '지원', '종', '세트', '추진', '고정', '비용', '지원', '경영', '부담', '매출', '기반', '확충', '규제', '합리화', '방안', '추진', '및', '회안', '전망', '가입', '독려', '소상', '공인', '지원', '실효', '의문', '장기', '대책', '필요', '서울', '뉴시스', '추상', '철', '기자', '오후', '서울', '전통', '시장', '상인', '손님', '세종', '뉴시스', '김동현', '용윤신', '임하은', '기자', '정부', '올해', '하반기', '상공', '경영', '애로', '해소', '위해', '금융', '지원', '배달', '료', '임대료', '전기', '료', '등', '고정', '비용', '대한', '부담', '방안', '본격', '이번', '대책', '코로나', '사태', '이후', '금리', '장기', '화로', '채무', '누적', '준비', '부족', '창업', '폐업', '반복', '고통', '상공', '부담', '완화', '초점', '정부', '정부', '서울', '청사', '최상', '목', '경제부총리', '겸', '기획재정부', '장관', '주재', '관계', '부처', '합동', '브리핑', '이', '내용', '역', '동경제', '로드맵', '및', '하반기', '경제정책', '방향', '발표', '소상', '공인', '경영', '부담', '완화', '대책', '금융', '지원', '종', '세트', '고정', '비용', '부담', '완화', '매출', '지원', '사회', '안정', '망', '강화', '등', '크게', '가지', '분야', '추진', '서울', '뉴시스', '정부', '발표', '하반기', '경제정책', '방향', '정부', '폐업', '상공', '채무', '조정', '재', '취업', '출발', '기금', '이상', '확대', '점포', '철거', '비', '원금', '최대', '상향', '그래픽', '전진우', '기자', '정책', '자금', '상환', '연장', '등', '금융', '지원', '종', '세트', '추진', '금융', '지원', '정책', '자금', '분할', '상환', '지원', '대상', '확대', '및', '최대', '기간', '연장', '규모', '전환', '보증', '신설', '보증', '부', '대출', '만기', '연장', '금리', '환', '대출', '지원', '대상', '확대', '등', '마련', '정책', '자금', '상환', '연장', '지원', '대상', '사업', '경력', '이상', '대출', '잔액', '이상', '업력', '대출', '잔액', '기준', '폐지', '장시', '적용', '금리', '기존', '이용', '금리', '포인트', '로', '적용', '기간', '최대', '확대', '정부', '지역', '보', '보증', '부', '대출', '이용', '상공', '대출', '상환', '최대', '연장', '위해', '규모', '전환', '보증', '제도', '신설', '상공', '중도', '상환', '수수료', '면제', '수', '신용', '산출', '보증', '료율', '를', '인하', '또', '은행', '비', '은행권', '이상', '금리', '대출', '금리', '대출', '프로그램', '참여', '요건', '완화', '고정', '금리', '한도', '분할', '상환', '구상', '이외', '외식', '업계', '농산물', '구매', '자금', '융', '자금', '인하', '신용', '소상', '공인', '정책', '자금', '지원', '대상', '기준', '상향', '등', '통해', '추가', '정책', '자금', '공급', '계획', '정부', '관계자', '소상', '공인', '금융', '지원', '종', '세트', '채무', '걱정', '드림', '종', '세트', '명명', '며', '정책', '자금', '상환', '연장', '전환', '보증', '환', '대출', '세', '가지', '툴', '바탕', '상공', '대출', '만기', '연장', '분할', '상환', '수', '제도', '대폭', '고', '설명', '서울', '뉴시스', '추상', '철', '기자', '오후', '서울', '전통', '시장', '상인', '물건', '판매', '고정', '비용', '지원', '경영', '부담', '매출', '기반', '확충', '배달', '료', '임대료', '전기', '료', '인건비', '관리', '비', '등', '고정', '비용', '대한', '책', '먼저', '공정', '거래', '위원회', '농축', '수산', '식품부', '중소기업', '처부', '등', '정부', '부처', '배달', '앱', '사업자', '외식', '업계', '이해관계자', '등', '참여', '경제', '부담', '완화', '위', '논의', '실시', '분야', '별', '상생', '방안', '마련', '또', '플랫폼', '자율', '규제', '기구', '내', '총괄', '위원회', '역할', '이해관계자', '수요', '반영', '젠', '설정', '및', '문제해결', '추진', '최근', '부담', '업주', '부담', '배달', '료', '영세', '상공', '한해', '배달', '료', '신규', '지원', '임대료', '상공', '임차료', '인하', '임대', '대한', '지원', '국유재산', '사용', '료', '지원기', '내년', '말', '연장', '지자체', '협업', '공유', '재산', '사용', '료', '지속', '추진', '방침', '영세', '상공', '전기', '료', '부담', '경감', '위해', '전기', '료', '지원', '대상', '확대', '정부', '현행', '연매출', '이하', '매출', '설정', '기준', '이하', '최대', '상공', '전기', '료', '지원', '혜택', '계획', '인건비', '절감', '위해', '선', '키', '오스', '서빙', '로봇', '등', '자동화', '스마트', '기술', '보급', '지원', '확대', '음식점', '업', '주방', '보조', '비자', '시범', '사업', '평가', '토대', '지역', '업력', '요건', '등', '외국인', '고용', '허가', '범위', '확대', '것', '검토', '관리', '비', '부과', '투명', '확보', '위해', '개정', '상가', '임대차', '표준', '계약서', '적극', '활용', '유도', '운영', '과정', '개선', '필요', '사항', '적극', '검토', '예정', '분쟁', '발생', '시', '임대차', '분쟁', '조정', '위원회', '상공', '분쟁', '해결', '정부', '관계자', '인건비', '지원', '위', '키', '오스', '등', '스마트', '기술', '보급', '지원', '위', '재정', '지원', '확대', '예정', '라며', '음식점', '업', '대해', '선', '현재', '한식', '업', '업력', '주방', '보조', '정해', '허용', '비자', '추가', '범위', '확대', '내용', '검토', '것', '전', '서울', '뉴시스', '추상', '철', '기자', '오후', '서울', '시내', '상가', '임대', '문의', '게시', '물이', '부착', '상공', '폐업', '우산', '공제', '금', '지급', '액', '크게', '늘', '것', '규제', '합리화', '방안', '추진', '및', '회안', '전망', '가입', '독려', '상공', '영업', '환경', '개선', '위', '규제', '합리화', '방안', '도입', '상공', '금융', '접근성', '개선', '위해', '선', '기존', '사업', '주의', '신용', '담보', '중심', '평가', '용평', '체제', '매출', '액', '등', '사업', '정보', '중심', '개편', '개인', '사업자', '자금', '조달', '구상', '또', '개인', '사업자', '대한', '신용', '평가', '고도화', '위해', '정보', '제공', '현재', '국세청', '소득세', '표본', '자료', '근로', '소득세', '개', '항목', '종합소득세', '관련', '정보', '개', '항목', '제공', '확대', '계획', '이외', '상인', '비축', '물가', '판매', '허용', '소상', '공인', '대상', '도로점용', '료', '무료', '법률', '지원', '서비스', '대상', '확대', '간이', '과세', '매출', '기준', '확대', '및', '수수료', '등', '통해', '영업', '환경', '개선', '방침', '생계', '안전', '망', '구축', '위해', '선', '우산', '공제', '고용', '보험', '등', '회안', '전망', '가입', '독려', '우산', '공제', '납입', '부금', '대해', '소득공제', '한도', '연간', '상향', '조정', '고용', '보험료', '지원', '신청', '절차', '간소화', '가입', '률', '서울', '뉴시스', '김근수', '기자', '오후', '서울', '중구', '명동', '시내', '가게', '앞', '임대', '전문가', '소상', '공인', '지원', '실효', '의문', '장기', '대책', '필요', '전문가', '정부', '소상', '공인', '지원', '대책', '대해', '어려움', '상공', '일시', '도움', '줄', '수', '실효', '대해', '의문', '표', '장기', '대책', '조언', '김광석', '한국', '경제', '산업', '연구원', '연구실', '재정', '투입', '배달', '료', '인하', '수', '의문', '라며', '배달', '플랫폼', '기업드', '배달', '비', '감소', '요구', '면', '다른', '부분', '비용', '감소', '노력', '가능성', '고', '말', '이정희', '중앙대', '경제학', '교수', '정부', '소상', '공인', '대책', '당장', '도움', '줄', '수', '일시', '방안', '라며', '배달', '료', '정부', '계속', '수', '만큼', '생계', '사업', '소상', '공인', '대책', '제시', '고', '조언', '석병훈', '이화여대', '경제학', '교수', '상공', '성장', '촉진', '위', '책', '소상', '공인', '채무', '조정', '책', '며', '경쟁력', '상공', '기업', '경쟁력', '재', '취업', '수', '방안', '지원', '정책', '고', '주장', '세종', '뉴시스', '강종민', '기자', '김', '병환', '기획재정부', '차관', '지난', '세종시', '정부', '세종', '청사', '하반기', '경제정책', '방향', '및', '역', '동경제', '로드맵', '브리핑', '발언']\n",
      "['정책자금', '정책자금 상환연장', '정책자금 상환연장 등', '정책자금 상환연장 등 금융지원', '정책자금 상환연장 등 금융지원 3종', '정책자금 상환연장 등 금융지원 3종 세트', '정책자금 상환연장 등 금융지원 3종 세트 추진5', '고정비용', '고정비용 지원', '경영부담', '매출', '매출 기반', '매출 기반 확충', '매출 기반 확충 규제합리화', '매출 기반 확충 규제합리화 방안', '매출 기반 확충 규제합리화 방안 추진', '매출 기반 확충 규제합리화 방안 추진 및', '매출 기반 확충 규제합리화 방안 추진 및 사회안전망', '소상공인', '소상공인 지원', '소상공인 지원 실효성', '소상공인 지원 실효성 의문', '장기적 대책', '장기적 대책 필요', '서울', '뉴시스', '뉴시스 추상철', '뉴시스 추상철 기자', '3일', '3일 오후', '3일 오후 서울', '3일 오후 서울의 한 전통시장', '상인', '손님', '2024.06', '03', '세종', '뉴시스김동현', '뉴시스김동현 용윤신', '뉴시스김동현 용윤신 임하은', '뉴시스김동현 용윤신 임하은 기자', '정부', '올해', '올해 하반기', '소상공인의 경영', '소상공인의 경영 애로', '해소', '위해', '위해 금융지원', '위해 금융지원과 배달료', '임대료', '전기료', '전기료 등', '전기료 등 5', '대한', '대한 부담', '방안', '본격', '이번', '이번 대책', '코로나19', '코로나19 사태', '코로나19 사태 이후', '코로나19 사태 이후 고금리', '코로나19 사태 이후 고금리 장기화로', '코로나19 사태 이후 고금리 장기화로 채무', '누적', '준비', '준비 부족', '창업', '창업과 폐업', '반복', '고통', '있는 소상공인', '있는 소상공인의 경영부담', '완화', '초점', '3일 정부서울청사', '최상목', '최상목 경제부총리', '최상목 경제부총리 겸', '최상목 경제부총리 겸 기획재정부', '최상목 경제부총리 겸 기획재정부 장관', '최상목 경제부총리 겸 기획재정부 장관 주재', '관계부처', '관계부처 합동브리핑', '이 같은 내용', '역동경제', '역동경제 로드맵', '역동경제 로드맵 및', '역동경제 로드맵 및 하반기', '역동경제 로드맵 및 하반기 경제정책방향', '발표', '소상공인 경영부담', '소상공인 경영부담 완화', '소상공인 경영부담 완화 대책', '금융지원', '금융지원 3종세트', '고정비용 부담완화', '매출 지원', '사회안정망', '사회안정망 강화', '사회안정망 강화 등', '사회안정망 강화 등 크게', '사회안정망 강화 등 크게 4가지', '사회안정망 강화 등 크게 4가지 분야', '추진', '뉴시스 3일', '뉴시스 3일 정부', '2024년', '2024년 하반기', '2024년 하반기 경제정책방향', '폐업', '폐업하는 소상공인', '채무조정', '채무조정과 재취업', '새출발기금', '40조원', '40조원 이상', '확대', '점포철거비', '점포철거비 지원금', '최대', '최대 400만원', '상향', '그래픽', '전진우', '전진우 기자', '정책자금 상환연장 등 금융지원 3종 세트 추진금융지원', '정책자금 분할상환', '정책자금 분할상환 지원대상', '정책자금 분할상환 지원대상 확대', '정책자금 분할상환 지원대상 확대 및', '정책자금 분할상환 지원대상 확대 및 최대', '정책자금 분할상환 지원대상 확대 및 최대 5년', '기간연장', '5조원', '5조원 규모', '5조원 규모의 전환보증', '신설', '보증부', '보증부 대출', '보증부 대출 만기', '보증부 대출 만기 연장', '저금리', '저금리 대환대출', '저금리 대환대출 지원대상', '저금리 대환대출 지원대상 확대', '저금리 대환대출 지원대상 확대 등', '마련', '지원', '지원 대상', '사업경력', '사업경력 3년', '사업경력 3년 이상', '대출', '대출 잔액', '대출 잔액 3000만원', '대출 잔액 3000만원 이상', '업력', '업력과 대출잔액', '업력과 대출잔액 기준', '폐지', '연장시', '연장시 적용', '연장시 적용하는 금리', '기존', '기존 이용금리', '0.2%', '0.2% 포인트', '로 적용', '기간', '최대 5년', '지역신보', '지역신보 보증부', '지역신보 보증부 대출', '이용', '이용하는 소상공인', '대출 상환', '연장', '위해 5조원', '위해 5조원 규모', '위해 5조원 규모의 전환보증제도', '중도상환수수료', '면제', '면제 받을 수', '저신용자', '산출보증료율', '0.2%p를', '0.2%p를 인하', '또 은행', '비은행권', '비은행권의 7%', '비은행권의 7% 이상', '비은행권의 7% 이상 고금리', '비은행권의 7% 이상 고금리 대출', '저금리 대출', '환하는 프로그램', '환하는 프로그램 참여', '환하는 프로그램 참여 요건', '4.5%', '4.5% 고정금리', '5000만원', '5000만원 한도', '10년', '10년 분할', '10년 분할 상환', '한다는', '한다는 구상', '이외', '외식업계', '외식업계 농산물', '외식업계 농산물 구매자금', '외식업계 농산물 구매자금 융자금', '외식업계 농산물 구매자금 융자금 인하', '저신용', '저신용 소상공인', '저신용 소상공인 정책자금', '저신용 소상공인 정책자금 지원', '저신용 소상공인 정책자금 지원 대상', '저신용 소상공인 정책자금 지원 대상 기준', '저신용 소상공인 정책자금 지원 대상 기준 상향', '저신용 소상공인 정책자금 지원 대상 기준 상향 등', '통해', '정책', '정책 자금', '공급한다는', '공급한다는 계획', '정부 관계자', '소상공인 금융지원', '소상공인 금융지원 3종', '소상공인 금융지원 3종 세트', '채무걱정', '드림', '3종', '3종 세트', '명명', '전환보증', '대환대출', '세 가지', '세 가지 툴', '바탕', '있는 대출', '있는 대출의 만기', '분할', '분할 상환', '분할 상환할 수', '분할 상환할 수 있는 제도', '대폭', '고 설명', '물건', '판매', '매출 기반 확충 배달료', '인건비', '관리비', '관리비 등', '관리비 등 5', '대한 지원책', '먼저', '먼저 공정거래위원회', '농축수산식품부', '중소기업', '중소기업벤처부', '중소기업벤처부 등', '중소기업벤처부 등 정부부처', '중소기업벤처부 등 정부부처와 배달앱', '중소기업벤처부 등 정부부처와 배달앱 사업자', '참여', '경제적 부담', '경제적 부담 완화', '논의', '실시', '분야별', '분야별 상생방안', '또 플랫폼', '또 플랫폼 자율', '또 플랫폼 자율 규제', '또 플랫폼 자율 규제 기구', '또 플랫폼 자율 규제 기구 내', '또 플랫폼 자율 규제 기구 내 총괄위원회', '또 플랫폼 자율 규제 기구 내 총괄위원회 역할', '이해관계자', '이해관계자의 수요', '반영', '설정', '설정 및', '설정 및 신속한 문제해결', '최근', '최근 부담', '있는 사업주', '있는 사업주 부담', '있는 사업주 부담 배달료', '영세', '영세 소상공인', '한해', '한해 배달료', '신규', '임차료', '인하', '임대인', '대한 세제지원', '대한 세제지원과 국유재산', '대한 세제지원과 국유재산 사용료', '대한 세제지원과 국유재산 사용료 감면 지원기간', '내년말', '지자체', '지자체와 협업', '공유재산', '공유재산 사용료', '지속', '지속 추진한다는', '지속 추진한다는 방침', '영세 소상공인의 전기료', '영세 소상공인의 전기료 부담', '영세 소상공인의 전기료 부담 경감', '위해 전기료', '위해 전기료 지원', '위해 전기료 지원 대상', '현행', '현행 연매출', '현행 연매출 3000만원', '현행 연매출 3000만원 이하', '현행 연매출 3000만원 이하의 매출', '설정된 기준', '6000만원', '6000만원 이하', '최대 50만', '전기료 지원', '전기료 지원 혜택', '계획', '인건비 절감', '위해선', '위해선 키오스', '서빙로봇', '서빙로봇 등', '서빙로봇 등 자동화', '서빙로봇 등 자동화 스마트', '서빙로봇 등 자동화 스마트 기술보급', '서빙로봇 등 자동화 스마트 기술보급 지원', '음식점업', '음식점업 주방보조원', '음식점업 주방보조원 E', '9 비자', '9 비자 시범사업', '9 비자 시범사업 평가', '토대', '지역', '업력 요건', '업력 요건 등', '업력 요건 등 외국인', '업력 요건 등 외국인 고용허가', '업력 요건 등 외국인 고용허가 범위', '확대하는 것', '검토키로', '관리비 부과', '관리비 부과의 투명성', '확보', '위해 개정', '위해 개정된 상가임대차', '위해 개정된 상가임대차 표준계약서', '적극', '적극 활용', '유도', '운영과정', '개선', '개선 필요사항', '적극 검토', '적극 검토할 예정', '분쟁', '분쟁 발생시', '분쟁 발생시 임대차', '분쟁 발생시 임대차 분쟁조정위원회', '소상공인의 분쟁', '소상공인의 분쟁 해결', '인건비 지원', '위해서는 키오스', '등 스마트', '등 스마트 기술', '등 스마트 기술 보급', '등 스마트 기술 보급 지원', '재정', '재정 지원', '확대할 예정', '이라며', '대해선', '대해선 현재', '대해선 현재 한식업', '업력 5~7년', '주방보조원', '한정해', '한정해 허용', '한정해 허용되는 E', '범위', '확대하는 내용', '검토', '검토할 것', '20일', '20일 오후', '20일 오후 서울', '20일 오후 서울 시내', '20일 오후 서울 시내 상가', '임대문의', '임대문의 게시물이', '임대문의 게시물이 부착', '소상공인의 폐업', '노란우산', '노란우산 공제금', '지급액', '크게', '크게 늘', '있는 것', '2024.05', '20', '규제합리화', '규제합리화 방안', '규제합리화 방안 추진', '규제합리화 방안 추진 및', '규제합리화 방안 추진 및 사회안전망', '규제합리화 방안 추진 및 사회안전망 가입독려소상공인', '규제합리화 방안 추진 및 사회안전망 가입독려소상공인의 영업환경', '규제', '규제 합리화', '규제 합리화 방안', '도입', '소상공인의 금융접근성', '소상공인의 금융접근성 개선', '위해선 기존', '사업주의', '사업주의 신용', '담보', '담보 중심', '평가', '평가하던 신용평', '체제', '매출액', '매출액 등', '매출액 등 사업장', '매출액 등 사업장 정보', '매출액 등 사업장 정보 중심', '개편', '개인사업자', '개인사업자의 자금', '개인사업자의 자금 조달', '구상', '또 개인사업자', '대한 신용평가', '고도화', '위해 다양한 공공정보', '제공', '현재', '현재 국세청', '현재 국세청의 소득세', '현재 국세청의 소득세 표본자료', '근로소득세', '근로소득세 15개', '근로소득세 15개 항목', '종합소득세', '종합소득세 관련', '종합소득세 관련 정보', '종합소득세 관련 정보 18개', '종합소득세 관련 정보 18개 항목', '확대한다는', '확대한다는 계획', '소매상인', '소매상인의 비축물가', '소매상인의 비축물가 판매', '소매상인의 비축물가 판매 허용', '소상공인 대상', '소상공인 대상 도로점용료', '소상공인 대상 도로점용료 25%', '무료', '무료 법률지원', '무료 법률지원 서비스', '무료 법률지원 서비스 대상', '무료 법률지원 서비스 대상 확대', '간이과세자', '간이과세자 매출', '간이과세자 매출 기준', '간이과세자 매출 기준 확대', '간이과세자 매출 기준 확대 및', '간이과세자 매출 기준 확대 및 수수료', '간이과세자 매출 기준 확대 및 수수료 감면 등', '통해 영업환경', '방침', '두터운 생계안전망', '두터운 생계안전망 구축', '위해선 노란우산공제', '고용보험', '고용보험 등', '고용보험 등 사회안전망', '고용보험 등 사회안전망 가입', '독려', '노란우산공제', '노란우산공제 납입부금', '대해', '대해 소득공제', '대해 소득공제 한도', '연간', '연간 600만원', '상향 조정', '고용보험료', '고용보험료 지원신청', '고용보험료 지원신청 절차', '간소화', '가입률', '뉴시스 김근수', '뉴시스 김근수 기자', '1일', '1일 오후', '1일 오후 서울', '1일 오후 서울 중구', '1일 오후 서울 중구 명동', '1일 오후 서울 중구 명동 시내', '임대', '임대 안내', '2024.07', '01', '전문가들', '소상공인 지원 대책', '대해 어려움', '도움', '실효성', '대해 의문', '대책', '조언', '김광석', '김광석 한국경제산업연구원', '김광석 한국경제산업연구원 연구실장', '투입', '배달료', '인하될 수', '의문', '배달플랫폼', '배달플랫폼 기업드', '배달비', '배달비 감소', '요구', '면 다른', '면 다른 부분', '비용감소분', '노력', '노력할 가능성', '이정희', '이정희 중앙대', '이정희 중앙대 경제학', '이정희 중앙대 경제학과 교수', '소상공인 대책', '당장', '계속', '계속 책임질 수', '계속 책임질 수 없는 만큼', '계속 책임질 수 없는 만큼 생계형', '계속 책임질 수 없는 만큼 생계형과 사업형', '제시', '고 조언', '석병훈', '석병훈 이화여대', '석병훈 이화여대 경제학', '석병훈 이화여대 경제학과 교수', '소상공인의 성장', '촉진', '지원책', '소상공인들', '소상공인들의 채무', '조정', '조정해주는 지원책', '경쟁력', '경쟁력 있는 소상공인', '소기업', '없으면 재취업', '없으면 재취업할 수', '없으면 재취업할 수 있는 방안', '지원하는 정책', '고 주장', '뉴시스 강종민', '뉴시스 강종민 기자', '김병환', '김병환 기획재정부', '김병환 기획재정부 1차관', '지난', '지난 1일', '지난 1일 세종시', '지난 1일 세종시 정부세종청사', '하반기', '하반기 경제정책', '하반기 경제정책 방향', '하반기 경제정책 방향 및', '하반기 경제정책 방향 및 역동경제', '하반기 경제정책 방향 및 역동경제 로드맵', '하반기 경제정책 방향 및 역동경제 로드맵 브리핑', '발언', '자금', '상환', '금융', '세트', '고정', '비용', '경영', '부담', '기반', '확충', '합리화', '사회안', '전망', '가입', '소상', '공인', '필요', '추상', '기자', '오후', '전통', '시장', '김동현', '용윤신', '임하은', '애로', '배달', '전기', '코로나', '19', '사태', '이후', '고금리', '장기', '화로', '채무', '부족', '청사', '최상', '경제부총리', '기획재정부', '장관', '주재', '관계', '부처', '합동', '브리핑', '내용', '동경제', '로드맵', '경제정책', '방향', '사회', '안정', '강화', '가지', '분야', '취업', '새출발', '기금', '이상', '점포', '철거', '지원금', '400만원', '대상', '5년', '규모', '전환', '보증', '만기', '대환', '사업', '경력', '3년', '잔액', '3000만원', '기준', '적용', '금리', '포인트', '신보', '제도', '중도', '수수료', '산출', '료율', '0.2%p', '은행', '은행권', '7%', '프로그램', '요건', '한도', '외식', '업계', '농산물', '구매', '공급', '관계자', '걱정', '설명', '관리', '공정', '거래', '위원회', '농축', '수산', '식품부', '처부', '사업자', '상생', '플랫폼', '자율', '기구', '총괄', '역할', '수요', '문제해결', '사업주', '세제지원', '국유재산', '사용', '지원기간', '내년', '협업', '공유', '재산', '경감', '연매출', '이하', '50만', '혜택', '절감', '오스', '서빙', '로봇', '자동화', '스마트', '기술', '보급', '음식점', '주방', '보조원', '비자', '시범', '외국인', '고용', '허가', '부과', '투명성', '개정', '상가', '임대차', '표준', '계약서', '활용', '운영', '과정', '사항', '예정', '발생', '해결', '한식', '5~7년', '허용', '시내', '문의', '게시', '물이', '부착', '우산', '공제', '지급', '영업', '환경', '접근성', '주의', '신용', '중심', '신용평', '사업장', '정보', '개인', '조달', '공공정보', '국세청', '소득세', '표본', '자료', '근로', '15', '항목', '관련', '18', '비축', '물가', '도로점용', '25%', '법률', '서비스', '간이', '과세자', '생계', '안전', '구축', '보험', '납입', '부금', '소득공제', '600만원', '보험료', '신청', '절차', '김근수', '중구', '명동', '가게', '안내', '어려움', '한국', '경제', '산업', '연구원', '연구실장', '기업드', '감소', '다른', '부분', '감소분', '가능성', '중앙대', '경제학', '교수', '만큼', '생계형', '사업형', '이화여대', '성장', '공인들', '주장', '강종민', '병환', '차관', '세종시']\n",
      "['정책/Noun', '자금/Noun', '상환/Noun', '연장/Noun', '등/Noun', '금융/Noun', '지원/Noun', '3/Number', '종/Noun', '세트/Noun', '추진/Noun', '5/Number', '대/Verb', '고정/Noun', '비용/Noun', '지원/Noun', '…/Punctuation', '경영/Noun', '부담/Noun', '↓/Foreign', '매출/Noun', '기반/Noun', '확충/Noun', '규제/Noun', '합리화/Noun', '방안/Noun', '추진/Noun', '및/Noun', '사/Modifier', '회안/Noun', '전망/Noun', '가입/Noun', '독려/Noun', '\"/Punctuation', '소상/Noun', '공인/Noun', '지원/Noun', '실효/Noun', '성/Suffix', '의문/Noun', '…/Punctuation', '장기/Noun', '적/Suffix', '대책/Noun', '필요/Noun', '\"/Punctuation', '서울/Noun', '=/Punctuation', '뉴시스/Noun', '추상/Noun', '철/Noun', '기자/Noun', '=/Punctuation', '3일/Number', '오후/Noun', '서울/Noun', '의/Josa', '한/Verb', '전통/Noun', '시장/Noun', '에서/Josa', '상인/Noun', '이/Josa', '손님/Noun', '을/Josa', '기다리고/Verb', '있다/Adjective', './Punctuation', '2024.06/Number', './Punctuation', '03/Number', './Punctuation', 'scchoo@newsis.com/Email', '세종/Noun', '=/Punctuation', '뉴시스/Noun', '김동현/Noun', '용윤신/Noun', '임하은/Noun', '기자/Noun', '=/Punctuation', '정부/Noun', '가/Josa', '올해/Noun', '하반기/Noun', '부터/Josa', '소/Modifier', '상공/Noun', '인/Suffix', '의/Josa', '경영/Noun', '애로/Noun', '를/Josa', '해소/Noun', '하기/Verb', '위해/Noun', '금융/Noun', '지원/Noun', '과/Josa', '배달/Noun', '료/Noun', '·/Punctuation', '임대료/Noun', '·/Punctuation', '전기/Noun', '료/Noun', '등/Noun', '5/Number', '대/Verb', '고정/Noun', '비용/Noun', '에/Josa', '대한/Noun', '부담/Noun', '을/Josa', '낮추는/Verb', '방안/Noun', '을/Josa', '본격/Noun', '화한다/Adjective', './Punctuation', '이번/Noun', '대책/Noun', '은/Josa', '코로나/Noun', '19/Number', '사태/Noun', '이후/Noun', '고/Modifier', '금리/Noun', '장기/Noun', '화로/Noun', '채무/Noun', '가/Josa', '누적/Noun', '되고/Verb', '준비/Noun', '부족/Noun', '으로/Josa', '창업/Noun', '과/Josa', '폐업/Noun', '을/Josa', '반복/Noun', '하며/Verb', '고통/Noun', '을/Josa', '받고/Verb', '있는/Adjective', '소/Modifier', '상공/Noun', '인/Suffix', '의/Josa', '경/Modifier', '영/Modifier', '부담/Noun', '을/Josa', '완화/Noun', '하는데/Verb', '초점/Noun', '을/Josa', '맞췄다/Verb', './Punctuation', '정부/Noun', '는/Josa', '3일/Number', '정부/Noun', '서울/Noun', '청사/Noun', '에서/Josa', '최상/Noun', '목/Noun', '경제부총리/Noun', '겸/Noun', '기획재정부/Noun', '장관/Noun', '주재/Noun', '로/Josa', '관계/Noun', '부처/Noun', '합동/Noun', '브리핑/Noun', '을/Josa', '열고/Verb', '이/Noun', '같은/Adjective', '내용/Noun', '의/Josa', \"'/Punctuation\", '역/Noun', '동경제/Noun', '로드맵/Noun', '및/Noun', '하반기/Noun', '경제정책/Noun', '방향/Noun', \"'/Punctuation\", '을/Josa', '발표/Noun', '했다/Verb', './Punctuation', '소상/Noun', '공인/Noun', '경영/Noun', '부담/Noun', '완화/Noun', '대책/Noun', '은/Josa', '▲/Foreign', '금융/Noun', '지원/Noun', '3/Number', '종/Noun', '세트/Noun', '▲/Foreign', '5/Number', '대/Verb', '고정/Noun', '비용/Noun', '부담/Noun', '완화/Noun', '▲/Foreign', '매출/Noun', '지원/Noun', '▲/Foreign', '사회/Noun', '안정/Noun', '망/Noun', '강화/Noun', '등/Noun', '크게/Noun', '4/Number', '가지/Noun', '분야/Noun', '로/Josa', '추진/Noun', '된다/Verb', './Punctuation', '서울/Noun', '=/Punctuation', '뉴시스/Noun', '3일/Number', '정부/Noun', '가/Josa', '발표/Noun', '한/Josa', \"'/Punctuation\", '2024년/Number', '하반기/Noun', '경제정책/Noun', '방향/Noun', \"'/Punctuation\", '에/Josa', '따르면/Verb', '정부/Noun', '가/Josa', '폐업/Noun', '하는/Verb', '소/Modifier', '상공/Noun', '인/Suffix', '에게/Josa', '채무/Noun', '조정/Noun', '과/Josa', '재/Noun', '취업/Noun', '을/Josa', '원한다/Adjective', './Punctuation', '새/Modifier', '출발/Noun', '기금/Noun', '을/Josa', '40조원/Number', '이상/Noun', '으로/Josa', '확대/Noun', '하고/Josa', ',/Punctuation', '점포/Noun', '철거/Noun', '비/Noun', '지/Modifier', '원금/Noun', '을/Josa', '최대/Noun', '400만원/Number', '으로/Foreign', '상향/Noun', '한다/Verb', './Punctuation', '(/Punctuation', '그래픽/Noun', '=/Punctuation', '전진우/Noun', '기자/Noun', ')/Punctuation', '618tue@newsis.com/Email', '정책/Noun', '자금/Noun', '상환/Noun', '연장/Noun', '등/Noun', '금융/Noun', '지원/Noun', '3/Number', '종/Noun', '세트/Noun', '추진/Noun', '금융/Noun', '지원/Noun', '은/Josa', '정책/Noun', '자금/Noun', '분할/Noun', '상환/Noun', '지원/Noun', '대상/Noun', '확대/Noun', '및/Noun', '최대/Noun', '5년/Number', '까지/Foreign', '기간/Noun', '연장/Noun', ',/Punctuation', '5조원/Number', '규모/Noun', '의/Josa', '전환/Noun', '보증/Noun', '을/Josa', '신설/Noun', '해/Verb', '보증/Noun', '부/Noun', '대출/Noun', '만기/Noun', '연장/Noun', ',/Punctuation', '저/Determiner', '금리/Noun', '대/Modifier', '환/Noun', '대출/Noun', '지원/Noun', '대상/Noun', '확대/Noun', '등/Noun', '으로/Josa', '마련/Noun', '했다/Verb', './Punctuation', '정책/Noun', '자금/Noun', '상환/Noun', '연장/Noun', '은/Josa', '지원/Noun', '대상/Noun', '을/Josa', '사업/Noun', '경력/Noun', '3년/Number', '이상/Noun', ',/Punctuation', '대출/Noun', '잔액/Noun', '3000만원/Number', '이상/Noun', '에서/Josa', '업력/Noun', '과/Josa', '대출/Noun', '잔액/Noun', '기준/Noun', '을/Josa', '폐지/Noun', '하고/Josa', '연/Modifier', '장시/Noun', '적용/Noun', '하는/Verb', '금리/Noun', '를/Josa', '기존/Noun', '이용/Noun', '금리/Noun', '+/Punctuation', '0.2%/Number', '포인트/Noun', '(/Punctuation', 'p/Alpha', ')/Punctuation', '로/Noun', '적용/Noun', ',/Punctuation', '기간/Noun', '은/Josa', '최대/Noun', '5년/Number', '까지/Foreign', '확대/Noun', '하기로/Verb', '했다/Verb', './Punctuation', '정부/Noun', '는/Josa', '지역/Noun', '신/Modifier', '보/Noun', '보증/Noun', '부/Noun', '대출/Noun', '을/Josa', '이용/Noun', '하는/Verb', '소/Modifier', '상공/Noun', '인/Suffix', '이/Josa', '대출/Noun', '상환/Noun', '을/Josa', '최대/Noun', '5년/Number', '까지/Foreign', '연장/Noun', '하기/Verb', '위해/Noun', '5조원/Number', '규모/Noun', '의/Josa', '전환/Noun', '보증/Noun', '제도/Noun', '도/Josa', '신설/Noun', '한/Josa', '다/Adverb', './Punctuation', '소/Modifier', '상공/Noun', '인/Suffix', '은/Josa', '중도/Noun', '상환/Noun', '수수료/Noun', '를/Josa', '면제/Noun', '받을/Verb', '수/Noun', '있고/Adjective', '저/Determiner', '신용/Noun', '자/Suffix', '는/Josa', '산출/Noun', '보증/Noun', '료율/Noun', '에서/Josa', '0.2%/Number', 'p/Alpha', '를/Noun', '인하/Noun', '받는다/Verb', './Punctuation', '또/Noun', '은행/Noun', '·/Punctuation', '비/Noun', '은행권/Noun', '의/Josa', '7%/Number', '이상/Noun', '고/Modifier', '금리/Noun', '대출/Noun', '을/Josa', '저/Determiner', '금리/Noun', '대출/Noun', '로/Josa', '대/Verb', '환하는/Adjective', '프로그램/Noun', '참여/Noun', '요건/Noun', '을/Josa', '완화/Noun', '해/Verb', '4.5%/Number', '고정/Noun', '금리/Noun', ',/Punctuation', '5000만원/Number', '한도/Noun', '를/Josa', '10년/Number', '분할/Noun', '상환/Noun', '하도록/Verb', '한다는/Modifier', '구상/Noun', '이다/Josa', './Punctuation', '이외/Noun', '에도/Josa', '외식/Noun', '업계/Noun', '농산물/Noun', '구매/Noun', '자금/Noun', '융/Noun', '자금/Noun', '인하/Noun', ',/Punctuation', '저/Determiner', '신용/Noun', '소상/Noun', '공인/Noun', '정책/Noun', '자금/Noun', '지원/Noun', '대상/Noun', '기준/Noun', '상향/Noun', '등/Noun', '을/Josa', '통해/Noun', '추가/Noun', '적/Suffix', '인/Josa', '정책/Noun', '자금/Noun', '을/Josa', '공급/Noun', '한다는/Modifier', '계획/Noun', '이다/Josa', './Punctuation', '정부/Noun', '관계자/Noun', '는/Josa', '\"/Punctuation', '소상/Noun', '공인/Noun', '금융/Noun', '지원/Noun', '3/Number', '종/Noun', '세트/Noun', '는/Josa', \"'/Punctuation\", '채무/Noun', '걱정/Noun', '덜어/Verb', '드림/Noun', \"'/Punctuation\", '3/Number', '종/Noun', '세트/Noun', '라고/Josa', '명명/Noun', '을/Josa', '했다/Verb', '\"/Punctuation', '며/Noun', '\"/Punctuation', '정책/Noun', '자금/Noun', '상환/Noun', '연장/Noun', ',/Punctuation', '전환/Noun', '보증/Noun', ',/Punctuation', '대/Modifier', '환/Noun', '대출/Noun', '이라는/Josa', '세/Noun', '가지/Noun', '툴/Noun', '을/Josa', '바탕/Noun', '으로/Josa', '해서/Verb', '소/Modifier', '상공/Noun', '인/Suffix', '이/Josa', '갖고/Verb', '있는/Adjective', '대출/Noun', '의/Josa', '만기/Noun', '를/Josa', '연장/Noun', '하고/Josa', '분할/Noun', '상환/Noun', '할/Verb', '수/Noun', '있는/Adjective', '제도/Noun', '를/Josa', '대폭/Noun', '넣었다/Verb', '\"/Punctuation', '고/Noun', '설명/Noun', '했다/Verb', './Punctuation', '서울/Noun', '=/Punctuation', '뉴시스/Noun', '추상/Noun', '철/Noun', '기자/Noun', '=/Punctuation', '3일/Number', '오후/Noun', '서울/Noun', '의/Josa', '한/Verb', '전통/Noun', '시장/Noun', '에서/Josa', '상인/Noun', '이/Josa', '물건/Noun', '을/Josa', '판매/Noun', '하고/Josa', '있다/Adjective', './Punctuation', '2024.06/Number', './Punctuation', '03/Number', './Punctuation', 'scchoo@newsis.com5/Email', '대/Verb', '고정/Noun', '비용/Noun', '지원/Noun', '…/Punctuation', '경영/Noun', '부담/Noun', '↓/Foreign', '매출/Noun', '기반/Noun', '확충/Noun', '배달/Noun', '료/Noun', '·/Punctuation', '임대료/Noun', '·/Punctuation', '전기/Noun', '료/Noun', '·/Punctuation', '인건비/Noun', '·/Punctuation', '관리/Noun', '비/Noun', '등/Noun', '5/Number', '대/Verb', '고정/Noun', '비용/Noun', '에/Josa', '대한/Noun', '지/Modifier', '원/Modifier', '책/Noun', '도/Josa', '내놨다/Verb', './Punctuation', '먼저/Noun', '공정/Noun', '거래/Noun', '위원회/Noun', ',/Punctuation', '농축/Noun', '수산/Noun', '식품부/Noun', ',/Punctuation', '중소기업/Noun', '벤/Verb', '처부/Noun', '등/Noun', '정부/Noun', '부처/Noun', '와/Josa', '배달/Noun', '앱/Noun', '사업자/Noun', '외식/Noun', '업계/Noun', '이해관계자/Noun', '등/Noun', '이/Josa', '참여/Noun', '해/Verb', '경제/Noun', '적/Suffix', '부담/Noun', '완화/Noun', '를/Josa', '위/Noun', '한/Josa', '논의/Noun', '를/Josa', '실시/Noun', '하고/Josa', '분야/Noun', '별/Noun', '상생/Noun', '방안/Noun', '을/Josa', '마련/Noun', '한다/Verb', './Punctuation', '또/Noun', '플랫폼/Noun', '자율/Noun', '규제/Noun', '기구/Noun', '내/Noun', '총괄/Noun', '위원회/Noun', '역할/Noun', '을/Josa', '강화해/Adjective', '이해관계자/Noun', '의/Josa', '수요/Noun', '를/Josa', '반영/Noun', '한/Josa', '아/Exclamation', '젠/Noun', '다/Adverb', '설정/Noun', '및/Noun', '신속한/Adjective', '문제해결/Noun', '을/Josa', '추진/Noun', '하고/Josa', '최근/Noun', '부담/Noun', '이/Josa', '커지고/Verb', '있는/Adjective', '사/Modifier', '업주/Noun', '부담/Noun', '배달/Noun', '료/Noun', '는/Josa', '영세/Noun', '소/Modifier', '상공/Noun', '인/Suffix', '에/Josa', '한해/Noun', '배달/Noun', '료/Noun', '를/Josa', '신규/Noun', '로/Josa', '지원/Noun', '한/Josa', '다/Adverb', './Punctuation', '임대료/Noun', '는/Josa', '소/Modifier', '상공/Noun', '인/Suffix', '에게/Josa', '임차료/Noun', '를/Josa', '인하/Noun', '한/Josa', '임대/Noun', '인/Suffix', '에/Josa', '대한/Noun', '세/Modifier', '제/Modifier', '지원/Noun', '과/Josa', '국유재산/Noun', '사용/Noun', '료/Noun', '감면/Verb', '지원기/Noun', '간/Suffix', '을/Josa', '내년/Noun', '말/Noun', '까지/Josa', '연장/Noun', '하고/Josa', '지자체/Noun', '와/Josa', '협업/Noun', '해/Verb', '공유/Noun', '재산/Noun', '사용/Noun', '료/Noun', '감면도/Verb', '지속/Noun', '추진/Noun', '한다는/Modifier', '방침/Noun', '이다/Josa', './Punctuation', '영세/Noun', '소/Modifier', '상공/Noun', '인/Suffix', '의/Josa', '전기/Noun', '료/Noun', '부담/Noun', '경감/Noun', '을/Josa', '위해/Noun', '전기/Noun', '료/Noun', '지원/Noun', '대상/Noun', '도/Josa', '확대/Noun', '한/Josa', '다/Adverb', './Punctuation', '정부/Noun', '는/Josa', '현행/Noun', '연매출/Noun', '3000만원/Number', '이하/Noun', '의/Josa', '매출/Noun', '로/Josa', '설정/Noun', '된/Verb', '기준/Noun', '을/Josa', '6000만원/Number', '이하/Noun', '로/Josa', '늘려/Verb', '최대/Noun', '50만/Number', '명의/Foreign', '소/Modifier', '상공/Noun', '인/Suffix', '에게/Josa', '전기/Noun', '료/Noun', '지원/Noun', '혜택/Noun', '을/Josa', '준다는/Verb', '계획/Noun', '이다/Josa', './Punctuation', '인건비/Noun', '절감/Noun', '을/Josa', '위해/Noun', '선/Noun', '키/Noun', '오스/Noun', '크/Verb', ',/Punctuation', '서빙/Noun', '로봇/Noun', '등/Noun', '자동화/Noun', '스마트/Noun', '기술/Noun', '보급/Noun', '지원/Noun', '을/Josa', '확대/Noun', '하고/Josa', '음식점/Noun', '업/Noun', '주방/Noun', '보조/Noun', '원/Suffix', 'E/Alpha', '-/Punctuation', '9/Number', '비자/Noun', '시범/Noun', '사업/Noun', '평가/Noun', '를/Josa', '토대/Noun', '로/Josa', '지역/Noun', '·/Punctuation', '업력/Noun', '요건/Noun', '등/Noun', '외국인/Noun', '고용/Noun', '허가/Noun', '범위/Noun', '를/Josa', '확대/Noun', '하는/Verb', '것/Noun', '을/Josa', '검토/Noun', '키로/Suffix', '했다/Verb', './Punctuation', '아울러/Verb', '관리/Noun', '비/Noun', '부과/Noun', '의/Josa', '투명/Noun', '성/Suffix', '을/Josa', '확보/Noun', '하기/Verb', '위해/Noun', '개정/Noun', '된/Verb', '상가/Noun', '임대차/Noun', '표준/Noun', '계약서/Noun', '를/Josa', '적극/Noun', '활용/Noun', '하도록/Verb', '유도/Noun', '하고/Josa', '운영/Noun', '과정/Noun', '에서/Josa', '개선/Noun', '필요/Noun', '사항/Noun', '을/Josa', '적극/Noun', '검토/Noun', '할/Verb', '예정/Noun', '이다/Josa', './Punctuation', '분쟁/Noun', '발생/Noun', '시/Noun', '임대차/Noun', '분쟁/Noun', '조정/Noun', '위원회/Noun', '는/Josa', '소/Modifier', '상공/Noun', '인/Suffix', '의/Josa', '분쟁/Noun', '해결/Noun', '을/Josa', '돕는다/Verb', './Punctuation', '정부/Noun', '관계자/Noun', '는/Josa', '\"/Punctuation', '인건비/Noun', '지원/Noun', '을/Josa', '위/Noun', '해서는/Verb', '키/Noun', '오스/Noun', '크/Verb', '등/Noun', '스마트/Noun', '기술/Noun', '보급/Noun', '지원/Noun', '을/Josa', '위/Noun', '한/Josa', '재정/Noun', '지원/Noun', '을/Josa', '확대/Noun', '할/Verb', '예정/Noun', '\"/Punctuation', '이/Determiner', '라며/Noun', '\"/Punctuation', '음식점/Noun', '업/Noun', '에/Josa', '대해/Noun', '선/Noun', '현재/Noun', '한식/Noun', '업/Noun', ',/Punctuation', '업력/Noun', '5~7년/Number', ',/Punctuation', '주방/Noun', '보조/Noun', '원/Suffix', '에/Josa', '한/Determiner', '정해/Noun', '허용/Noun', '되는/Verb', 'E/Alpha', '-/Punctuation', '9/Number', '비자/Noun', '를/Josa', '추가/Noun', '적/Suffix', '으로/Josa', '범위/Noun', '를/Josa', '확대/Noun', '하는/Verb', '내용/Noun', '을/Josa', '검토/Noun', '할/Verb', '것/Noun', '\"/Punctuation', '이라고/Josa', '전/Noun', '했다/Verb', './Punctuation', '서울/Noun', '=/Punctuation', '뉴시스/Noun', '추상/Noun', '철/Noun', '기자/Noun', '=/Punctuation', '20일/Number', '오후/Noun', '서울/Noun', '시내/Noun', '상가/Noun', '에/Josa', '임대/Noun', '문의/Noun', '게시/Noun', '물이/Noun', '부착/Noun', '돼/Verb', '있다/Adjective', './Punctuation', '소/Modifier', '상공/Noun', '인/Suffix', '의/Josa', '폐업/Noun', '으로/Josa', '인한/Adjective', \"'/Punctuation\", '노란/Adjective', '우산/Noun', '공제/Noun', '금/Noun', \"'/Punctuation\", '지급/Noun', '액/Noun', '이/Josa', '크게/Noun', '늘/Noun', '고/Josa', '있는/Adjective', '것/Noun', '으로/Josa', '나타났다/Verb', './Punctuation', '2024.05/Number', './Punctuation', '20/Number', './Punctuation', 'scchoo@newsis.com/Email', '규제/Noun', '합리화/Noun', '방안/Noun', '추진/Noun', '및/Noun', '사/Modifier', '회안/Noun', '전망/Noun', '가입/Noun', '독려/Noun', '소/Modifier', '상공/Noun', '인/Suffix', '의/Josa', '영업/Noun', '환경/Noun', '개선/Noun', '을/Josa', '위/Noun', '한/Josa', '규제/Noun', '합리화/Noun', '방안/Noun', '도/Josa', '도입/Noun', '한다/Verb', './Punctuation', '소/Modifier', '상공/Noun', '인/Suffix', '의/Josa', '금융/Noun', '접근성/Noun', '개선/Noun', '을/Josa', '위해/Noun', '선/Noun', '기존/Noun', '에/Josa', '사업/Noun', '주의/Noun', '신용/Noun', '또는/Adverb', '담보/Noun', '중심/Noun', '으로/Josa', '평가/Noun', '하던/Verb', '신/Modifier', '용평/Noun', '가/Josa', '체제/Noun', '를/Josa', '매출/Noun', '액/Noun', '등/Noun', '사업/Noun', '장/Suffix', '정보/Noun', '중심/Noun', '으로/Josa', '개편/Noun', '해/Verb', '개인/Noun', '사업자/Noun', '의/Josa', '자금/Noun', '조달/Noun', '을/Josa', '원활하게/Adjective', '돕는다는/Verb', '구상/Noun', '이다/Josa', './Punctuation', '또/Noun', '개인/Noun', '사업자/Noun', '에/Josa', '대한/Noun', '신용/Noun', '평가/Noun', '를/Josa', '고도화/Noun', '하기/Verb', '위해/Noun', '다양한/Adjective', '공공/Modifier', '정보/Noun', '를/Josa', '제공/Noun', '하기로/Verb', '했다/Verb', './Punctuation', '현재/Noun', '국세청/Noun', '의/Josa', '소득세/Noun', '표본/Noun', '자료/Noun', '에는/Josa', '근로/Noun', '소득세/Noun', '15/Number', '개/Noun', '항목/Noun', ',/Punctuation', '종합소득세/Noun', '관련/Noun', '정보/Noun', '18/Number', '개/Noun', '항목/Noun', '을/Josa', '제공/Noun', '하는데/Verb', '이를/Verb', '확대/Noun', '한다는/Modifier', '계획/Noun', '이다/Josa', './Punctuation', '이외/Noun', '에도/Josa', '▲/Foreign', '소/Modifier', '매/Modifier', '상인/Noun', '의/Josa', '비축/Noun', '물가/Noun', '판매/Noun', '허용/Noun', '▲/Foreign', '소상/Noun', '공인/Noun', '대상/Noun', '도로점용/Noun', '료/Noun', '25%/Number', '감면/Verb', '▲/Foreign', '무료/Noun', '법률/Noun', '지원/Noun', '서비스/Noun', '대상/Noun', '확대/Noun', '▲/Foreign', '간이/Noun', '과세/Noun', '자/Suffix', '매출/Noun', '기준/Noun', '확대/Noun', '및/Noun', '수수료/Noun', '감면/Verb', '등/Noun', '을/Josa', '통해/Noun', '영업/Noun', '환경/Noun', '을/Josa', '개선/Noun', '해/Verb', '나간다는/Verb', '방침/Noun', '이다/Josa', './Punctuation', '두터운/Adjective', '생계/Noun', '안전/Noun', '망/Noun', '구축/Noun', '을/Josa', '위해/Noun', '선/Noun', '노란/Adjective', '우산/Noun', '공제/Noun', ',/Punctuation', '고용/Noun', '보험/Noun', '등/Noun', '사/Modifier', '회안/Noun', '전망/Noun', '가입/Noun', '을/Josa', '독려/Noun', '한다/Verb', './Punctuation', '노란/Adjective', '우산/Noun', '공제/Noun', '납입/Noun', '부금/Noun', '에/Josa', '대해/Noun', '소득공제/Noun', '한도/Noun', '를/Josa', '연간/Noun', '600만원/Number', '으로/Foreign', '상향/Noun', '조정/Noun', '하고/Josa', '고용/Noun', '보험료/Noun', '지원/Noun', '신청/Noun', '절차/Noun', '를/Josa', '간소화/Noun', '해/Verb', '가입/Noun', '률/Noun', '을/Josa', '높인다/Verb', './Punctuation', '서울/Noun', '=/Punctuation', '뉴시스/Noun', '김근수/Noun', '기자/Noun', '=/Punctuation', '1일/Number', '오후/Noun', '서울/Noun', '중구/Noun', '명동/Noun', '시내/Noun', '의/Josa', '한/Verb', '가게/Noun', '앞/Noun', '에/Josa', '임대/Noun', '안/VerbPrefix', '내/VerbPrefix', '문이/Verb', '붙어/Verb', '있다/Adjective', './Punctuation', '2024.07/Number', './Punctuation', '01/Number', './Punctuation', 'ks@newsis.com/Email', '전문가/Noun', '들/Suffix', '\"/Punctuation', '소상/Noun', '공인/Noun', '지원/Noun', '실효/Noun', '성/Suffix', '의문/Noun', '…/Punctuation', '장기/Noun', '적/Suffix', '대책/Noun', '필요/Noun', '\"/Punctuation', '전문가/Noun', '들/Suffix', '은/Josa', '정부/Noun', '가/Josa', '내놓은/Verb', '소상/Noun', '공인/Noun', '지원/Noun', '대책/Noun', '에/Josa', '대해/Noun', '어려움/Noun', '을/Josa', '겪고/Verb', '있는/Adjective', '소/Modifier', '상공/Noun', '인/Suffix', '에게/Josa', '일시/Noun', '적/Suffix', '인/Josa', '도움/Noun', '을/Josa', '줄/Noun', '수/Noun', '있지만/Adjective', '실효/Noun', '성/Suffix', '에/Josa', '대해/Noun', '의문/Noun', '을/Josa', '표/Noun', '하며/Verb', '장기/Noun', '적/Suffix', '인/Josa', '대책/Noun', '을/Josa', '만들어야/Verb', '한다고/Verb', '조언/Noun', '했다/Verb', './Punctuation', '김광석/Noun', '한국/Noun', '경제/Noun', '산업/Noun', '연구원/Noun', '연구실/Noun', '장/Suffix', '은/Josa', '\"/Punctuation', '재정/Noun', '을/Josa', '투입/Noun', '하지/Verb', '않고/Verb', '배달/Noun', '료/Noun', '가/Josa', '인하/Noun', '될/Verb', '수/Noun', '있을/Adjective', '지/Verb', '의문/Noun', '\"/Punctuation', '이/Determiner', '라며/Noun', '\"/Punctuation', '배달/Noun', '플랫폼/Noun', '기업드/Noun', '에게/Josa', '배달/Noun', '비/Noun', '감소/Noun', '를/Josa', '요구/Noun', '한/Josa', '다/Adverb', '면/Noun', '다른/Noun', '부분/Noun', '에서/Josa', '비용/Noun', '감소/Noun', '분/Suffix', '을/Josa', '채우려고/Verb', '노력/Noun', '할/Verb', '가능성/Noun', '이/Josa', '높다/Adjective', '\"/Punctuation', '고/Noun', '말/Noun', '했다/Verb', './Punctuation', '이정희/Noun', '중앙대/Noun', '경제학/Noun', '과/Josa', '교수/Noun', '는/Josa', '\"/Punctuation', '정부/Noun', '가/Josa', '내놓은/Verb', '소상/Noun', '공인/Noun', '대책/Noun', '은/Josa', '당장/Noun', '어렵다고/Adjective', '하니까/Verb', '도움/Noun', '을/Josa', '줄/Noun', '수/Noun', '있는/Adjective', '일시/Noun', '적/Suffix', '인/Josa', '방안/Noun', '\"/Punctuation', '이/Determiner', '라며/Noun', '\"/Punctuation', '배달/Noun', '료/Noun', '를/Josa', '정부/Noun', '가/Josa', '계속/Noun', '책임질/Verb', '수/Noun', '없는/Adjective', '만큼/Noun', '생계/Noun', '형/Suffix', '과/Josa', '사업/Noun', '형/Suffix', '으로/Josa', '나눈/Verb', '소상/Noun', '공인/Noun', '대책/Noun', '을/Josa', '제시/Noun', '해야/Verb', '한다/Verb', '\"/Punctuation', '고/Noun', '조언/Noun', '했다/Verb', './Punctuation', '석병훈/Noun', '이화여대/Noun', '경제학/Noun', '과/Josa', '교수/Noun', '는/Josa', '\"/Punctuation', '소/Modifier', '상공/Noun', '인/Suffix', '의/Josa', '성장/Noun', '을/Josa', '촉진/Noun', '하기/Verb', '위/Noun', '한/Josa', '지/Modifier', '원/Modifier', '책/Noun', '은/Josa', '바람직하지만/Adjective', '소상/Noun', '공인/Noun', '들/Suffix', '의/Josa', '채무/Noun', '를/Josa', '조정/Noun', '해주는/Verb', '지/Modifier', '원/Modifier', '책/Noun', '은/Josa', '바람직하지/Adjective', '않다/Verb', '\"/Punctuation', '며/Noun', '\"/Punctuation', '경쟁력/Noun', '있는/Adjective', '소/Modifier', '상공/Noun', '인/Suffix', '은/Josa', '소/Modifier', '기업/Noun', '으로/Josa', '만들고/Verb', '경쟁력/Noun', '이/Josa', '없으면/Adjective', '재/Noun', '취업/Noun', '할/Verb', '수/Noun', '있는/Adjective', '방안/Noun', '을/Josa', '지원/Noun', '하는/Verb', '정책/Noun', '을/Josa', '펼쳐야/Verb', '한다/Verb', '\"/Punctuation', '고/Noun', '주장/Noun', '했다/Verb', './Punctuation', '세종/Noun', '=/Punctuation', '뉴시스/Noun', '강종민/Noun', '기자/Noun', '=/Punctuation', '김/Noun', '병환/Noun', '기획재정부/Noun', '1/Number', '차관/Noun', '이/Josa', '지난/Noun', '1일/Number', '세종시/Noun', '정부/Noun', '세종/Noun', '청사/Noun', '에서/Josa', '열린/Verb', '하반기/Noun', '경제정책/Noun', '방향/Noun', '및/Noun', '역/Noun', '동경제/Noun', '로드맵/Noun', '브리핑/Noun', '에서/Josa', '발언/Noun', '하고/Josa', '있다/Adjective', './Punctuation', '2024.07/Number', './Punctuation', '03/Number', './Punctuation', 'ppkjm@newsis.com/Email']\n"
     ]
    }
   ],
   "source": [
    "print(okt.nouns(test_article)) #명사\n",
    "print(okt.phrases(test_article)) # 어절 \n",
    "print(okt.pos(test_article, join = True))"
   ]
  },
  {
   "cell_type": "code",
   "execution_count": 10,
   "metadata": {},
   "outputs": [
    {
     "data": {
      "text/plain": [
       "'대한민국헌법\\n\\n유구한 역사와 전통에 '"
      ]
     },
     "execution_count": 10,
     "metadata": {},
     "output_type": "execute_result"
    }
   ],
   "source": [
    "from konlpy.corpus import kolaw\n",
    "kolaw.open('constitution.txt').read()[:20]"
   ]
  },
  {
   "cell_type": "code",
   "execution_count": 8,
   "metadata": {},
   "outputs": [
    {
     "name": "stdout",
     "output_type": "stream",
     "text": [
      "\u001b[31mERROR: Could not find a version that satisfies the requirement konlpy.corpus (from versions: none)\u001b[0m\u001b[31m\n",
      "\u001b[0m\u001b[31mERROR: No matching distribution found for konlpy.corpus\u001b[0m\u001b[31m\n",
      "\u001b[0m"
     ]
    }
   ],
   "source": [
    "!pip install konlpy.corpus"
   ]
  },
  {
   "cell_type": "markdown",
   "metadata": {},
   "source": [
    "---\n",
    "### 정규식 표현 \n",
    "-  . : 줄바꿈을 제외한 모든 문자\n",
    "- ^ : 문자열의 시작 \n",
    "- $ : 문자열의 끝\n",
    "- * : 앞에 있는 문자가 0회 이상 반복된 문자열 \n",
    "- + : 앞에 있는 문자가 1회 이상 반복된 문자열 \n",
    "- {m} : 앞 문자를 m회 반복하는 문자열 \n",
    "- {m,n} : 앞 문자를 m~n회 반복하는 문자열 \n",
    "- ? : 앞 문자가 나오거나 나오지 않는 문자열 ({0,1}과 동일)\n",
    "- \\d : 숫자, \\D: 숫자가아닌 문자, \\w: 문자혹은 숫자, \\W: 문자 혹은 숫자가 아닌것 \n",
    "- (...) : 괄호 안의 모든 정규 표현식을 만족하는 문자. \n",
    "- [abc] : abc 중 한개의 문자와 일치\n"
   ]
  },
  {
   "cell_type": "code",
   "execution_count": 14,
   "metadata": {},
   "outputs": [
    {
     "data": {
      "text/plain": [
       "'number candy'"
      ]
     },
     "execution_count": 14,
     "metadata": {},
     "output_type": "execute_result"
    }
   ],
   "source": [
    "import re \n",
    "pattern = ' \\W+' # 문자 혹은 숫자가 아닌것  앞에 있는 문자가 1회 이상 반복된 문자열 \n",
    "re_pattern=re.compile(pattern) # 특정 기호를 정규 표현식 객체로 만들어줌. \n",
    "# 문자열에서 공백 다음에 한 개 이상의 \"단어 문자\"가 있는 첫 번째 부분\n",
    "re.search(\"(\\w+)\",'wow, it is awesome') # 해당 문자열에서 정규 표현식에 해당하는 첫부분을 찾는다. \n",
    "# 즉 탭, 줄바꿈, 공백이 아닌 문자를 모두 찾는 과정 \n",
    "re.split('\\W','wow, it is world of word')\n",
    "\n",
    "re.sub(\"\\d\",\"number\", \"7 candy\")"
   ]
  },
  {
   "cell_type": "code",
   "execution_count": 22,
   "metadata": {},
   "outputs": [
    {
     "ename": "FeatureNotFound",
     "evalue": "Couldn't find a tree builder with the features you requested: html5lib. Do you need to install a parser library?",
     "output_type": "error",
     "traceback": [
      "\u001b[0;31m---------------------------------------------------------------------------\u001b[0m",
      "\u001b[0;31mFeatureNotFound\u001b[0m                           Traceback (most recent call last)",
      "Cell \u001b[0;32mIn[22], line 4\u001b[0m\n\u001b[1;32m      1\u001b[0m \u001b[38;5;28;01mfrom\u001b[39;00m \u001b[38;5;21;01mbs4\u001b[39;00m \u001b[38;5;28;01mimport\u001b[39;00m BeautifulSoup\n\u001b[1;32m      3\u001b[0m \u001b[38;5;28mstr\u001b[39m \u001b[38;5;241m=\u001b[39m \u001b[38;5;124m'\u001b[39m\u001b[38;5;124m<body> 이글은 어쩌구 저쩌구 </body>\u001b[39m\u001b[38;5;124m'\u001b[39m\n\u001b[0;32m----> 4\u001b[0m \u001b[38;5;28mstr\u001b[39m \u001b[38;5;241m=\u001b[39m BeautifulSoup(\u001b[38;5;28mstr\u001b[39m,\u001b[38;5;124m\"\u001b[39m\u001b[38;5;124mhtml5lib\u001b[39m\u001b[38;5;124m\"\u001b[39m)\u001b[38;5;241m.\u001b[39mget_text()\n\u001b[1;32m      5\u001b[0m \u001b[38;5;28mprint\u001b[39m(\u001b[38;5;28mstr\u001b[39m)\n",
      "File \u001b[0;32m/opt/anaconda3/lib/python3.11/site-packages/bs4/__init__.py:250\u001b[0m, in \u001b[0;36mBeautifulSoup.__init__\u001b[0;34m(self, markup, features, builder, parse_only, from_encoding, exclude_encodings, element_classes, **kwargs)\u001b[0m\n\u001b[1;32m    248\u001b[0m     builder_class \u001b[38;5;241m=\u001b[39m builder_registry\u001b[38;5;241m.\u001b[39mlookup(\u001b[38;5;241m*\u001b[39mfeatures)\n\u001b[1;32m    249\u001b[0m     \u001b[38;5;28;01mif\u001b[39;00m builder_class \u001b[38;5;129;01mis\u001b[39;00m \u001b[38;5;28;01mNone\u001b[39;00m:\n\u001b[0;32m--> 250\u001b[0m         \u001b[38;5;28;01mraise\u001b[39;00m FeatureNotFound(\n\u001b[1;32m    251\u001b[0m             \u001b[38;5;124m\"\u001b[39m\u001b[38;5;124mCouldn\u001b[39m\u001b[38;5;124m'\u001b[39m\u001b[38;5;124mt find a tree builder with the features you \u001b[39m\u001b[38;5;124m\"\u001b[39m\n\u001b[1;32m    252\u001b[0m             \u001b[38;5;124m\"\u001b[39m\u001b[38;5;124mrequested: \u001b[39m\u001b[38;5;132;01m%s\u001b[39;00m\u001b[38;5;124m. Do you need to install a parser library?\u001b[39m\u001b[38;5;124m\"\u001b[39m\n\u001b[1;32m    253\u001b[0m             \u001b[38;5;241m%\u001b[39m \u001b[38;5;124m\"\u001b[39m\u001b[38;5;124m,\u001b[39m\u001b[38;5;124m\"\u001b[39m\u001b[38;5;241m.\u001b[39mjoin(features))\n\u001b[1;32m    255\u001b[0m \u001b[38;5;66;03m# At this point either we have a TreeBuilder instance in\u001b[39;00m\n\u001b[1;32m    256\u001b[0m \u001b[38;5;66;03m# builder, or we have a builder_class that we can instantiate\u001b[39;00m\n\u001b[1;32m    257\u001b[0m \u001b[38;5;66;03m# with the remaining **kwargs.\u001b[39;00m\n\u001b[1;32m    258\u001b[0m \u001b[38;5;28;01mif\u001b[39;00m builder \u001b[38;5;129;01mis\u001b[39;00m \u001b[38;5;28;01mNone\u001b[39;00m:\n",
      "\u001b[0;31mFeatureNotFound\u001b[0m: Couldn't find a tree builder with the features you requested: html5lib. Do you need to install a parser library?"
     ]
    }
   ],
   "source": [
    "from bs4 import BeautifulSoup\n",
    "\n",
    "str = '<body> 이글은 어쩌구 저쩌구 </body>'\n",
    "str = BeautifulSoup(str,\"html5lib\").get_text()\n",
    "print(str)"
   ]
  },
  {
   "cell_type": "code",
   "execution_count": 17,
   "metadata": {},
   "outputs": [
    {
     "name": "stdout",
     "output_type": "stream",
     "text": [
      "Collecting html5lib\n",
      "  Downloading html5lib-1.1-py2.py3-none-any.whl.metadata (16 kB)\n",
      "Requirement already satisfied: six>=1.9 in /opt/anaconda3/lib/python3.11/site-packages (from html5lib) (1.16.0)\n",
      "Requirement already satisfied: webencodings in /opt/anaconda3/lib/python3.11/site-packages (from html5lib) (0.5.1)\n",
      "Downloading html5lib-1.1-py2.py3-none-any.whl (112 kB)\n",
      "\u001b[2K   \u001b[90m━━━━━━━━━━━━━━━━━━━━━━━━━━━━━━━━━━━━━━━━\u001b[0m \u001b[32m112.2/112.2 kB\u001b[0m \u001b[31m7.8 MB/s\u001b[0m eta \u001b[36m0:00:00\u001b[0m\n",
      "\u001b[?25hInstalling collected packages: html5lib\n",
      "Successfully installed html5lib-1.1\n"
     ]
    }
   ],
   "source": [
    "!pip install html5lib"
   ]
  },
  {
   "cell_type": "code",
   "execution_count": null,
   "metadata": {},
   "outputs": [],
   "source": []
  },
  {
   "cell_type": "code",
   "execution_count": null,
   "metadata": {},
   "outputs": [],
   "source": []
  },
  {
   "cell_type": "code",
   "execution_count": null,
   "metadata": {},
   "outputs": [],
   "source": []
  }
 ],
 "metadata": {
  "kernelspec": {
   "display_name": "base",
   "language": "python",
   "name": "python3"
  },
  "language_info": {
   "codemirror_mode": {
    "name": "ipython",
    "version": 3
   },
   "file_extension": ".py",
   "mimetype": "text/x-python",
   "name": "python",
   "nbconvert_exporter": "python",
   "pygments_lexer": "ipython3",
   "version": "3.11.7"
  }
 },
 "nbformat": 4,
 "nbformat_minor": 2
}
