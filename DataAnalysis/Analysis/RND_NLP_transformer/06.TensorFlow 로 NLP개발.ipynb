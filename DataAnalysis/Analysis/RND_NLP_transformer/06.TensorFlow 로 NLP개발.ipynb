{
 "cells": [
  {
   "cell_type": "markdown",
   "metadata": {},
   "source": [
    "---\n",
    "### 도서 : [tensorflow 2 로 자연처리]"
   ]
  },
  {
   "cell_type": "markdown",
   "metadata": {},
   "source": [
    "#\n",
    "Tensorflow \n",
    "drop out\n",
    "Dense"
   ]
  },
  {
   "cell_type": "markdown",
   "metadata": {},
   "source": [
    "---\n",
    "### Tensor flow 간단한 자연어 처리 예시 01 page 53"
   ]
  },
  {
   "cell_type": "code",
   "execution_count": 9,
   "metadata": {},
   "outputs": [],
   "source": [
    "from tensorflow.keras import layers\n",
    "import tensorflow as tf\n",
    "from tensorflow.keras import preprocessing \n",
    "\n",
    "samples = [' 너 오늘 이뻐 보인다',\n",
    "           '나는 오늘 기분이 더러워 ',\n",
    "           '끝내주는데, 좋은 일이 있나봐',\n",
    "           '나 좋은 일이 생겼어',\n",
    "           '아 오늘 진짜 짜증나',\n",
    "           '환상적인데, 정말 좋은 거 같아 ',\n",
    "           ]\n",
    "labels = [[1],[0],[1],[1],[0],[1]]\n"
   ]
  },
  {
   "cell_type": "code",
   "execution_count": null,
   "metadata": {},
   "outputs": [],
   "source": []
  },
  {
   "cell_type": "code",
   "execution_count": null,
   "metadata": {},
   "outputs": [],
   "source": []
  },
  {
   "cell_type": "code",
   "execution_count": null,
   "metadata": {},
   "outputs": [],
   "source": []
  },
  {
   "cell_type": "code",
   "execution_count": null,
   "metadata": {},
   "outputs": [],
   "source": []
  }
 ],
 "metadata": {
  "kernelspec": {
   "display_name": "base",
   "language": "python",
   "name": "python3"
  },
  "language_info": {
   "codemirror_mode": {
    "name": "ipython",
    "version": 3
   },
   "file_extension": ".py",
   "mimetype": "text/x-python",
   "name": "python",
   "nbconvert_exporter": "python",
   "pygments_lexer": "ipython3",
   "version": "3.11.7"
  }
 },
 "nbformat": 4,
 "nbformat_minor": 2
}
