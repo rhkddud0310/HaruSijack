{
 "cells": [
  {
   "cell_type": "markdown",
   "metadata": {},
   "source": [
    "\n",
    "https://github.com/ForrestDPark/Transformers-for-NLP-2nd-Edition\n",
    "\n",
    "https://static.packt-cdn.com/downloads/9781803247335_ColorImages.pdf\n",
    "\n",
    "\n",
    "https://corener-demo.aiola-lab.com/?text=A%20user%20visited%20the%20allen%20tried%20a%20transformer%20model%20and%20found%20it%20interesting"
   ]
  },
  {
   "cell_type": "markdown",
   "metadata": {},
   "source": [
    "---\n",
    "### Ch 02\n",
    "- 어텐션은 단어 벡터 간의 내적을  사용하여 한 단어와 가장 밀접한 관계를 가지는 단어를 찾는다. \n",
    "이때 탐색 대상에는 자기 자신도 포함된다. "
   ]
  },
  {
   "cell_type": "code",
   "execution_count": null,
   "metadata": {},
   "outputs": [],
   "source": []
  },
  {
   "cell_type": "code",
   "execution_count": null,
   "metadata": {},
   "outputs": [],
   "source": []
  },
  {
   "cell_type": "code",
   "execution_count": null,
   "metadata": {},
   "outputs": [],
   "source": []
  },
  {
   "cell_type": "code",
   "execution_count": null,
   "metadata": {},
   "outputs": [],
   "source": []
  }
 ],
 "metadata": {
  "kernelspec": {
   "display_name": "base",
   "language": "python",
   "name": "python3"
  },
  "language_info": {
   "codemirror_mode": {
    "name": "ipython",
    "version": 3
   },
   "file_extension": ".py",
   "mimetype": "text/x-python",
   "name": "python",
   "nbconvert_exporter": "python",
   "pygments_lexer": "ipython3",
   "version": "3.1.-1"
  }
 },
 "nbformat": 4,
 "nbformat_minor": 2
}
