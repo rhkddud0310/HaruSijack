{
 "cells": [
  {
   "cell_type": "code",
   "execution_count": 6,
   "metadata": {},
   "outputs": [],
   "source": [
    "import requests\n",
    "import urllib.parse\n",
    "import pandas as pd"
   ]
  },
  {
   "cell_type": "code",
   "execution_count": 8,
   "metadata": {},
   "outputs": [],
   "source": [
    "article = pd.read_csv(\"경제_20240704_10시17분.csv\")"
   ]
  },
  {
   "cell_type": "code",
   "execution_count": 19,
   "metadata": {},
   "outputs": [
    {
     "name": "stdout",
     "output_type": "stream",
     "text": [
      "Error: 400, {\n",
      "  \"error\": {\n",
      "    \"code\": 400,\n",
      "    \"message\": \"API key not valid. Please pass a valid API key.\",\n",
      "    \"errors\": [\n",
      "      {\n",
      "        \"message\": \"API key not valid. Please pass a valid API key.\",\n",
      "        \"domain\": \"global\",\n",
      "        \"reason\": \"badRequest\"\n",
      "      }\n",
      "    ],\n",
      "    \"status\": \"INVALID_ARGUMENT\",\n",
      "    \"details\": [\n",
      "      {\n",
      "        \"@type\": \"type.googleapis.com/google.rpc.ErrorInfo\",\n",
      "        \"reason\": \"API_KEY_INVALID\",\n",
      "        \"domain\": \"googleapis.com\",\n",
      "        \"metadata\": {\n",
      "          \"service\": \"translate.googleapis.com\"\n",
      "        }\n",
      "      }\n",
      "    ]\n",
      "  }\n",
      "}\n",
      "\n",
      "번역된 텍스트가 CSV 파일로 저장되었습니다.\n"
     ]
    }
   ],
   "source": [
    "# API 키를 여기에 입력하세요\n",
    "api_key = '키값 넣는곳'\n",
    "\n",
    "korean_text = \"서 열린 ‘SV 리더스 서밋’에서 기조연설을 하고있다. (사진=SK)그룹의 중추인 SK이노베이션은\"\n",
    "\n",
    "translated_text = translate_text_with_api_key(korean_text, api_key=api_key)\n",
    "\n",
    "# 번역된 텍스트를 DataFrame으로 변환\n",
    "df = pd.DataFrame({'translated_text': [translated_text]})\n",
    "\n",
    "# DataFrame을 CSV 파일로 저장\n",
    "df.to_csv(\"경제_데이터_번역본.csv\", index=False, encoding='utf-8-sig')\n",
    "print(translated_text)\n",
    "print(\"번역된 텍스트가 CSV 파일로 저장되었습니다.\")"
   ]
  },
  {
   "cell_type": "code",
   "execution_count": 14,
   "metadata": {},
   "outputs": [
    {
     "name": "stdout",
     "output_type": "stream",
     "text": [
      "Error: 411, <!DOCTYPE html>\n",
      "<html lang=en>\n",
      "  <meta charset=utf-8>\n",
      "  <meta name=viewport content=\"initial-scale=1, minimum-scale=1, width=device-width\">\n",
      "  <title>Error 411 (Length Required)!!1</title>\n",
      "  <style>\n",
      "    *{margin:0;padding:0}html,code{font:15px/22px arial,sans-serif}html{background:#fff;color:#222;padding:15px}body{margin:7% auto 0;max-width:390px;min-height:180px;padding:30px 0 15px}* > body{background:url(//www.google.com/images/errors/robot.png) 100% 5px no-repeat;padding-right:205px}p{margin:11px 0 22px;overflow:hidden}ins{color:#777;text-decoration:none}a img{border:0}@media screen and (max-width:772px){body{background:none;margin-top:0;max-width:none;padding-right:0}}#logo{background:url(//www.google.com/images/branding/googlelogo/1x/googlelogo_color_150x54dp.png) no-repeat;margin-left:-5px}@media only screen and (min-resolution:192dpi){#logo{background:url(//www.google.com/images/branding/googlelogo/2x/googlelogo_color_150x54dp.png) no-repeat 0% 0%/100% 100%;-moz-border-image:url(//www.google.com/images/branding/googlelogo/2x/googlelogo_color_150x54dp.png) 0}}@media only screen and (-webkit-min-device-pixel-ratio:2){#logo{background:url(//www.google.com/images/branding/googlelogo/2x/googlelogo_color_150x54dp.png) no-repeat;-webkit-background-size:100% 100%}}#logo{display:inline-block;height:54px;width:150px}\n",
      "  </style>\n",
      "  <a href=//www.google.com/><span id=logo aria-label=Google></span></a>\n",
      "  <p><b>411.</b> <ins>That’s an error.</ins>\n",
      "  <p>POST requests require a <code>Content-length</code> header.  <ins>That’s all we know.</ins>\n",
      "\n",
      "번역된 텍스트가 CSV 파일로 저장되었습니다.\n"
     ]
    }
   ],
   "source": [
    "# API 키를 여기에 입력하세요\n",
    "api_key = '키 넣는곳'\n",
    "\n",
    "korean_text = \"\"\"\n",
    "[서울=뉴시스] 추상철 기자 = 20일 오후 서울 시내 상가에 임대문의 게시물이 부착돼 있다. 소상공인의 폐업으로 인한 '노란우산 공제금' 지급액이 크게 늘고 있는 것으로 나타났다. 2024.05.20. scchoo@newsis.com규제합리화 방안 추진 및 사회안전망 가입독려소상공인의 영업환경 개선을 위한 규제 합리화 방안도 도입한다. 소상공인의 금융접근성 개선을 위해선 기존에 사업주의 신용 또는 담보 중심으로 평가하던 신용평가체제를 매출액 등 사업장 정보 중심으로 개편해 개인사업자의 자금 조달을 원활하게 돕는다는 구상이다.또 개인사업자에 대한 신용평가를 고도화하기 위해 다양한 공공정보를 제공하기로 했다. 현재 국세청의 소득세 표본자료에는 근로소득세 15개 항목, 종합소득세 관련 정보 18개 항목을 제공하는데 이를 확대한다는 계획이다.  이외에도 ▲소매상인의 비축물가 판매 허용 ▲소상공인 대상 도로점용료 25% 감면 ▲무료 법률지원 서비스 대상 확대 ▲간이과세자 매출 기준 확대 및 수수료 감면 등을 통해 영업환경을 개선해 나간다는 방침이다. 두터운 생계안전망 구축을 위해선 노란우산공제, 고용보험 등 사회안전망 가입을 독려한다. 노란우산공제 납입부금에 대해 소득공제 한도를 연간 600만원으로 상향 조정하고 고용보험료 지원신청 절차를 간소화해 가입률을 높인다.\n",
    "\n",
    "\n",
    "\n",
    "[서울=뉴시스] 김근수 기자 = 1일 오후 서울 중구 명동 시내의 한 가게 앞에 임대 안내문이 붙어 있다. 2024.07.01. ks@newsis.com전문가들 \"\"소상공인 지원 실효성 의문…장기적 대책 필요\"\" 전문가들은 정부가 내놓은 소상공인 지원 대책에 대해 어려움을 겪고 있는 소상공인에게 일시적인 도움을 줄 수 있지만 실효성에 대해 의문을 표하며 장기적인 대책을 만들어야 한다고 조언했다.김광석 한국경제산업연구원 연구실장은 \"\"재정을 투입하지 않고 배달료가 인하될 수 있을 지 의문\"\"이라며 \"\"배달플랫폼 기업드에게 배달비 감소를 요구한다면 다른 부분에서 비용감소분을 채우려고 노력할 가능성이 높다\"\"고 말했다. 이정희 중앙대 경제학과 교수는 \"\"정부가 내놓은 소상공인 대책은 당장 어렵다고 하니까 도움을 줄 수 있는 일시적인 방안\"\"이라며 \"\"배달료를 정부가 계속 책임질 수 없는 만큼 생계형과 사업형으로 나눈 소상공인 대책을 제시해야 한다\"\"고 조언했다. 석병훈 이화여대 경제학과 교수는 \"\"소상공인의 성장을 촉진하기 위한 지원책은 바람직하지만 소상공인들의 채무를 조정해주는 지원책은 바람직하지 않다\"\"며 \"\"경쟁력 있는 소상공인은 소기업으로 만들고 경쟁력이 없으면 재취업할 수 있는 방안을 지원하는 정책을 펼쳐야 한다\"\"고 주장했다.\n",
    "\n",
    "\"\"\"\n",
    "\n",
    "translated_text = translate_text_with_api_key(korean_text, api_key=api_key)\n",
    "print(translated_text)\n",
    "# 번역된 텍스트를 DataFrame으로 변환\n",
    "# df = pd.DataFrame({'translated_text': [translated_text]})\n",
    "\n",
    "# # DataFrame을 CSV 파일로 저장\n",
    "# df.to_csv(\"경제_데이터_번역본.csv\", index=False, encoding='utf-8-sig')\n",
    "\n",
    "print(\"번역된 텍스트가 CSV 파일로 저장되었습니다.\")"
   ]
  },
  {
   "cell_type": "code",
   "execution_count": null,
   "metadata": {},
   "outputs": [],
   "source": []
  }
 ],
 "metadata": {
  "kernelspec": {
   "display_name": "base",
   "language": "python",
   "name": "python3"
  },
  "language_info": {
   "codemirror_mode": {
    "name": "ipython",
    "version": 3
   },
   "file_extension": ".py",
   "mimetype": "text/x-python",
   "name": "python",
   "nbconvert_exporter": "python",
   "pygments_lexer": "ipython3",
   "version": "3.11.7"
  }
 },
 "nbformat": 4,
 "nbformat_minor": 2
}
